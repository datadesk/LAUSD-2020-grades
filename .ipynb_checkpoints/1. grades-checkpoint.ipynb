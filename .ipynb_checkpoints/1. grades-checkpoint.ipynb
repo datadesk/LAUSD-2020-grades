{
 "cells": [
  {
   "cell_type": "code",
   "execution_count": 1,
   "id": "91076c6b-a71b-43c3-8154-2f8e130b818f",
   "metadata": {},
   "outputs": [],
   "source": [
    "import pandas as pd\n",
    "import altair as alt\n"
   ]
  },
  {
   "cell_type": "code",
   "execution_count": 2,
   "id": "66e2afe8-6671-4eb1-8239-caa8ad76c570",
   "metadata": {},
   "outputs": [],
   "source": [
    "pd.set_option('display.max_columns', None)"
   ]
  },
  {
   "cell_type": "markdown",
   "id": "a15db44f-590a-4843-a4e5-7f44d82a70fd",
   "metadata": {},
   "source": [
    "## Read in summary of all grades"
   ]
  },
  {
   "cell_type": "code",
   "execution_count": 24,
   "id": "0d7704ca-ff6f-492a-ab88-60de7e42c20b",
   "metadata": {},
   "outputs": [],
   "source": [
    "grades = pd.read_csv(\"all-grades-complete.csv\")"
   ]
  },
  {
   "cell_type": "code",
   "execution_count": 25,
   "id": "fa240a17-1b95-4210-ad53-4e6aca43d14b",
   "metadata": {},
   "outputs": [],
   "source": [
    "def cleanup(x):\n",
    "    season = x.split()[0]\n",
    "    year = x.split()[-1]\n",
    "    \n",
    "    final = f\"{year}-{season}\"\n",
    "    return final\n",
    "    "
   ]
  },
  {
   "cell_type": "markdown",
   "id": "332ece06-e8de-440d-925f-8bc5427abb19",
   "metadata": {},
   "source": [
    "Simplify semster column"
   ]
  },
  {
   "cell_type": "code",
   "execution_count": 36,
   "id": "c405b10e-8b10-4c14-8b15-a1ea5771c74c",
   "metadata": {},
   "outputs": [],
   "source": [
    "grades[\"school_year\"] = grades[\"Semester School Year\"].apply(cleanup)"
   ]
  },
  {
   "cell_type": "markdown",
   "id": "577ee8ac-e2e5-4770-9369-f4b060b45693",
   "metadata": {},
   "source": [
    "Clean up values that have commas, spaces and symbols"
   ]
  },
  {
   "cell_type": "code",
   "execution_count": 37,
   "id": "ac67141b-3cec-4bda-b008-648799472439",
   "metadata": {},
   "outputs": [],
   "source": [
    "grades_clean = grades.applymap(lambda x:x.replace(\",\",\"\").replace(\"%\",\"\").replace(\"‐\",\"\").replace(\" \",\"\") if type(x)==str  else x)"
   ]
  },
  {
   "cell_type": "code",
   "execution_count": 38,
   "id": "7fdd2628-afe4-42c7-bc85-fbae5cd93c0b",
   "metadata": {},
   "outputs": [],
   "source": [
    "grades_clean_cols = [x.replace(\"'\",\"\") for x in grades_clean.columns]"
   ]
  },
  {
   "cell_type": "code",
   "execution_count": 39,
   "id": "28dec553-06ca-4b52-a13c-cc982db6d880",
   "metadata": {},
   "outputs": [],
   "source": [
    "grades_clean.columns = grades_clean_cols "
   ]
  },
  {
   "cell_type": "markdown",
   "id": "4d51173a-0540-4385-abce-6cf589dd22fa",
   "metadata": {},
   "source": [
    "Get columns that are numeric"
   ]
  },
  {
   "cell_type": "code",
   "execution_count": 40,
   "id": "9f9cdb9a-29aa-4a9f-928f-6b51e42e70f4",
   "metadata": {},
   "outputs": [],
   "source": [
    "grades_no_col_list = [s for s in grades_clean.columns.to_list() if s not in [\"Grades\",\"Semester School Year\",\"school_year\"]]"
   ]
  },
  {
   "cell_type": "markdown",
   "id": "241a684b-c19c-4146-9ccf-bddf590865b4",
   "metadata": {},
   "source": [
    "Change data type"
   ]
  },
  {
   "cell_type": "code",
   "execution_count": 41,
   "id": "517851b0-bc17-48cc-afde-5279289a9a5e",
   "metadata": {},
   "outputs": [],
   "source": [
    "grades_clean[grades_no_col_list] = grades_clean[grades_no_col_list].apply(pd.to_numeric, errors=\"coerce\")"
   ]
  },
  {
   "cell_type": "markdown",
   "id": "f308390f-ad30-4319-83bc-f32386319b68",
   "metadata": {},
   "source": [
    "## Trim out fall semester only "
   ]
  },
  {
   "cell_type": "code",
   "execution_count": 43,
   "id": "968fef8c-3c77-4fcb-9d11-85e4829d1191",
   "metadata": {},
   "outputs": [],
   "source": [
    "fall_only = grades_clean[grades_clean.school_year.str.contains(\"FALL\")].sort_values(\"school_year\")"
   ]
  },
  {
   "cell_type": "code",
   "execution_count": 109,
   "id": "aad9b03d-b227-4674-bd32-93d6a8d40688",
   "metadata": {},
   "outputs": [],
   "source": [
    "fall_only_clean = fall_only[['Grades', 'Semester School Year', '# of As', '# of Bs', '# of Cs',\n",
    "       '# of Ds', '# of Fs','Total Marks','school_year']].copy()"
   ]
  },
  {
   "cell_type": "markdown",
   "id": "228491e7-d980-4e2a-bc3a-0ec5e286d9fe",
   "metadata": {},
   "source": [
    "Groupby school year and sum"
   ]
  },
  {
   "cell_type": "code",
   "execution_count": 111,
   "id": "7905c692-c62a-4f5e-a0ea-0a843db7eff7",
   "metadata": {},
   "outputs": [],
   "source": [
    "fall_combined = fall_only_clean.groupby(\"school_year\").sum().reset_index()"
   ]
  },
  {
   "cell_type": "code",
   "execution_count": 112,
   "id": "742d339b-2487-43af-b563-641566e1a433",
   "metadata": {},
   "outputs": [
    {
     "data": {
      "text/html": [
       "<div>\n",
       "<style scoped>\n",
       "    .dataframe tbody tr th:only-of-type {\n",
       "        vertical-align: middle;\n",
       "    }\n",
       "\n",
       "    .dataframe tbody tr th {\n",
       "        vertical-align: top;\n",
       "    }\n",
       "\n",
       "    .dataframe thead th {\n",
       "        text-align: right;\n",
       "    }\n",
       "</style>\n",
       "<table border=\"1\" class=\"dataframe\">\n",
       "  <thead>\n",
       "    <tr style=\"text-align: right;\">\n",
       "      <th></th>\n",
       "      <th>school_year</th>\n",
       "      <th># of As</th>\n",
       "      <th># of Bs</th>\n",
       "      <th># of Cs</th>\n",
       "      <th># of Ds</th>\n",
       "      <th># of Fs</th>\n",
       "      <th>Total Marks</th>\n",
       "    </tr>\n",
       "  </thead>\n",
       "  <tbody>\n",
       "    <tr>\n",
       "      <th>0</th>\n",
       "      <td>2018-2019-FALL</td>\n",
       "      <td>523006</td>\n",
       "      <td>383747</td>\n",
       "      <td>319368</td>\n",
       "      <td>157246</td>\n",
       "      <td>156838.0</td>\n",
       "      <td>1651223</td>\n",
       "    </tr>\n",
       "    <tr>\n",
       "      <th>1</th>\n",
       "      <td>2019-2020-FALL</td>\n",
       "      <td>527677</td>\n",
       "      <td>380665</td>\n",
       "      <td>313048</td>\n",
       "      <td>153262</td>\n",
       "      <td>146598.0</td>\n",
       "      <td>1621174</td>\n",
       "    </tr>\n",
       "    <tr>\n",
       "      <th>2</th>\n",
       "      <td>2020-2021-FALL</td>\n",
       "      <td>517985</td>\n",
       "      <td>270268</td>\n",
       "      <td>257781</td>\n",
       "      <td>236095</td>\n",
       "      <td>154518.0</td>\n",
       "      <td>1661071</td>\n",
       "    </tr>\n",
       "  </tbody>\n",
       "</table>\n",
       "</div>"
      ],
      "text/plain": [
       "      school_year  # of As  # of Bs  # of Cs  # of Ds   # of Fs  Total Marks\n",
       "0  2018-2019-FALL   523006   383747   319368   157246  156838.0      1651223\n",
       "1  2019-2020-FALL   527677   380665   313048   153262  146598.0      1621174\n",
       "2  2020-2021-FALL   517985   270268   257781   236095  154518.0      1661071"
      ]
     },
     "execution_count": 112,
     "metadata": {},
     "output_type": "execute_result"
    }
   ],
   "source": [
    "fall_combined"
   ]
  },
  {
   "cell_type": "markdown",
   "id": "5579e278-87b1-48c5-9960-bab16ab044a0",
   "metadata": {},
   "source": [
    "Sum up letter grades"
   ]
  },
  {
   "cell_type": "code",
   "execution_count": 79,
   "id": "ad7e3b09-2325-4d4c-a6e5-7920c9d8bd05",
   "metadata": {},
   "outputs": [],
   "source": [
    "fall_combined[\"total_letter_grades\"] = fall_combined[['# of As', '# of Bs', '# of Cs',\n",
    "       '# of Ds', '# of Fs']].sum(axis=1)"
   ]
  },
  {
   "cell_type": "code",
   "execution_count": 167,
   "id": "13ffa3a2-6c8e-4a92-b4b5-ad08e0e9d8c7",
   "metadata": {},
   "outputs": [],
   "source": [
    "def create_pct(df):\n",
    "    cols = [\"A\",\"B\",\"C\",\"D\",\"F\"]\n",
    "    for c in cols:\n",
    "        df[f\"{c}%\"] = df[f\"# of {c}s\"]/df.total_letter_grades *100\n",
    "        \n",
    "    return df"
   ]
  },
  {
   "cell_type": "code",
   "execution_count": 81,
   "id": "cc1e4621-f719-494c-90f0-15221490d86e",
   "metadata": {},
   "outputs": [],
   "source": [
    "fall_combined_pct = create_pct(fall_combined)"
   ]
  },
  {
   "cell_type": "code",
   "execution_count": 82,
   "id": "58b4b806-d0a1-40ee-8fcb-770e176849d9",
   "metadata": {},
   "outputs": [
    {
     "data": {
      "text/html": [
       "<div>\n",
       "<style scoped>\n",
       "    .dataframe tbody tr th:only-of-type {\n",
       "        vertical-align: middle;\n",
       "    }\n",
       "\n",
       "    .dataframe tbody tr th {\n",
       "        vertical-align: top;\n",
       "    }\n",
       "\n",
       "    .dataframe thead th {\n",
       "        text-align: right;\n",
       "    }\n",
       "</style>\n",
       "<table border=\"1\" class=\"dataframe\">\n",
       "  <thead>\n",
       "    <tr style=\"text-align: right;\">\n",
       "      <th></th>\n",
       "      <th>school_year</th>\n",
       "      <th># of As</th>\n",
       "      <th># of Bs</th>\n",
       "      <th># of Cs</th>\n",
       "      <th># of Ds</th>\n",
       "      <th># of Fs</th>\n",
       "      <th>Total Marks</th>\n",
       "      <th>total_letter_grades</th>\n",
       "      <th>A%</th>\n",
       "      <th>B%</th>\n",
       "      <th>C%</th>\n",
       "      <th>D%</th>\n",
       "      <th>F%</th>\n",
       "    </tr>\n",
       "  </thead>\n",
       "  <tbody>\n",
       "    <tr>\n",
       "      <th>0</th>\n",
       "      <td>2018-2019-FALL</td>\n",
       "      <td>523006</td>\n",
       "      <td>383747</td>\n",
       "      <td>319368</td>\n",
       "      <td>157246</td>\n",
       "      <td>156838.0</td>\n",
       "      <td>1651223</td>\n",
       "      <td>1540205.0</td>\n",
       "      <td>33.956908</td>\n",
       "      <td>24.915320</td>\n",
       "      <td>20.735422</td>\n",
       "      <td>10.209420</td>\n",
       "      <td>10.18293</td>\n",
       "    </tr>\n",
       "    <tr>\n",
       "      <th>1</th>\n",
       "      <td>2019-2020-FALL</td>\n",
       "      <td>527677</td>\n",
       "      <td>380665</td>\n",
       "      <td>313048</td>\n",
       "      <td>153262</td>\n",
       "      <td>146598.0</td>\n",
       "      <td>1621174</td>\n",
       "      <td>1521250.0</td>\n",
       "      <td>34.687067</td>\n",
       "      <td>25.023172</td>\n",
       "      <td>20.578340</td>\n",
       "      <td>10.074741</td>\n",
       "      <td>9.63668</td>\n",
       "    </tr>\n",
       "    <tr>\n",
       "      <th>2</th>\n",
       "      <td>2020-2021-FALL</td>\n",
       "      <td>517985</td>\n",
       "      <td>270268</td>\n",
       "      <td>257781</td>\n",
       "      <td>236095</td>\n",
       "      <td>154518.0</td>\n",
       "      <td>1661071</td>\n",
       "      <td>1436647.0</td>\n",
       "      <td>36.055134</td>\n",
       "      <td>18.812415</td>\n",
       "      <td>17.943239</td>\n",
       "      <td>16.433752</td>\n",
       "      <td>10.75546</td>\n",
       "    </tr>\n",
       "  </tbody>\n",
       "</table>\n",
       "</div>"
      ],
      "text/plain": [
       "      school_year  # of As  # of Bs  # of Cs  # of Ds   # of Fs  Total Marks  \\\n",
       "0  2018-2019-FALL   523006   383747   319368   157246  156838.0      1651223   \n",
       "1  2019-2020-FALL   527677   380665   313048   153262  146598.0      1621174   \n",
       "2  2020-2021-FALL   517985   270268   257781   236095  154518.0      1661071   \n",
       "\n",
       "   total_letter_grades         A%         B%         C%         D%        F%  \n",
       "0            1540205.0  33.956908  24.915320  20.735422  10.209420  10.18293  \n",
       "1            1521250.0  34.687067  25.023172  20.578340  10.074741   9.63668  \n",
       "2            1436647.0  36.055134  18.812415  17.943239  16.433752  10.75546  "
      ]
     },
     "execution_count": 82,
     "metadata": {},
     "output_type": "execute_result"
    }
   ],
   "source": [
    "fall_combined_pct"
   ]
  },
  {
   "cell_type": "markdown",
   "id": "c042a552-dd39-4d30-9758-f7c5064c499e",
   "metadata": {},
   "source": [
    "Prep for chart"
   ]
  },
  {
   "cell_type": "code",
   "execution_count": 95,
   "id": "b2f41640-5043-4570-bd98-088fde3d3267",
   "metadata": {},
   "outputs": [],
   "source": [
    "fall_only_chart = fall_combined_pct.melt(id_vars=[\"school_year\"], value_vars=fall_combined_pct.columns[8:])"
   ]
  },
  {
   "cell_type": "code",
   "execution_count": 98,
   "id": "c9cdabdb-ef5f-4765-a29b-072ca295267d",
   "metadata": {},
   "outputs": [
    {
     "data": {
      "text/html": [
       "\n",
       "<div id=\"altair-viz-1f16d829ea7941caa90514849c06410a\"></div>\n",
       "<script type=\"text/javascript\">\n",
       "  (function(spec, embedOpt){\n",
       "    let outputDiv = document.currentScript.previousElementSibling;\n",
       "    if (outputDiv.id !== \"altair-viz-1f16d829ea7941caa90514849c06410a\") {\n",
       "      outputDiv = document.getElementById(\"altair-viz-1f16d829ea7941caa90514849c06410a\");\n",
       "    }\n",
       "    const paths = {\n",
       "      \"vega\": \"https://cdn.jsdelivr.net/npm//vega@5?noext\",\n",
       "      \"vega-lib\": \"https://cdn.jsdelivr.net/npm//vega-lib?noext\",\n",
       "      \"vega-lite\": \"https://cdn.jsdelivr.net/npm//vega-lite@4.8.1?noext\",\n",
       "      \"vega-embed\": \"https://cdn.jsdelivr.net/npm//vega-embed@6?noext\",\n",
       "    };\n",
       "\n",
       "    function loadScript(lib) {\n",
       "      return new Promise(function(resolve, reject) {\n",
       "        var s = document.createElement('script');\n",
       "        s.src = paths[lib];\n",
       "        s.async = true;\n",
       "        s.onload = () => resolve(paths[lib]);\n",
       "        s.onerror = () => reject(`Error loading script: ${paths[lib]}`);\n",
       "        document.getElementsByTagName(\"head\")[0].appendChild(s);\n",
       "      });\n",
       "    }\n",
       "\n",
       "    function showError(err) {\n",
       "      outputDiv.innerHTML = `<div class=\"error\" style=\"color:red;\">${err}</div>`;\n",
       "      throw err;\n",
       "    }\n",
       "\n",
       "    function displayChart(vegaEmbed) {\n",
       "      vegaEmbed(outputDiv, spec, embedOpt)\n",
       "        .catch(err => showError(`Javascript Error: ${err.message}<br>This usually means there's a typo in your chart specification. See the javascript console for the full traceback.`));\n",
       "    }\n",
       "\n",
       "    if(typeof define === \"function\" && define.amd) {\n",
       "      requirejs.config({paths});\n",
       "      require([\"vega-embed\"], displayChart, err => showError(`Error loading script: ${err.message}`));\n",
       "    } else if (typeof vegaEmbed === \"function\") {\n",
       "      displayChart(vegaEmbed);\n",
       "    } else {\n",
       "      loadScript(\"vega\")\n",
       "        .then(() => loadScript(\"vega-lite\"))\n",
       "        .then(() => loadScript(\"vega-embed\"))\n",
       "        .catch(showError)\n",
       "        .then(() => displayChart(vegaEmbed));\n",
       "    }\n",
       "  })({\"config\": {\"view\": {\"continuousWidth\": 400, \"continuousHeight\": 300}}, \"data\": {\"name\": \"data-5b4b268330c41fb323a70a89f7e6b183\"}, \"mark\": \"bar\", \"encoding\": {\"color\": {\"type\": \"nominal\", \"field\": \"variable\"}, \"x\": {\"type\": \"nominal\", \"field\": \"school_year\"}, \"y\": {\"type\": \"quantitative\", \"field\": \"value\"}}, \"height\": 300, \"title\": \"Grades breakdown for Fall semesters\", \"width\": 400, \"$schema\": \"https://vega.github.io/schema/vega-lite/v4.8.1.json\", \"datasets\": {\"data-5b4b268330c41fb323a70a89f7e6b183\": [{\"school_year\": \"2018-2019-FALL\", \"variable\": \"A%\", \"value\": 33.95690833363091}, {\"school_year\": \"2019-2020-FALL\", \"variable\": \"A%\", \"value\": 34.68706655710764}, {\"school_year\": \"2020-2021-FALL\", \"variable\": \"A%\", \"value\": 36.05513393338795}, {\"school_year\": \"2018-2019-FALL\", \"variable\": \"B%\", \"value\": 24.915319713934185}, {\"school_year\": \"2019-2020-FALL\", \"variable\": \"B%\", \"value\": 25.02317173377157}, {\"school_year\": \"2020-2021-FALL\", \"variable\": \"B%\", \"value\": 18.812415297564396}, {\"school_year\": \"2018-2019-FALL\", \"variable\": \"C%\", \"value\": 20.73542158349051}, {\"school_year\": \"2019-2020-FALL\", \"variable\": \"C%\", \"value\": 20.578340180772393}, {\"school_year\": \"2020-2021-FALL\", \"variable\": \"C%\", \"value\": 17.943238666144154}, {\"school_year\": \"2018-2019-FALL\", \"variable\": \"D%\", \"value\": 10.209420174587148}, {\"school_year\": \"2019-2020-FALL\", \"variable\": \"D%\", \"value\": 10.074741166803616}, {\"school_year\": \"2020-2021-FALL\", \"variable\": \"D%\", \"value\": 16.433751645324147}, {\"school_year\": \"2018-2019-FALL\", \"variable\": \"F%\", \"value\": 10.182930194357246}, {\"school_year\": \"2019-2020-FALL\", \"variable\": \"F%\", \"value\": 9.636680361544782}, {\"school_year\": \"2020-2021-FALL\", \"variable\": \"F%\", \"value\": 10.75546045757935}]}}, {\"mode\": \"vega-lite\"});\n",
       "</script>"
      ],
      "text/plain": [
       "alt.Chart(...)"
      ]
     },
     "execution_count": 98,
     "metadata": {},
     "output_type": "execute_result"
    }
   ],
   "source": [
    "alt.Chart(fall_only_chart).mark_bar().encode(\n",
    "    x='school_year',\n",
    "    y='value',\n",
    "    color='variable',  \n",
    ").properties(\n",
    "    title='Grades breakdown for Fall semesters',\n",
    "    width=400,\n",
    "    height=300\n",
    ")"
   ]
  },
  {
   "cell_type": "code",
   "execution_count": 100,
   "id": "e7e89187-dd3d-4f56-948b-e941b7a934e1",
   "metadata": {},
   "outputs": [],
   "source": [
    "fall_combined_pct.to_csv(\"combined.csv\",index=False)"
   ]
  },
  {
   "cell_type": "markdown",
   "id": "b36a56a9-bac9-4e93-a45e-a26d716feb25",
   "metadata": {},
   "source": [
    "## High school"
   ]
  },
  {
   "cell_type": "code",
   "execution_count": 117,
   "id": "2a3b6120-9362-4272-92b3-03e4141fff36",
   "metadata": {},
   "outputs": [],
   "source": [
    "hs_grades = pd.read_csv(\"grades9-12-complete.csv\")"
   ]
  },
  {
   "cell_type": "code",
   "execution_count": 126,
   "id": "caef462c-36b6-404f-8723-75f853edccfe",
   "metadata": {},
   "outputs": [],
   "source": [
    "hs_grades[\"school_year\"] = hs_grades[\"Semester School Year\"].apply(cleanup)"
   ]
  },
  {
   "cell_type": "code",
   "execution_count": 119,
   "id": "9f6bcae7-8d7f-4133-9744-80ba76e28185",
   "metadata": {},
   "outputs": [],
   "source": [
    "hs_grades_clean = hs_grades.applymap(lambda x:x.replace(\"%\",\"\").replace(\",\",\"\").replace(\" \",\"\") if type(x)==str else x)"
   ]
  },
  {
   "cell_type": "code",
   "execution_count": 120,
   "id": "0ac8137f-f620-4202-a222-2246b9b01324",
   "metadata": {},
   "outputs": [],
   "source": [
    "hs_grades_clean.columns = [x.replace(\"'\",\"\") for x in hs_grades_clean.columns.to_list()]"
   ]
  },
  {
   "cell_type": "code",
   "execution_count": 121,
   "id": "fab55e05-6a7a-4ccd-bd6e-ff3f7c9f2324",
   "metadata": {},
   "outputs": [],
   "source": [
    "hs_no_col_list = hs_grades_clean.columns.to_list()"
   ]
  },
  {
   "cell_type": "code",
   "execution_count": 123,
   "id": "c427ed6e-16cd-455b-b771-315724314279",
   "metadata": {},
   "outputs": [],
   "source": [
    "hs_no_col_list = [ s for s in hs_no_col_list if s not in [\"type\",\"groupname\",\"Semester School Year\",\"school_year\"]]"
   ]
  },
  {
   "cell_type": "code",
   "execution_count": 124,
   "id": "d4353c4e-8c3f-4b53-a785-48cdc2a852ab",
   "metadata": {},
   "outputs": [],
   "source": [
    "hs_grades_clean[hs_no_col_list] =hs_grades_clean[hs_no_col_list].apply(pd.to_numeric, errors=\"coerce\")"
   ]
  },
  {
   "cell_type": "markdown",
   "id": "53bb5c0f-b6e0-469d-bf2d-57a6b5c76c42",
   "metadata": {},
   "source": [
    "Fall semester only"
   ]
  },
  {
   "cell_type": "code",
   "execution_count": 128,
   "id": "c8a0d99f-712f-4172-9222-c8b125693a20",
   "metadata": {},
   "outputs": [],
   "source": [
    "hs_fall_only = hs_grades_clean[hs_grades_clean.school_year.str.contains(\"FALL\")].sort_values(\"school_year\").copy()"
   ]
  },
  {
   "cell_type": "markdown",
   "id": "9264d17d-a7cd-4ff8-aea9-e6fed5b7b37f",
   "metadata": {},
   "source": [
    "## Middle School"
   ]
  },
  {
   "cell_type": "code",
   "execution_count": 129,
   "id": "dbd95685-c287-4d5c-a47e-593dfc687e4f",
   "metadata": {},
   "outputs": [],
   "source": [
    "middle = pd.read_csv(\"grades6-8-complete.csv\")"
   ]
  },
  {
   "cell_type": "code",
   "execution_count": 131,
   "id": "33f92b50-5164-416f-85f8-b95d538da04b",
   "metadata": {},
   "outputs": [],
   "source": [
    "middle[\"school_year\"] = middle[\"Semester School Year\"].apply(cleanup)"
   ]
  },
  {
   "cell_type": "code",
   "execution_count": 132,
   "id": "42db9b11-6edd-4097-960e-bcc21a5e380e",
   "metadata": {},
   "outputs": [],
   "source": [
    "ms_grades_clean = middle.applymap(lambda x:x.replace(\"%\",\"\").replace(\"‐\",\"\").replace(\",\",\"\").replace(\" \",\"\") if type(x)==str else x)"
   ]
  },
  {
   "cell_type": "code",
   "execution_count": 133,
   "id": "3bbff986-f473-4efb-bf8c-9545f25ff8ec",
   "metadata": {},
   "outputs": [],
   "source": [
    "ms_grades_clean.columns = [x.replace(\"'\",\"\") for x in ms_grades_clean.columns.to_list()]"
   ]
  },
  {
   "cell_type": "code",
   "execution_count": 134,
   "id": "542fe28d-e5b4-4154-915e-193c0c6b98b0",
   "metadata": {},
   "outputs": [],
   "source": [
    "ms_no_col_list = ms_grades_clean.columns.to_list()"
   ]
  },
  {
   "cell_type": "code",
   "execution_count": 136,
   "id": "35ccc8ae-4774-4881-b6b1-55b07ab08b89",
   "metadata": {},
   "outputs": [],
   "source": [
    "ms_no_col_list = [ s for s in ms_no_col_list if s not in [\"type\",\"groupname\",\"Semester School Year\",\"school_year\"]]"
   ]
  },
  {
   "cell_type": "code",
   "execution_count": 138,
   "id": "a43e4608-fc2a-4476-a44d-97403de7a0e3",
   "metadata": {},
   "outputs": [],
   "source": [
    "ms_grades_clean[ms_no_col_list]= ms_grades_clean[ms_no_col_list].apply(pd.to_numeric, errors=\"coerce\")"
   ]
  },
  {
   "cell_type": "markdown",
   "id": "447e8702-6330-4714-a693-ebbe11128b44",
   "metadata": {},
   "source": [
    "fall only"
   ]
  },
  {
   "cell_type": "code",
   "execution_count": 140,
   "id": "3a55eca4-04c1-41f7-aece-1379919589c6",
   "metadata": {},
   "outputs": [],
   "source": [
    "ms_fall_only = ms_grades_clean[ms_grades_clean.school_year.str.contains(\"FALL\")].sort_values(\"school_year\").copy()"
   ]
  },
  {
   "cell_type": "markdown",
   "id": "0e7c666c-e578-4369-959e-4d5a173c13ba",
   "metadata": {},
   "source": [
    "## COMBINE ALL"
   ]
  },
  {
   "cell_type": "code",
   "execution_count": 148,
   "id": "616c6ce7-f598-4199-b421-54fca391fe37",
   "metadata": {},
   "outputs": [],
   "source": [
    "combined_cols = ['type','groupname', 'Semester School Year', '# of As', '# of Bs',\n",
    "       '# of Cs', '# of Ds', '# of Fs','school_year']"
   ]
  },
  {
   "cell_type": "code",
   "execution_count": 177,
   "id": "a44b5d08-1337-420b-9f39-4706aeafab26",
   "metadata": {},
   "outputs": [],
   "source": [
    "hs_ms_fall = pd.concat([ms_fall_only[combined_cols],hs_fall_only[combined_cols]])"
   ]
  },
  {
   "cell_type": "code",
   "execution_count": 178,
   "id": "a64e1805-e7e9-4816-bce2-59551c8d4d56",
   "metadata": {},
   "outputs": [
    {
     "data": {
      "text/plain": [
       "ethnicity    54\n",
       "group        18\n",
       "Name: type, dtype: int64"
      ]
     },
     "execution_count": 178,
     "metadata": {},
     "output_type": "execute_result"
    }
   ],
   "source": [
    "hs_ms_fall.type.value_counts()"
   ]
  },
  {
   "cell_type": "code",
   "execution_count": 179,
   "id": "1054ae9a-5398-4a2b-bcca-0ac6e0f6b917",
   "metadata": {},
   "outputs": [],
   "source": [
    "hs_ms_fall_combined= hs_ms_fall.groupby([\"type\",\"groupname\",\"school_year\"]).sum().reset_index()"
   ]
  },
  {
   "cell_type": "code",
   "execution_count": 180,
   "id": "01a42cca-907b-4314-92aa-7675f65f1ef3",
   "metadata": {},
   "outputs": [],
   "source": [
    "hs_ms_fall_combined[\"total_letter_grades\"] = hs_ms_fall_combined[['# of As', '# of Bs', '# of Cs',\n",
    "       '# of Ds', '# of Fs']].sum(axis=1)"
   ]
  },
  {
   "cell_type": "markdown",
   "id": "122e787b-c862-4727-9658-b93aba16bf3d",
   "metadata": {},
   "source": [
    "Combine Asian / Filipino"
   ]
  },
  {
   "cell_type": "code",
   "execution_count": 181,
   "id": "c6bdeaaf-09f5-4e47-af99-93d7770e687c",
   "metadata": {},
   "outputs": [],
   "source": [
    "asian_filipino = hs_ms_fall_combined[hs_ms_fall_combined.groupname.isin([\"ASIAN\",\"FILIPINO\"])].groupby(\"school_year\").sum().reset_index()"
   ]
  },
  {
   "cell_type": "code",
   "execution_count": 182,
   "id": "f8224d11-8596-4ee4-ab08-2295539845ff",
   "metadata": {},
   "outputs": [],
   "source": [
    "asian_filipino[\"groupname\"] = \"Asian/Filipino\""
   ]
  },
  {
   "cell_type": "code",
   "execution_count": 183,
   "id": "3e6f109d-d578-4634-9cc7-ef46e05cbf6c",
   "metadata": {},
   "outputs": [],
   "source": [
    "asian_filipino[\"type\"] = \"ethnicity\""
   ]
  },
  {
   "cell_type": "code",
   "execution_count": 184,
   "id": "9af9af8a-274d-4cbe-859e-7504679de4a9",
   "metadata": {},
   "outputs": [],
   "source": [
    "hs_ms_fall_grouped = hs_ms_fall_combined.append(asian_filipino)"
   ]
  },
  {
   "cell_type": "code",
   "execution_count": 192,
   "id": "82d23550-ce94-4610-b89b-0ba5efa2bc5d",
   "metadata": {},
   "outputs": [],
   "source": [
    "hs_ms_fall_grouped_pct = create_pct(hs_ms_fall_grouped)"
   ]
  },
  {
   "cell_type": "code",
   "execution_count": 193,
   "id": "6617d309-d87f-48d7-ab8f-acea8ad3d2cb",
   "metadata": {},
   "outputs": [],
   "source": [
    "hs_ms_fall_grouped_pct[\"A-C%\"] = hs_ms_fall_grouped_pct[['A%', 'B%', 'C%']].sum(axis=1)"
   ]
  },
  {
   "cell_type": "code",
   "execution_count": 194,
   "id": "08e843b0-8587-4e95-9385-1d2f58cab852",
   "metadata": {},
   "outputs": [],
   "source": [
    "hs_ms_fall_grouped_pct[\"groupname\"] = hs_ms_fall_grouped_pct[\"groupname\"].apply(lambda x: x.lower())"
   ]
  },
  {
   "cell_type": "markdown",
   "id": "354dd23a-d56b-44de-a116-5782e49b3766",
   "metadata": {},
   "source": [
    "## Calculate changes"
   ]
  },
  {
   "cell_type": "code",
   "execution_count": 196,
   "id": "5d8bb6bd-6a6b-437f-b835-4afd30f8bb18",
   "metadata": {},
   "outputs": [],
   "source": [
    "hs_ms_fall_grouped_pct.reset_index(drop=True, inplace=True)"
   ]
  },
  {
   "cell_type": "code",
   "execution_count": 197,
   "id": "74d8a947-093f-4783-8499-aded493d0e73",
   "metadata": {},
   "outputs": [],
   "source": [
    "hs_ms_fall_grouped_pct[\"A-C%_pt_change\"] = hs_ms_fall_grouped_pct.groupby([\"groupname\",\"type\"])[\"A-C%\"].diff()"
   ]
  },
  {
   "cell_type": "markdown",
   "id": "b11852b3-3369-47d6-ace3-5266e8456cb4",
   "metadata": {},
   "source": [
    "Which group had large changes?"
   ]
  },
  {
   "cell_type": "code",
   "execution_count": 200,
   "id": "4c7e0c95-60a3-4d04-9f80-36dbae3a1890",
   "metadata": {},
   "outputs": [
    {
     "data": {
      "text/html": [
       "<div>\n",
       "<style scoped>\n",
       "    .dataframe tbody tr th:only-of-type {\n",
       "        vertical-align: middle;\n",
       "    }\n",
       "\n",
       "    .dataframe tbody tr th {\n",
       "        vertical-align: top;\n",
       "    }\n",
       "\n",
       "    .dataframe thead th {\n",
       "        text-align: right;\n",
       "    }\n",
       "</style>\n",
       "<table border=\"1\" class=\"dataframe\">\n",
       "  <thead>\n",
       "    <tr style=\"text-align: right;\">\n",
       "      <th></th>\n",
       "      <th>type</th>\n",
       "      <th>groupname</th>\n",
       "      <th>school_year</th>\n",
       "      <th># of As</th>\n",
       "      <th># of Bs</th>\n",
       "      <th># of Cs</th>\n",
       "      <th># of Ds</th>\n",
       "      <th># of Fs</th>\n",
       "      <th>total_letter_grades</th>\n",
       "      <th>A%</th>\n",
       "      <th>B%</th>\n",
       "      <th>C%</th>\n",
       "      <th>D%</th>\n",
       "      <th>F%</th>\n",
       "      <th>A-C%</th>\n",
       "      <th>A-C%_pt_change</th>\n",
       "    </tr>\n",
       "  </thead>\n",
       "  <tbody>\n",
       "    <tr>\n",
       "      <th>20</th>\n",
       "      <td>ethnicity</td>\n",
       "      <td>pacificislander</td>\n",
       "      <td>2020-2021-FALL</td>\n",
       "      <td>533</td>\n",
       "      <td>232</td>\n",
       "      <td>267</td>\n",
       "      <td>276</td>\n",
       "      <td>167.0</td>\n",
       "      <td>1475.0</td>\n",
       "      <td>36.135593</td>\n",
       "      <td>15.728814</td>\n",
       "      <td>18.101695</td>\n",
       "      <td>18.711864</td>\n",
       "      <td>11.322034</td>\n",
       "      <td>69.966102</td>\n",
       "      <td>-13.537142</td>\n",
       "    </tr>\n",
       "    <tr>\n",
       "      <th>29</th>\n",
       "      <td>group</td>\n",
       "      <td>englishlearners</td>\n",
       "      <td>2020-2021-FALL</td>\n",
       "      <td>38734</td>\n",
       "      <td>30388</td>\n",
       "      <td>39331</td>\n",
       "      <td>44163</td>\n",
       "      <td>32203.0</td>\n",
       "      <td>184819.0</td>\n",
       "      <td>20.957802</td>\n",
       "      <td>16.442032</td>\n",
       "      <td>21.280821</td>\n",
       "      <td>23.895271</td>\n",
       "      <td>17.424074</td>\n",
       "      <td>58.680655</td>\n",
       "      <td>-11.403705</td>\n",
       "    </tr>\n",
       "    <tr>\n",
       "      <th>32</th>\n",
       "      <td>group</td>\n",
       "      <td>fostercareyouth</td>\n",
       "      <td>2020-2021-FALL</td>\n",
       "      <td>3959</td>\n",
       "      <td>2907</td>\n",
       "      <td>3914</td>\n",
       "      <td>4799</td>\n",
       "      <td>3581.0</td>\n",
       "      <td>19160.0</td>\n",
       "      <td>20.662839</td>\n",
       "      <td>15.172234</td>\n",
       "      <td>20.427975</td>\n",
       "      <td>25.046973</td>\n",
       "      <td>18.689979</td>\n",
       "      <td>56.263048</td>\n",
       "      <td>-9.524130</td>\n",
       "    </tr>\n",
       "    <tr>\n",
       "      <th>14</th>\n",
       "      <td>ethnicity</td>\n",
       "      <td>hispanic</td>\n",
       "      <td>2020-2021-FALL</td>\n",
       "      <td>349113</td>\n",
       "      <td>204190</td>\n",
       "      <td>205734</td>\n",
       "      <td>193676</td>\n",
       "      <td>132810.0</td>\n",
       "      <td>1085523.0</td>\n",
       "      <td>32.160811</td>\n",
       "      <td>18.810288</td>\n",
       "      <td>18.952523</td>\n",
       "      <td>17.841722</td>\n",
       "      <td>12.234656</td>\n",
       "      <td>69.923622</td>\n",
       "      <td>-8.656708</td>\n",
       "    </tr>\n",
       "    <tr>\n",
       "      <th>35</th>\n",
       "      <td>group</td>\n",
       "      <td>socioeconomicallydisadvantaged</td>\n",
       "      <td>2020-2021-FALL</td>\n",
       "      <td>416042</td>\n",
       "      <td>233811</td>\n",
       "      <td>234241</td>\n",
       "      <td>218051</td>\n",
       "      <td>145335.0</td>\n",
       "      <td>1247480.0</td>\n",
       "      <td>33.350595</td>\n",
       "      <td>18.742665</td>\n",
       "      <td>18.777135</td>\n",
       "      <td>17.479318</td>\n",
       "      <td>11.650287</td>\n",
       "      <td>70.870395</td>\n",
       "      <td>-8.204078</td>\n",
       "    </tr>\n",
       "    <tr>\n",
       "      <th>2</th>\n",
       "      <td>ethnicity</td>\n",
       "      <td>americanindian/alaskanative</td>\n",
       "      <td>2020-2021-FALL</td>\n",
       "      <td>663</td>\n",
       "      <td>392</td>\n",
       "      <td>358</td>\n",
       "      <td>319</td>\n",
       "      <td>198.0</td>\n",
       "      <td>1930.0</td>\n",
       "      <td>34.352332</td>\n",
       "      <td>20.310881</td>\n",
       "      <td>18.549223</td>\n",
       "      <td>16.528497</td>\n",
       "      <td>10.259067</td>\n",
       "      <td>73.212435</td>\n",
       "      <td>-6.978769</td>\n",
       "    </tr>\n",
       "    <tr>\n",
       "      <th>23</th>\n",
       "      <td>ethnicity</td>\n",
       "      <td>twoormore</td>\n",
       "      <td>2020-2021-FALL</td>\n",
       "      <td>1672</td>\n",
       "      <td>811</td>\n",
       "      <td>632</td>\n",
       "      <td>632</td>\n",
       "      <td>269.0</td>\n",
       "      <td>4016.0</td>\n",
       "      <td>41.633466</td>\n",
       "      <td>20.194223</td>\n",
       "      <td>15.737052</td>\n",
       "      <td>15.737052</td>\n",
       "      <td>6.698207</td>\n",
       "      <td>77.564741</td>\n",
       "      <td>-5.950131</td>\n",
       "    </tr>\n",
       "    <tr>\n",
       "      <th>17</th>\n",
       "      <td>ethnicity</td>\n",
       "      <td>other</td>\n",
       "      <td>2020-2021-FALL</td>\n",
       "      <td>13258</td>\n",
       "      <td>4702</td>\n",
       "      <td>3300</td>\n",
       "      <td>2782</td>\n",
       "      <td>1427.0</td>\n",
       "      <td>25469.0</td>\n",
       "      <td>52.055440</td>\n",
       "      <td>18.461659</td>\n",
       "      <td>12.956928</td>\n",
       "      <td>10.923083</td>\n",
       "      <td>5.602890</td>\n",
       "      <td>83.474027</td>\n",
       "      <td>-5.406337</td>\n",
       "    </tr>\n",
       "    <tr>\n",
       "      <th>8</th>\n",
       "      <td>ethnicity</td>\n",
       "      <td>black</td>\n",
       "      <td>2020-2021-FALL</td>\n",
       "      <td>33347</td>\n",
       "      <td>21402</td>\n",
       "      <td>22897</td>\n",
       "      <td>20141</td>\n",
       "      <td>10497.0</td>\n",
       "      <td>108284.0</td>\n",
       "      <td>30.795870</td>\n",
       "      <td>19.764693</td>\n",
       "      <td>21.145322</td>\n",
       "      <td>18.600163</td>\n",
       "      <td>9.693953</td>\n",
       "      <td>71.705885</td>\n",
       "      <td>-4.270037</td>\n",
       "    </tr>\n",
       "    <tr>\n",
       "      <th>26</th>\n",
       "      <td>ethnicity</td>\n",
       "      <td>white</td>\n",
       "      <td>2020-2021-FALL</td>\n",
       "      <td>67194</td>\n",
       "      <td>24264</td>\n",
       "      <td>16366</td>\n",
       "      <td>12615</td>\n",
       "      <td>6472.0</td>\n",
       "      <td>126911.0</td>\n",
       "      <td>52.945765</td>\n",
       "      <td>19.118910</td>\n",
       "      <td>12.895651</td>\n",
       "      <td>9.940037</td>\n",
       "      <td>5.099637</td>\n",
       "      <td>84.960327</td>\n",
       "      <td>-3.793784</td>\n",
       "    </tr>\n",
       "  </tbody>\n",
       "</table>\n",
       "</div>"
      ],
      "text/plain": [
       "         type                       groupname     school_year  # of As  \\\n",
       "20  ethnicity                 pacificislander  2020-2021-FALL      533   \n",
       "29      group                 englishlearners  2020-2021-FALL    38734   \n",
       "32      group                 fostercareyouth  2020-2021-FALL     3959   \n",
       "14  ethnicity                        hispanic  2020-2021-FALL   349113   \n",
       "35      group  socioeconomicallydisadvantaged  2020-2021-FALL   416042   \n",
       "2   ethnicity     americanindian/alaskanative  2020-2021-FALL      663   \n",
       "23  ethnicity                       twoormore  2020-2021-FALL     1672   \n",
       "17  ethnicity                           other  2020-2021-FALL    13258   \n",
       "8   ethnicity                           black  2020-2021-FALL    33347   \n",
       "26  ethnicity                           white  2020-2021-FALL    67194   \n",
       "\n",
       "    # of Bs  # of Cs  # of Ds   # of Fs  total_letter_grades         A%  \\\n",
       "20      232      267      276     167.0               1475.0  36.135593   \n",
       "29    30388    39331    44163   32203.0             184819.0  20.957802   \n",
       "32     2907     3914     4799    3581.0              19160.0  20.662839   \n",
       "14   204190   205734   193676  132810.0            1085523.0  32.160811   \n",
       "35   233811   234241   218051  145335.0            1247480.0  33.350595   \n",
       "2       392      358      319     198.0               1930.0  34.352332   \n",
       "23      811      632      632     269.0               4016.0  41.633466   \n",
       "17     4702     3300     2782    1427.0              25469.0  52.055440   \n",
       "8     21402    22897    20141   10497.0             108284.0  30.795870   \n",
       "26    24264    16366    12615    6472.0             126911.0  52.945765   \n",
       "\n",
       "           B%         C%         D%         F%       A-C%  A-C%_pt_change  \n",
       "20  15.728814  18.101695  18.711864  11.322034  69.966102      -13.537142  \n",
       "29  16.442032  21.280821  23.895271  17.424074  58.680655      -11.403705  \n",
       "32  15.172234  20.427975  25.046973  18.689979  56.263048       -9.524130  \n",
       "14  18.810288  18.952523  17.841722  12.234656  69.923622       -8.656708  \n",
       "35  18.742665  18.777135  17.479318  11.650287  70.870395       -8.204078  \n",
       "2   20.310881  18.549223  16.528497  10.259067  73.212435       -6.978769  \n",
       "23  20.194223  15.737052  15.737052   6.698207  77.564741       -5.950131  \n",
       "17  18.461659  12.956928  10.923083   5.602890  83.474027       -5.406337  \n",
       "8   19.764693  21.145322  18.600163   9.693953  71.705885       -4.270037  \n",
       "26  19.118910  12.895651   9.940037   5.099637  84.960327       -3.793784  "
      ]
     },
     "execution_count": 200,
     "metadata": {},
     "output_type": "execute_result"
    }
   ],
   "source": [
    "hs_ms_fall_grouped_pct.sort_values(\"A-C%_pt_change\").head(10)"
   ]
  },
  {
   "cell_type": "code",
   "execution_count": 223,
   "id": "b1ec6d06-4df4-43a1-aa53-d3d137995a38",
   "metadata": {},
   "outputs": [
    {
     "data": {
      "text/plain": [
       "0     100.0\n",
       "1     100.0\n",
       "2     100.0\n",
       "3     100.0\n",
       "4     100.0\n",
       "5     100.0\n",
       "6     100.0\n",
       "7     100.0\n",
       "8     100.0\n",
       "9     100.0\n",
       "10    100.0\n",
       "11    100.0\n",
       "12    100.0\n",
       "13    100.0\n",
       "14    100.0\n",
       "15    100.0\n",
       "16    100.0\n",
       "17    100.0\n",
       "18    100.0\n",
       "19    100.0\n",
       "20    100.0\n",
       "21    100.0\n",
       "22    100.0\n",
       "23    100.0\n",
       "24    100.0\n",
       "25    100.0\n",
       "26    100.0\n",
       "27    100.0\n",
       "28    100.0\n",
       "29    100.0\n",
       "30    100.0\n",
       "31    100.0\n",
       "32    100.0\n",
       "33    100.0\n",
       "34    100.0\n",
       "35    100.0\n",
       "36    100.0\n",
       "37    100.0\n",
       "38    100.0\n",
       "dtype: float64"
      ]
     },
     "execution_count": 223,
     "metadata": {},
     "output_type": "execute_result"
    }
   ],
   "source": [
    "hs_ms_fall_grouped_pct[['A%', 'B%', 'C%',\n",
    "       'D%', 'F%']].sum(axis=1)"
   ]
  },
  {
   "cell_type": "markdown",
   "id": "375293fe-b32a-4d4b-8e8b-a43a7196e7ec",
   "metadata": {},
   "source": [
    "## pivot for chart"
   ]
  },
  {
   "cell_type": "code",
   "execution_count": 207,
   "id": "4f098424-2e24-4ea6-bef3-29fac6a17aed",
   "metadata": {},
   "outputs": [],
   "source": [
    "hs_ms_fall_trim = hs_ms_fall_grouped_pct[(hs_ms_fall_grouped_pct.type == \"ethnicity\")&(hs_ms_fall_grouped_pct.school_year.isin([\"2019-2020-FALL\",\"2020-2021-FALL\",]))][['groupname','school_year','A-C%']].copy()"
   ]
  },
  {
   "cell_type": "code",
   "execution_count": 210,
   "id": "6ed04477-644d-489b-a445-3c4455f34385",
   "metadata": {},
   "outputs": [],
   "source": [
    "hs_ms_fall_final = hs_ms_fall_trim[~hs_ms_fall_trim.groupname.isin([\"asian\",\"filipino\"])].copy()"
   ]
  },
  {
   "cell_type": "code",
   "execution_count": 211,
   "id": "904a0296-83f4-4b53-9d9c-9e023808385e",
   "metadata": {},
   "outputs": [],
   "source": [
    "hs_ms_fall_final[\"school_year\"] = hs_ms_fall_final[\"school_year\"].apply(lambda x: x.split(\"-\")[0])"
   ]
  },
  {
   "cell_type": "code",
   "execution_count": 214,
   "id": "041cf528-b31c-440f-99c0-4c83bd619b74",
   "metadata": {},
   "outputs": [],
   "source": [
    "hs_ms_fall_final_chart = hs_ms_fall_final.pivot(index='groupname',columns='school_year').reset_index()"
   ]
  },
  {
   "cell_type": "code",
   "execution_count": 215,
   "id": "1bf3797c-dc9e-4536-97ca-e9c81e0265ef",
   "metadata": {},
   "outputs": [
    {
     "data": {
      "text/html": [
       "<div>\n",
       "<style scoped>\n",
       "    .dataframe tbody tr th:only-of-type {\n",
       "        vertical-align: middle;\n",
       "    }\n",
       "\n",
       "    .dataframe tbody tr th {\n",
       "        vertical-align: top;\n",
       "    }\n",
       "\n",
       "    .dataframe thead tr th {\n",
       "        text-align: left;\n",
       "    }\n",
       "</style>\n",
       "<table border=\"1\" class=\"dataframe\">\n",
       "  <thead>\n",
       "    <tr>\n",
       "      <th></th>\n",
       "      <th>groupname</th>\n",
       "      <th colspan=\"2\" halign=\"left\">A-C%</th>\n",
       "    </tr>\n",
       "    <tr>\n",
       "      <th>school_year</th>\n",
       "      <th></th>\n",
       "      <th>2019</th>\n",
       "      <th>2020</th>\n",
       "    </tr>\n",
       "  </thead>\n",
       "  <tbody>\n",
       "    <tr>\n",
       "      <th>0</th>\n",
       "      <td>americanindian/alaskanative</td>\n",
       "      <td>80.191205</td>\n",
       "      <td>73.212435</td>\n",
       "    </tr>\n",
       "    <tr>\n",
       "      <th>1</th>\n",
       "      <td>asian/filipino</td>\n",
       "      <td>93.232183</td>\n",
       "      <td>89.966160</td>\n",
       "    </tr>\n",
       "    <tr>\n",
       "      <th>2</th>\n",
       "      <td>black</td>\n",
       "      <td>75.975922</td>\n",
       "      <td>71.705885</td>\n",
       "    </tr>\n",
       "    <tr>\n",
       "      <th>3</th>\n",
       "      <td>hispanic</td>\n",
       "      <td>78.580330</td>\n",
       "      <td>69.923622</td>\n",
       "    </tr>\n",
       "    <tr>\n",
       "      <th>4</th>\n",
       "      <td>other</td>\n",
       "      <td>88.880364</td>\n",
       "      <td>83.474027</td>\n",
       "    </tr>\n",
       "    <tr>\n",
       "      <th>5</th>\n",
       "      <td>pacificislander</td>\n",
       "      <td>83.503244</td>\n",
       "      <td>69.966102</td>\n",
       "    </tr>\n",
       "    <tr>\n",
       "      <th>6</th>\n",
       "      <td>twoormore</td>\n",
       "      <td>83.514872</td>\n",
       "      <td>77.564741</td>\n",
       "    </tr>\n",
       "    <tr>\n",
       "      <th>7</th>\n",
       "      <td>white</td>\n",
       "      <td>88.754111</td>\n",
       "      <td>84.960327</td>\n",
       "    </tr>\n",
       "  </tbody>\n",
       "</table>\n",
       "</div>"
      ],
      "text/plain": [
       "                               groupname       A-C%           \n",
       "school_year                                    2019       2020\n",
       "0            americanindian/alaskanative  80.191205  73.212435\n",
       "1                         asian/filipino  93.232183  89.966160\n",
       "2                                  black  75.975922  71.705885\n",
       "3                               hispanic  78.580330  69.923622\n",
       "4                                  other  88.880364  83.474027\n",
       "5                        pacificislander  83.503244  69.966102\n",
       "6                              twoormore  83.514872  77.564741\n",
       "7                                  white  88.754111  84.960327"
      ]
     },
     "execution_count": 215,
     "metadata": {},
     "output_type": "execute_result"
    }
   ],
   "source": [
    "hs_ms_fall_final_chart"
   ]
  },
  {
   "cell_type": "code",
   "execution_count": 217,
   "id": "62627628-df62-462c-ae7c-3c47283f76dd",
   "metadata": {},
   "outputs": [],
   "source": [
    "hs_ms_fall_final_chart.to_csv(\"combined-detail.csv\",index=False)"
   ]
  }
 ],
 "metadata": {
  "kernelspec": {
   "display_name": "Python 3 (ipykernel)",
   "language": "python",
   "name": "python3"
  },
  "language_info": {
   "codemirror_mode": {
    "name": "ipython",
    "version": 3
   },
   "file_extension": ".py",
   "mimetype": "text/x-python",
   "name": "python",
   "nbconvert_exporter": "python",
   "pygments_lexer": "ipython3",
   "version": "3.9.6"
  }
 },
 "nbformat": 4,
 "nbformat_minor": 5
}
