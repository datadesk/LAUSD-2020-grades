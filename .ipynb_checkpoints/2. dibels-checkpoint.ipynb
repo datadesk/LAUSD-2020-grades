{
 "cells": [
  {
   "cell_type": "code",
   "execution_count": 47,
   "id": "c21708e0-b121-4b4e-b2be-0412957bdef8",
   "metadata": {},
   "outputs": [],
   "source": [
    "import pandas as pd"
   ]
  },
  {
   "cell_type": "code",
   "execution_count": 48,
   "id": "2e02c37a-ef72-4260-abd2-92384bf18352",
   "metadata": {},
   "outputs": [],
   "source": [
    "dibels_raw = pd.read_csv(\"dibels.csv\", thousands=',')"
   ]
  },
  {
   "cell_type": "code",
   "execution_count": 49,
   "id": "c1b7adda-fcd8-4799-81d4-1c4492bb83ff",
   "metadata": {},
   "outputs": [],
   "source": [
    "dibels_raw.columns = [ c.replace(\"\\r\",\"\") for c in dibels_raw.columns.tolist()]"
   ]
  },
  {
   "cell_type": "code",
   "execution_count": 50,
   "id": "31602f78-1ca8-4043-bafc-46cdff039554",
   "metadata": {},
   "outputs": [
    {
     "data": {
      "text/plain": [
       "2018-19    54\n",
       "2019-20    36\n",
       "2020-21    36\n",
       "Name: SchoolYear, dtype: int64"
      ]
     },
     "execution_count": 50,
     "metadata": {},
     "output_type": "execute_result"
    }
   ],
   "source": [
    "dibels_raw.SchoolYear.value_counts()"
   ]
  },
  {
   "cell_type": "code",
   "execution_count": 51,
   "id": "06c6348c-daca-4e5f-b5d0-1d7723e4d453",
   "metadata": {},
   "outputs": [
    {
     "data": {
      "text/plain": [
       "1 BOY    54\n",
       "2 MOY    54\n",
       "3 EOY    18\n",
       "Name: DIBELSTestAdministration, dtype: int64"
      ]
     },
     "execution_count": 51,
     "metadata": {},
     "output_type": "execute_result"
    }
   ],
   "source": [
    "dibels_raw.DIBELSTestAdministration.value_counts()"
   ]
  },
  {
   "cell_type": "code",
   "execution_count": 96,
   "id": "629cfdcf-a8dc-4ad0-9dbf-19621477e5e4",
   "metadata": {},
   "outputs": [],
   "source": [
    "dibels_trim= dibels_raw[(dibels_raw.SchoolYear != \"2018-19\")&(dibels_raw.DIBELSTestAdministration == '2 MOY')].copy()"
   ]
  },
  {
   "cell_type": "code",
   "execution_count": 97,
   "id": "06bbe00c-b95d-430f-acdd-694f72112e18",
   "metadata": {},
   "outputs": [
    {
     "data": {
      "text/plain": [
       "Index(['SchoolYear', 'DIBELSTestAdministration', 'Student Group',\n",
       "       'ABOVEBENCHMARK', 'BENCHMARK', 'BELOWBENCHMARK', 'WELLBELOWBENCHMARK',\n",
       "       'Total Tested', '% ABOVEBENCHMARK', '%BENCHMARK', '% BELOWBENCHMARK',\n",
       "       '% WELLBELOWBENCHMARK'],\n",
       "      dtype='object')"
      ]
     },
     "execution_count": 97,
     "metadata": {},
     "output_type": "execute_result"
    }
   ],
   "source": [
    "dibels_trim.columns"
   ]
  },
  {
   "cell_type": "code",
   "execution_count": 98,
   "id": "11c0af85-c91f-4d28-974f-f3a9a52a7023",
   "metadata": {},
   "outputs": [
    {
     "data": {
      "text/plain": [
       "All                               2\n",
       "African American                  2\n",
       "Grade K                           2\n",
       "Grade 5                           2\n",
       "Grade 4                           2\n",
       "Grade 3                           2\n",
       "Grade 2                           2\n",
       "Grade 1                           2\n",
       "English Learner                   2\n",
       "White                             2\n",
       "Two or More (Ethnicity)           2\n",
       "Pacific Islander                  2\n",
       "Other (Ethnicity)                 2\n",
       "Hispanic                          2\n",
       "Filipino                          2\n",
       "Asian                             2\n",
       "American Indian /Alaska Native    2\n",
       "Grade TK                          2\n",
       "Name: Student Group, dtype: int64"
      ]
     },
     "execution_count": 98,
     "metadata": {},
     "output_type": "execute_result"
    }
   ],
   "source": [
    "dibels_trim[\"Student Group\"].value_counts()\n"
   ]
  },
  {
   "cell_type": "code",
   "execution_count": 99,
   "id": "a710be7b-26fa-40ad-a55c-28a1bdcd17d0",
   "metadata": {},
   "outputs": [],
   "source": [
    "a_f = dibels_trim[dibels_trim[\"Student Group\"].isin([\"Asian\", \"Filipino\"])]"
   ]
  },
  {
   "cell_type": "code",
   "execution_count": 105,
   "id": "90702245-b5c8-45c9-9d53-3c4f312f415a",
   "metadata": {},
   "outputs": [],
   "source": [
    "af = a_f.groupby(\"SchoolYear\").sum().reset_index()"
   ]
  },
  {
   "cell_type": "code",
   "execution_count": 106,
   "id": "400949ac-2517-490d-8d8c-b5fc8d90f5e6",
   "metadata": {},
   "outputs": [],
   "source": [
    "af[\"Student Group\"] = \"asian/filipino\""
   ]
  },
  {
   "cell_type": "code",
   "execution_count": 107,
   "id": "c9ccf77c-9eb3-429a-98cb-8ce332573c56",
   "metadata": {},
   "outputs": [
    {
     "data": {
      "text/html": [
       "<div>\n",
       "<style scoped>\n",
       "    .dataframe tbody tr th:only-of-type {\n",
       "        vertical-align: middle;\n",
       "    }\n",
       "\n",
       "    .dataframe tbody tr th {\n",
       "        vertical-align: top;\n",
       "    }\n",
       "\n",
       "    .dataframe thead th {\n",
       "        text-align: right;\n",
       "    }\n",
       "</style>\n",
       "<table border=\"1\" class=\"dataframe\">\n",
       "  <thead>\n",
       "    <tr style=\"text-align: right;\">\n",
       "      <th></th>\n",
       "      <th>SchoolYear</th>\n",
       "      <th>ABOVEBENCHMARK</th>\n",
       "      <th>BENCHMARK</th>\n",
       "      <th>BELOWBENCHMARK</th>\n",
       "      <th>WELLBELOWBENCHMARK</th>\n",
       "      <th>Total Tested</th>\n",
       "      <th>Student Group</th>\n",
       "    </tr>\n",
       "  </thead>\n",
       "  <tbody>\n",
       "    <tr>\n",
       "      <th>0</th>\n",
       "      <td>2019-20</td>\n",
       "      <td>5214</td>\n",
       "      <td>3120</td>\n",
       "      <td>1095</td>\n",
       "      <td>1176</td>\n",
       "      <td>10605</td>\n",
       "      <td>asian/filipino</td>\n",
       "    </tr>\n",
       "    <tr>\n",
       "      <th>1</th>\n",
       "      <td>2020-21</td>\n",
       "      <td>5172</td>\n",
       "      <td>2894</td>\n",
       "      <td>997</td>\n",
       "      <td>1269</td>\n",
       "      <td>10332</td>\n",
       "      <td>asian/filipino</td>\n",
       "    </tr>\n",
       "  </tbody>\n",
       "</table>\n",
       "</div>"
      ],
      "text/plain": [
       "  SchoolYear  ABOVEBENCHMARK  BENCHMARK  BELOWBENCHMARK  WELLBELOWBENCHMARK  \\\n",
       "0    2019-20            5214       3120            1095                1176   \n",
       "1    2020-21            5172       2894             997                1269   \n",
       "\n",
       "   Total Tested   Student Group  \n",
       "0         10605  asian/filipino  \n",
       "1         10332  asian/filipino  "
      ]
     },
     "execution_count": 107,
     "metadata": {},
     "output_type": "execute_result"
    }
   ],
   "source": [
    "af"
   ]
  },
  {
   "cell_type": "code",
   "execution_count": 110,
   "id": "0f312320-c63b-46ad-9210-f77f05acab15",
   "metadata": {},
   "outputs": [],
   "source": [
    "dibels_trim = pd.concat([dibels_trim,af])"
   ]
  },
  {
   "cell_type": "code",
   "execution_count": 111,
   "id": "295ac3d9-79b3-42fe-b4c7-40290a0556e0",
   "metadata": {},
   "outputs": [],
   "source": [
    "dibels_trim[\"met_or_above\"] = dibels_trim[['ABOVEBENCHMARK', 'BENCHMARK']].sum(axis=1)"
   ]
  },
  {
   "cell_type": "code",
   "execution_count": 112,
   "id": "d8f019cb-4138-4b1e-8a10-d72f8401017a",
   "metadata": {},
   "outputs": [],
   "source": [
    "dibels_trim[\"below_benchmark\"] = dibels_trim[['BELOWBENCHMARK', 'WELLBELOWBENCHMARK']].sum(axis=1)"
   ]
  },
  {
   "cell_type": "code",
   "execution_count": 113,
   "id": "ff3df2e4-711b-4883-afcc-13f82f7e511f",
   "metadata": {},
   "outputs": [],
   "source": [
    "dibels_trim[\"met_or_above_pct\"] = dibels_trim[\"met_or_above\"]/dibels_trim['Total Tested']*100"
   ]
  },
  {
   "cell_type": "code",
   "execution_count": 114,
   "id": "398e255d-5df9-499c-874b-e8648e941880",
   "metadata": {},
   "outputs": [],
   "source": [
    "dibels_trim[\"below_benchmark_pct\"] = dibels_trim[\"below_benchmark\"]/dibels_trim['Total Tested']*100"
   ]
  },
  {
   "cell_type": "code",
   "execution_count": 115,
   "id": "0b8f3c8e-244b-4c65-8f15-94c0ce76459f",
   "metadata": {},
   "outputs": [],
   "source": [
    "dibels_trim[\"met_or_above_change\"] = dibels_trim.sort_values(\"SchoolYear\").groupby([\"Student Group\"])[\"met_or_above_pct\"].diff()"
   ]
  },
  {
   "cell_type": "code",
   "execution_count": 116,
   "id": "747b66bd-acdf-4c01-983a-e61bc2a6613a",
   "metadata": {},
   "outputs": [],
   "source": [
    "dibels_trim[\"below_benchmark_change\"] = dibels_trim.sort_values(\"SchoolYear\").groupby([\"Student Group\"])[\"below_benchmark_pct\"].diff()"
   ]
  },
  {
   "cell_type": "code",
   "execution_count": 117,
   "id": "5898af0b-93da-48f2-b0d1-388d55f01731",
   "metadata": {},
   "outputs": [
    {
     "data": {
      "text/plain": [
       "2019-20    19\n",
       "2020-21    19\n",
       "Name: SchoolYear, dtype: int64"
      ]
     },
     "execution_count": 117,
     "metadata": {},
     "output_type": "execute_result"
    }
   ],
   "source": [
    "dibels_trim.SchoolYear.value_counts()"
   ]
  },
  {
   "cell_type": "code",
   "execution_count": 118,
   "id": "3fe75916-051d-4cd5-aed9-7e8ac95af90a",
   "metadata": {},
   "outputs": [
    {
     "data": {
      "text/html": [
       "<div>\n",
       "<style scoped>\n",
       "    .dataframe tbody tr th:only-of-type {\n",
       "        vertical-align: middle;\n",
       "    }\n",
       "\n",
       "    .dataframe tbody tr th {\n",
       "        vertical-align: top;\n",
       "    }\n",
       "\n",
       "    .dataframe thead th {\n",
       "        text-align: right;\n",
       "    }\n",
       "</style>\n",
       "<table border=\"1\" class=\"dataframe\">\n",
       "  <thead>\n",
       "    <tr style=\"text-align: right;\">\n",
       "      <th></th>\n",
       "      <th>SchoolYear</th>\n",
       "      <th>Student Group</th>\n",
       "      <th>below_benchmark_change</th>\n",
       "    </tr>\n",
       "  </thead>\n",
       "  <tbody>\n",
       "    <tr>\n",
       "      <th>104</th>\n",
       "      <td>2020-21</td>\n",
       "      <td>Grade 4</td>\n",
       "      <td>-11.709641</td>\n",
       "    </tr>\n",
       "    <tr>\n",
       "      <th>27</th>\n",
       "      <td>2020-21</td>\n",
       "      <td>Asian</td>\n",
       "      <td>-0.441302</td>\n",
       "    </tr>\n",
       "    <tr>\n",
       "      <th>1</th>\n",
       "      <td>2020-21</td>\n",
       "      <td>asian/filipino</td>\n",
       "      <td>0.517435</td>\n",
       "    </tr>\n",
       "    <tr>\n",
       "      <th>69</th>\n",
       "      <td>2020-21</td>\n",
       "      <td>White</td>\n",
       "      <td>2.226089</td>\n",
       "    </tr>\n",
       "    <tr>\n",
       "      <th>111</th>\n",
       "      <td>2020-21</td>\n",
       "      <td>Grade 5</td>\n",
       "      <td>2.313853</td>\n",
       "    </tr>\n",
       "    <tr>\n",
       "      <th>59</th>\n",
       "      <td>2020-21</td>\n",
       "      <td>Two or More (Ethnicity)</td>\n",
       "      <td>2.503888</td>\n",
       "    </tr>\n",
       "    <tr>\n",
       "      <th>34</th>\n",
       "      <td>2020-21</td>\n",
       "      <td>Filipino</td>\n",
       "      <td>2.584508</td>\n",
       "    </tr>\n",
       "    <tr>\n",
       "      <th>97</th>\n",
       "      <td>2020-21</td>\n",
       "      <td>Grade 3</td>\n",
       "      <td>4.596181</td>\n",
       "    </tr>\n",
       "    <tr>\n",
       "      <th>76</th>\n",
       "      <td>2020-21</td>\n",
       "      <td>English Learner</td>\n",
       "      <td>5.498237</td>\n",
       "    </tr>\n",
       "    <tr>\n",
       "      <th>45</th>\n",
       "      <td>2020-21</td>\n",
       "      <td>Other (Ethnicity)</td>\n",
       "      <td>5.760359</td>\n",
       "    </tr>\n",
       "    <tr>\n",
       "      <th>13</th>\n",
       "      <td>2020-21</td>\n",
       "      <td>African American</td>\n",
       "      <td>5.810471</td>\n",
       "    </tr>\n",
       "    <tr>\n",
       "      <th>6</th>\n",
       "      <td>2020-21</td>\n",
       "      <td>All</td>\n",
       "      <td>6.663193</td>\n",
       "    </tr>\n",
       "    <tr>\n",
       "      <th>20</th>\n",
       "      <td>2020-21</td>\n",
       "      <td>American Indian /Alaska Native</td>\n",
       "      <td>6.959528</td>\n",
       "    </tr>\n",
       "    <tr>\n",
       "      <th>41</th>\n",
       "      <td>2020-21</td>\n",
       "      <td>Hispanic</td>\n",
       "      <td>8.079553</td>\n",
       "    </tr>\n",
       "    <tr>\n",
       "      <th>52</th>\n",
       "      <td>2020-21</td>\n",
       "      <td>Pacific Islander</td>\n",
       "      <td>8.353536</td>\n",
       "    </tr>\n",
       "    <tr>\n",
       "      <th>125</th>\n",
       "      <td>2020-21</td>\n",
       "      <td>Grade TK</td>\n",
       "      <td>9.395356</td>\n",
       "    </tr>\n",
       "    <tr>\n",
       "      <th>90</th>\n",
       "      <td>2020-21</td>\n",
       "      <td>Grade 2</td>\n",
       "      <td>11.013331</td>\n",
       "    </tr>\n",
       "    <tr>\n",
       "      <th>83</th>\n",
       "      <td>2020-21</td>\n",
       "      <td>Grade 1</td>\n",
       "      <td>17.005453</td>\n",
       "    </tr>\n",
       "    <tr>\n",
       "      <th>118</th>\n",
       "      <td>2020-21</td>\n",
       "      <td>Grade K</td>\n",
       "      <td>18.425754</td>\n",
       "    </tr>\n",
       "    <tr>\n",
       "      <th>4</th>\n",
       "      <td>2019-20</td>\n",
       "      <td>All</td>\n",
       "      <td>NaN</td>\n",
       "    </tr>\n",
       "    <tr>\n",
       "      <th>11</th>\n",
       "      <td>2019-20</td>\n",
       "      <td>African American</td>\n",
       "      <td>NaN</td>\n",
       "    </tr>\n",
       "    <tr>\n",
       "      <th>18</th>\n",
       "      <td>2019-20</td>\n",
       "      <td>American Indian /Alaska Native</td>\n",
       "      <td>NaN</td>\n",
       "    </tr>\n",
       "    <tr>\n",
       "      <th>25</th>\n",
       "      <td>2019-20</td>\n",
       "      <td>Asian</td>\n",
       "      <td>NaN</td>\n",
       "    </tr>\n",
       "    <tr>\n",
       "      <th>32</th>\n",
       "      <td>2019-20</td>\n",
       "      <td>Filipino</td>\n",
       "      <td>NaN</td>\n",
       "    </tr>\n",
       "    <tr>\n",
       "      <th>39</th>\n",
       "      <td>2019-20</td>\n",
       "      <td>Hispanic</td>\n",
       "      <td>NaN</td>\n",
       "    </tr>\n",
       "    <tr>\n",
       "      <th>43</th>\n",
       "      <td>2019-20</td>\n",
       "      <td>Other (Ethnicity)</td>\n",
       "      <td>NaN</td>\n",
       "    </tr>\n",
       "    <tr>\n",
       "      <th>50</th>\n",
       "      <td>2019-20</td>\n",
       "      <td>Pacific Islander</td>\n",
       "      <td>NaN</td>\n",
       "    </tr>\n",
       "    <tr>\n",
       "      <th>57</th>\n",
       "      <td>2019-20</td>\n",
       "      <td>Two or More (Ethnicity)</td>\n",
       "      <td>NaN</td>\n",
       "    </tr>\n",
       "    <tr>\n",
       "      <th>67</th>\n",
       "      <td>2019-20</td>\n",
       "      <td>White</td>\n",
       "      <td>NaN</td>\n",
       "    </tr>\n",
       "    <tr>\n",
       "      <th>74</th>\n",
       "      <td>2019-20</td>\n",
       "      <td>English Learner</td>\n",
       "      <td>NaN</td>\n",
       "    </tr>\n",
       "    <tr>\n",
       "      <th>81</th>\n",
       "      <td>2019-20</td>\n",
       "      <td>Grade 1</td>\n",
       "      <td>NaN</td>\n",
       "    </tr>\n",
       "    <tr>\n",
       "      <th>88</th>\n",
       "      <td>2019-20</td>\n",
       "      <td>Grade 2</td>\n",
       "      <td>NaN</td>\n",
       "    </tr>\n",
       "    <tr>\n",
       "      <th>95</th>\n",
       "      <td>2019-20</td>\n",
       "      <td>Grade 3</td>\n",
       "      <td>NaN</td>\n",
       "    </tr>\n",
       "    <tr>\n",
       "      <th>102</th>\n",
       "      <td>2019-20</td>\n",
       "      <td>Grade 4</td>\n",
       "      <td>NaN</td>\n",
       "    </tr>\n",
       "    <tr>\n",
       "      <th>109</th>\n",
       "      <td>2019-20</td>\n",
       "      <td>Grade 5</td>\n",
       "      <td>NaN</td>\n",
       "    </tr>\n",
       "    <tr>\n",
       "      <th>116</th>\n",
       "      <td>2019-20</td>\n",
       "      <td>Grade K</td>\n",
       "      <td>NaN</td>\n",
       "    </tr>\n",
       "    <tr>\n",
       "      <th>123</th>\n",
       "      <td>2019-20</td>\n",
       "      <td>Grade TK</td>\n",
       "      <td>NaN</td>\n",
       "    </tr>\n",
       "    <tr>\n",
       "      <th>0</th>\n",
       "      <td>2019-20</td>\n",
       "      <td>asian/filipino</td>\n",
       "      <td>NaN</td>\n",
       "    </tr>\n",
       "  </tbody>\n",
       "</table>\n",
       "</div>"
      ],
      "text/plain": [
       "    SchoolYear                   Student Group  below_benchmark_change\n",
       "104    2020-21                         Grade 4              -11.709641\n",
       "27     2020-21                           Asian               -0.441302\n",
       "1      2020-21                  asian/filipino                0.517435\n",
       "69     2020-21                           White                2.226089\n",
       "111    2020-21                         Grade 5                2.313853\n",
       "59     2020-21         Two or More (Ethnicity)                2.503888\n",
       "34     2020-21                        Filipino                2.584508\n",
       "97     2020-21                         Grade 3                4.596181\n",
       "76     2020-21                 English Learner                5.498237\n",
       "45     2020-21               Other (Ethnicity)                5.760359\n",
       "13     2020-21                African American                5.810471\n",
       "6      2020-21                             All                6.663193\n",
       "20     2020-21  American Indian /Alaska Native                6.959528\n",
       "41     2020-21                        Hispanic                8.079553\n",
       "52     2020-21                Pacific Islander                8.353536\n",
       "125    2020-21                        Grade TK                9.395356\n",
       "90     2020-21                         Grade 2               11.013331\n",
       "83     2020-21                         Grade 1               17.005453\n",
       "118    2020-21                         Grade K               18.425754\n",
       "4      2019-20                             All                     NaN\n",
       "11     2019-20                African American                     NaN\n",
       "18     2019-20  American Indian /Alaska Native                     NaN\n",
       "25     2019-20                           Asian                     NaN\n",
       "32     2019-20                        Filipino                     NaN\n",
       "39     2019-20                        Hispanic                     NaN\n",
       "43     2019-20               Other (Ethnicity)                     NaN\n",
       "50     2019-20                Pacific Islander                     NaN\n",
       "57     2019-20         Two or More (Ethnicity)                     NaN\n",
       "67     2019-20                           White                     NaN\n",
       "74     2019-20                 English Learner                     NaN\n",
       "81     2019-20                         Grade 1                     NaN\n",
       "88     2019-20                         Grade 2                     NaN\n",
       "95     2019-20                         Grade 3                     NaN\n",
       "102    2019-20                         Grade 4                     NaN\n",
       "109    2019-20                         Grade 5                     NaN\n",
       "116    2019-20                         Grade K                     NaN\n",
       "123    2019-20                        Grade TK                     NaN\n",
       "0      2019-20                  asian/filipino                     NaN"
      ]
     },
     "execution_count": 118,
     "metadata": {},
     "output_type": "execute_result"
    }
   ],
   "source": [
    "dibels_trim[[\"SchoolYear\",\"Student Group\",\"below_benchmark_change\"]].sort_values(\"below_benchmark_change\")"
   ]
  },
  {
   "cell_type": "code",
   "execution_count": 119,
   "id": "1cf57030-96e8-49f5-b3ee-f0e8f6931ff0",
   "metadata": {},
   "outputs": [],
   "source": [
    "dibels_trim.to_csv(\"dibels-change.csv\",index=False)"
   ]
  },
  {
   "cell_type": "markdown",
   "id": "f8b95b99-0d75-42ca-bf5e-8456860c41d4",
   "metadata": {},
   "source": [
    "Pivot for chart"
   ]
  },
  {
   "cell_type": "code",
   "execution_count": 123,
   "id": "3293410f-833c-4ce4-8462-31dc61cb4309",
   "metadata": {},
   "outputs": [
    {
     "data": {
      "text/html": [
       "<div>\n",
       "<style scoped>\n",
       "    .dataframe tbody tr th:only-of-type {\n",
       "        vertical-align: middle;\n",
       "    }\n",
       "\n",
       "    .dataframe tbody tr th {\n",
       "        vertical-align: top;\n",
       "    }\n",
       "\n",
       "    .dataframe thead th {\n",
       "        text-align: right;\n",
       "    }\n",
       "</style>\n",
       "<table border=\"1\" class=\"dataframe\">\n",
       "  <thead>\n",
       "    <tr style=\"text-align: right;\">\n",
       "      <th></th>\n",
       "      <th>SchoolYear</th>\n",
       "      <th>DIBELSTestAdministration</th>\n",
       "      <th>Student Group</th>\n",
       "      <th>ABOVEBENCHMARK</th>\n",
       "      <th>BENCHMARK</th>\n",
       "      <th>BELOWBENCHMARK</th>\n",
       "      <th>WELLBELOWBENCHMARK</th>\n",
       "      <th>Total Tested</th>\n",
       "      <th>% ABOVEBENCHMARK</th>\n",
       "      <th>%BENCHMARK</th>\n",
       "      <th>% BELOWBENCHMARK</th>\n",
       "      <th>% WELLBELOWBENCHMARK</th>\n",
       "      <th>met_or_above</th>\n",
       "      <th>below_benchmark</th>\n",
       "      <th>met_or_above_pct</th>\n",
       "      <th>below_benchmark_pct</th>\n",
       "      <th>met_or_above_change</th>\n",
       "      <th>below_benchmark_change</th>\n",
       "    </tr>\n",
       "  </thead>\n",
       "  <tbody>\n",
       "    <tr>\n",
       "      <th>4</th>\n",
       "      <td>2019-20</td>\n",
       "      <td>2 MOY</td>\n",
       "      <td>All</td>\n",
       "      <td>58327</td>\n",
       "      <td>62341</td>\n",
       "      <td>37760</td>\n",
       "      <td>59027</td>\n",
       "      <td>217455</td>\n",
       "      <td>27%</td>\n",
       "      <td>29%</td>\n",
       "      <td>17%</td>\n",
       "      <td>27%</td>\n",
       "      <td>120668</td>\n",
       "      <td>96787</td>\n",
       "      <td>55.491021</td>\n",
       "      <td>44.508979</td>\n",
       "      <td>NaN</td>\n",
       "      <td>NaN</td>\n",
       "    </tr>\n",
       "  </tbody>\n",
       "</table>\n",
       "</div>"
      ],
      "text/plain": [
       "  SchoolYear DIBELSTestAdministration Student Group  ABOVEBENCHMARK  \\\n",
       "4    2019-20                    2 MOY           All           58327   \n",
       "\n",
       "   BENCHMARK  BELOWBENCHMARK  WELLBELOWBENCHMARK  Total Tested  \\\n",
       "4      62341           37760               59027        217455   \n",
       "\n",
       "  % ABOVEBENCHMARK %BENCHMARK % BELOWBENCHMARK % WELLBELOWBENCHMARK  \\\n",
       "4              27%        29%              17%                  27%   \n",
       "\n",
       "   met_or_above  below_benchmark  met_or_above_pct  below_benchmark_pct  \\\n",
       "4        120668            96787         55.491021            44.508979   \n",
       "\n",
       "   met_or_above_change  below_benchmark_change  \n",
       "4                  NaN                     NaN  "
      ]
     },
     "execution_count": 123,
     "metadata": {},
     "output_type": "execute_result"
    }
   ],
   "source": [
    "dibels_trim.head(1)"
   ]
  },
  {
   "cell_type": "code",
   "execution_count": 127,
   "id": "8ee78e5f-afab-4a2c-ba69-4f30ce1bae08",
   "metadata": {},
   "outputs": [],
   "source": [
    "dibels_chart = dibels_trim[[\"SchoolYear\",\"Student Group\",\"met_or_above_pct\"]].pivot(index='Student Group', columns='SchoolYear').reset_index()"
   ]
  },
  {
   "cell_type": "code",
   "execution_count": 128,
   "id": "5113e67e-6bec-40ab-8930-aadbed348310",
   "metadata": {},
   "outputs": [],
   "source": [
    "dibels_chart.to_csv(\"dibels_chart.csv\",index=False)"
   ]
  },
  {
   "cell_type": "code",
   "execution_count": null,
   "id": "df8c41bd-e2f7-4d68-b165-1f95e8c58e12",
   "metadata": {},
   "outputs": [],
   "source": []
  }
 ],
 "metadata": {
  "kernelspec": {
   "display_name": "Python 3 (ipykernel)",
   "language": "python",
   "name": "python3"
  },
  "language_info": {
   "codemirror_mode": {
    "name": "ipython",
    "version": 3
   },
   "file_extension": ".py",
   "mimetype": "text/x-python",
   "name": "python",
   "nbconvert_exporter": "python",
   "pygments_lexer": "ipython3",
   "version": "3.9.6"
  }
 },
 "nbformat": 4,
 "nbformat_minor": 5
}
