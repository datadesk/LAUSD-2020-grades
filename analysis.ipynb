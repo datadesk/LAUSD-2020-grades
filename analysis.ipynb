{
 "cells": [
  {
   "cell_type": "markdown",
   "id": "c3039b4d-671c-4c38-80a5-42851a93dab0",
   "metadata": {},
   "source": [
    "# Headline goes here\n",
    "\n",
    "By [Iris Lee](https://www.latimes.com/people/iris-lee)\n",
    "\n",
    "Summary of the findings goes here with a link to the story"
   ]
  },
  {
   "cell_type": "markdown",
   "id": "341f0767-ce71-42dd-897d-6b5660ae730c",
   "metadata": {},
   "source": [
    "## Configure"
   ]
  },
  {
   "cell_type": "code",
   "execution_count": 1,
   "id": "3ba969f5-2cd4-48df-88cf-abbf6fdd6529",
   "metadata": {},
   "outputs": [
    {
     "data": {
      "application/javascript": [
       "\n",
       "            setTimeout(function() {\n",
       "                var nbb_cell_id = 1;\n",
       "                var nbb_unformatted_code = \"%load_ext nb_black \";\n",
       "                var nbb_formatted_code = \"%load_ext nb_black\";\n",
       "                var nbb_cells = Jupyter.notebook.get_cells();\n",
       "                for (var i = 0; i < nbb_cells.length; ++i) {\n",
       "                    if (nbb_cells[i].input_prompt_number == nbb_cell_id) {\n",
       "                        if (nbb_cells[i].get_text() == nbb_unformatted_code) {\n",
       "                             nbb_cells[i].set_text(nbb_formatted_code);\n",
       "                        }\n",
       "                        break;\n",
       "                    }\n",
       "                }\n",
       "            }, 500);\n",
       "            "
      ],
      "text/plain": [
       "<IPython.core.display.Javascript object>"
      ]
     },
     "metadata": {},
     "output_type": "display_data"
    }
   ],
   "source": [
    "%load_ext nb_black "
   ]
  },
  {
   "cell_type": "code",
   "execution_count": 2,
   "id": "91076c6b-a71b-43c3-8154-2f8e130b818f",
   "metadata": {},
   "outputs": [
    {
     "data": {
      "application/javascript": [
       "\n",
       "            setTimeout(function() {\n",
       "                var nbb_cell_id = 2;\n",
       "                var nbb_unformatted_code = \"import pandas as pd\\nimport altair as alt\\nimport altair_latimes as lat\";\n",
       "                var nbb_formatted_code = \"import pandas as pd\\nimport altair as alt\\nimport altair_latimes as lat\";\n",
       "                var nbb_cells = Jupyter.notebook.get_cells();\n",
       "                for (var i = 0; i < nbb_cells.length; ++i) {\n",
       "                    if (nbb_cells[i].input_prompt_number == nbb_cell_id) {\n",
       "                        if (nbb_cells[i].get_text() == nbb_unformatted_code) {\n",
       "                             nbb_cells[i].set_text(nbb_formatted_code);\n",
       "                        }\n",
       "                        break;\n",
       "                    }\n",
       "                }\n",
       "            }, 500);\n",
       "            "
      ],
      "text/plain": [
       "<IPython.core.display.Javascript object>"
      ]
     },
     "metadata": {},
     "output_type": "display_data"
    }
   ],
   "source": [
    "import pandas as pd\n",
    "import altair as alt\n",
    "import altair_latimes as lat"
   ]
  },
  {
   "cell_type": "code",
   "execution_count": 3,
   "id": "66e2afe8-6671-4eb1-8239-caa8ad76c570",
   "metadata": {},
   "outputs": [
    {
     "data": {
      "application/javascript": [
       "\n",
       "            setTimeout(function() {\n",
       "                var nbb_cell_id = 3;\n",
       "                var nbb_unformatted_code = \"pd.set_option('display.max_columns', None)\";\n",
       "                var nbb_formatted_code = \"pd.set_option(\\\"display.max_columns\\\", None)\";\n",
       "                var nbb_cells = Jupyter.notebook.get_cells();\n",
       "                for (var i = 0; i < nbb_cells.length; ++i) {\n",
       "                    if (nbb_cells[i].input_prompt_number == nbb_cell_id) {\n",
       "                        if (nbb_cells[i].get_text() == nbb_unformatted_code) {\n",
       "                             nbb_cells[i].set_text(nbb_formatted_code);\n",
       "                        }\n",
       "                        break;\n",
       "                    }\n",
       "                }\n",
       "            }, 500);\n",
       "            "
      ],
      "text/plain": [
       "<IPython.core.display.Javascript object>"
      ]
     },
     "metadata": {},
     "output_type": "display_data"
    }
   ],
   "source": [
    "pd.set_option('display.max_columns', None)"
   ]
  },
  {
   "cell_type": "code",
   "execution_count": 4,
   "id": "5cf1f2f2-f977-4df2-bc4b-2bb1648b5ec0",
   "metadata": {},
   "outputs": [
    {
     "data": {
      "text/plain": [
       "ThemeRegistry.enable('latimes')"
      ]
     },
     "execution_count": 4,
     "metadata": {},
     "output_type": "execute_result"
    },
    {
     "data": {
      "application/javascript": [
       "\n",
       "            setTimeout(function() {\n",
       "                var nbb_cell_id = 4;\n",
       "                var nbb_unformatted_code = \"alt.themes.register('latimes', lat.theme)\\nalt.themes.enable('latimes')\";\n",
       "                var nbb_formatted_code = \"alt.themes.register(\\\"latimes\\\", lat.theme)\\nalt.themes.enable(\\\"latimes\\\")\";\n",
       "                var nbb_cells = Jupyter.notebook.get_cells();\n",
       "                for (var i = 0; i < nbb_cells.length; ++i) {\n",
       "                    if (nbb_cells[i].input_prompt_number == nbb_cell_id) {\n",
       "                        if (nbb_cells[i].get_text() == nbb_unformatted_code) {\n",
       "                             nbb_cells[i].set_text(nbb_formatted_code);\n",
       "                        }\n",
       "                        break;\n",
       "                    }\n",
       "                }\n",
       "            }, 500);\n",
       "            "
      ],
      "text/plain": [
       "<IPython.core.display.Javascript object>"
      ]
     },
     "metadata": {},
     "output_type": "display_data"
    }
   ],
   "source": [
    "alt.themes.register('latimes', lat.theme)\n",
    "alt.themes.enable('latimes')"
   ]
  },
  {
   "cell_type": "markdown",
   "id": "a15db44f-590a-4843-a4e5-7f44d82a70fd",
   "metadata": {},
   "source": [
    "## Import"
   ]
  },
  {
   "cell_type": "markdown",
   "id": "4f076d9b-6db7-4f9e-8f25-26a27af8aa74",
   "metadata": {},
   "source": [
    "Read in data manually parsed from PDFs provided by the Los Angeles Unified School District."
   ]
  },
  {
   "cell_type": "code",
   "execution_count": 5,
   "id": "0d7704ca-ff6f-492a-ab88-60de7e42c20b",
   "metadata": {},
   "outputs": [
    {
     "data": {
      "application/javascript": [
       "\n",
       "            setTimeout(function() {\n",
       "                var nbb_cell_id = 5;\n",
       "                var nbb_unformatted_code = \"grades_df = pd.read_csv(\\\"input/all-grades-complete.csv\\\")\";\n",
       "                var nbb_formatted_code = \"grades_df = pd.read_csv(\\\"input/all-grades-complete.csv\\\")\";\n",
       "                var nbb_cells = Jupyter.notebook.get_cells();\n",
       "                for (var i = 0; i < nbb_cells.length; ++i) {\n",
       "                    if (nbb_cells[i].input_prompt_number == nbb_cell_id) {\n",
       "                        if (nbb_cells[i].get_text() == nbb_unformatted_code) {\n",
       "                             nbb_cells[i].set_text(nbb_formatted_code);\n",
       "                        }\n",
       "                        break;\n",
       "                    }\n",
       "                }\n",
       "            }, 500);\n",
       "            "
      ],
      "text/plain": [
       "<IPython.core.display.Javascript object>"
      ]
     },
     "metadata": {},
     "output_type": "display_data"
    }
   ],
   "source": [
    "grades_df = pd.read_csv(\"input/all-grades-complete.csv\")"
   ]
  },
  {
   "cell_type": "code",
   "execution_count": 6,
   "id": "875bb97b-c1b3-4221-afd2-c39e451f91f1",
   "metadata": {},
   "outputs": [
    {
     "data": {
      "application/javascript": [
       "\n",
       "            setTimeout(function() {\n",
       "                var nbb_cell_id = 6;\n",
       "                var nbb_unformatted_code = \"groups_high_df = pd.read_csv(\\\"input/grades9-12-complete.csv\\\")\";\n",
       "                var nbb_formatted_code = \"groups_high_df = pd.read_csv(\\\"input/grades9-12-complete.csv\\\")\";\n",
       "                var nbb_cells = Jupyter.notebook.get_cells();\n",
       "                for (var i = 0; i < nbb_cells.length; ++i) {\n",
       "                    if (nbb_cells[i].input_prompt_number == nbb_cell_id) {\n",
       "                        if (nbb_cells[i].get_text() == nbb_unformatted_code) {\n",
       "                             nbb_cells[i].set_text(nbb_formatted_code);\n",
       "                        }\n",
       "                        break;\n",
       "                    }\n",
       "                }\n",
       "            }, 500);\n",
       "            "
      ],
      "text/plain": [
       "<IPython.core.display.Javascript object>"
      ]
     },
     "metadata": {},
     "output_type": "display_data"
    }
   ],
   "source": [
    "groups_high_df = pd.read_csv(\"input/grades9-12-complete.csv\")"
   ]
  },
  {
   "cell_type": "code",
   "execution_count": 7,
   "id": "b1ff623b-e65d-42f9-8a8f-b6473656d360",
   "metadata": {},
   "outputs": [
    {
     "data": {
      "application/javascript": [
       "\n",
       "            setTimeout(function() {\n",
       "                var nbb_cell_id = 7;\n",
       "                var nbb_unformatted_code = \"groups_middle_df = pd.read_csv(\\\"input/grades6-8-complete.csv\\\")\";\n",
       "                var nbb_formatted_code = \"groups_middle_df = pd.read_csv(\\\"input/grades6-8-complete.csv\\\")\";\n",
       "                var nbb_cells = Jupyter.notebook.get_cells();\n",
       "                for (var i = 0; i < nbb_cells.length; ++i) {\n",
       "                    if (nbb_cells[i].input_prompt_number == nbb_cell_id) {\n",
       "                        if (nbb_cells[i].get_text() == nbb_unformatted_code) {\n",
       "                             nbb_cells[i].set_text(nbb_formatted_code);\n",
       "                        }\n",
       "                        break;\n",
       "                    }\n",
       "                }\n",
       "            }, 500);\n",
       "            "
      ],
      "text/plain": [
       "<IPython.core.display.Javascript object>"
      ]
     },
     "metadata": {},
     "output_type": "display_data"
    }
   ],
   "source": [
    "groups_middle_df = pd.read_csv(\"input/grades6-8-complete.csv\")"
   ]
  },
  {
   "cell_type": "markdown",
   "id": "06fca1c2-f838-4391-b156-6bd8513718ee",
   "metadata": {},
   "source": [
    "## Transform"
   ]
  },
  {
   "cell_type": "markdown",
   "id": "af8af641-e965-42c8-9f99-5adf9751bbad",
   "metadata": {},
   "source": [
    "Clean up column headers"
   ]
  },
  {
   "cell_type": "code",
   "execution_count": 8,
   "id": "ea85387d-4530-4a67-96dd-3c0bdb8a64bf",
   "metadata": {},
   "outputs": [
    {
     "data": {
      "application/javascript": [
       "\n",
       "            setTimeout(function() {\n",
       "                var nbb_cell_id = 8;\n",
       "                var nbb_unformatted_code = \"columns_crosswalk = {\\n    'type': 'type',\\n    'groupname': 'group_name',\\n    'Grades': \\\"grades\\\",\\n    'Semester School Year': \\\"semester_name\\\",\\n    '# of As': \\\"a_count\\\",\\n    \\\"# of A's\\\": \\\"a_count\\\",\\n    \\\"# of B's\\\": \\\"b_count\\\",\\n    \\\"# of C's\\\": \\\"c_count\\\",\\n    \\\"# of D's\\\": \\\"d_count\\\",\\n    \\\"# of F's\\\": \\\"f_count\\\",\\n    \\\"# of P's\\\": \\\"p_count\\\",\\n    \\\"# of N's\\\": \\\"n_count\\\",\\n    \\\"# of I's\\\": \\\"i_count\\\",\\n    'Total Marks': \\\"marks_count\\\",\\n    '% A': \\\"a_percent\\\",\\n    '% B': \\\"b_percent\\\",\\n    '% C': \\\"c_percent\\\",\\n    'A-C %': \\\"a_to_c_percent\\\",\\n    '% D': \\\"d_percent\\\",\\n    '% F': \\\"f_percent\\\",\\n    '% P': \\\"p_percent\\\",\\n    '% N': \\\"n_percent\\\",\\n    '% I': \\\"i_percent\\\"\\n}\";\n",
       "                var nbb_formatted_code = \"columns_crosswalk = {\\n    \\\"type\\\": \\\"type\\\",\\n    \\\"groupname\\\": \\\"group_name\\\",\\n    \\\"Grades\\\": \\\"grades\\\",\\n    \\\"Semester School Year\\\": \\\"semester_name\\\",\\n    \\\"# of As\\\": \\\"a_count\\\",\\n    \\\"# of A's\\\": \\\"a_count\\\",\\n    \\\"# of B's\\\": \\\"b_count\\\",\\n    \\\"# of C's\\\": \\\"c_count\\\",\\n    \\\"# of D's\\\": \\\"d_count\\\",\\n    \\\"# of F's\\\": \\\"f_count\\\",\\n    \\\"# of P's\\\": \\\"p_count\\\",\\n    \\\"# of N's\\\": \\\"n_count\\\",\\n    \\\"# of I's\\\": \\\"i_count\\\",\\n    \\\"Total Marks\\\": \\\"marks_count\\\",\\n    \\\"% A\\\": \\\"a_percent\\\",\\n    \\\"% B\\\": \\\"b_percent\\\",\\n    \\\"% C\\\": \\\"c_percent\\\",\\n    \\\"A-C %\\\": \\\"a_to_c_percent\\\",\\n    \\\"% D\\\": \\\"d_percent\\\",\\n    \\\"% F\\\": \\\"f_percent\\\",\\n    \\\"% P\\\": \\\"p_percent\\\",\\n    \\\"% N\\\": \\\"n_percent\\\",\\n    \\\"% I\\\": \\\"i_percent\\\",\\n}\";\n",
       "                var nbb_cells = Jupyter.notebook.get_cells();\n",
       "                for (var i = 0; i < nbb_cells.length; ++i) {\n",
       "                    if (nbb_cells[i].input_prompt_number == nbb_cell_id) {\n",
       "                        if (nbb_cells[i].get_text() == nbb_unformatted_code) {\n",
       "                             nbb_cells[i].set_text(nbb_formatted_code);\n",
       "                        }\n",
       "                        break;\n",
       "                    }\n",
       "                }\n",
       "            }, 500);\n",
       "            "
      ],
      "text/plain": [
       "<IPython.core.display.Javascript object>"
      ]
     },
     "metadata": {},
     "output_type": "display_data"
    }
   ],
   "source": [
    "columns_crosswalk = {\n",
    "    'type': 'type',\n",
    "    'groupname': 'group_name',\n",
    "    'Grades': \"grades\",\n",
    "    'Semester School Year': \"semester_name\",\n",
    "    '# of As': \"a_count\",\n",
    "    \"# of A's\": \"a_count\",\n",
    "    \"# of B's\": \"b_count\",\n",
    "    \"# of C's\": \"c_count\",\n",
    "    \"# of D's\": \"d_count\",\n",
    "    \"# of F's\": \"f_count\",\n",
    "    \"# of P's\": \"p_count\",\n",
    "    \"# of N's\": \"n_count\",\n",
    "    \"# of I's\": \"i_count\",\n",
    "    'Total Marks': \"marks_count\",\n",
    "    '% A': \"a_percent\",\n",
    "    '% B': \"b_percent\",\n",
    "    '% C': \"c_percent\",\n",
    "    'A-C %': \"a_to_c_percent\",\n",
    "    '% D': \"d_percent\",\n",
    "    '% F': \"f_percent\",\n",
    "    '% P': \"p_percent\",\n",
    "    '% N': \"n_percent\",\n",
    "    '% I': \"i_percent\"\n",
    "}"
   ]
  },
  {
   "cell_type": "code",
   "execution_count": 9,
   "id": "c7aa52ac-8d20-4874-a5ba-00983fa3b54f",
   "metadata": {},
   "outputs": [
    {
     "data": {
      "application/javascript": [
       "\n",
       "            setTimeout(function() {\n",
       "                var nbb_cell_id = 9;\n",
       "                var nbb_unformatted_code = \"grades_df.rename(columns=columns_crosswalk, inplace=True)\";\n",
       "                var nbb_formatted_code = \"grades_df.rename(columns=columns_crosswalk, inplace=True)\";\n",
       "                var nbb_cells = Jupyter.notebook.get_cells();\n",
       "                for (var i = 0; i < nbb_cells.length; ++i) {\n",
       "                    if (nbb_cells[i].input_prompt_number == nbb_cell_id) {\n",
       "                        if (nbb_cells[i].get_text() == nbb_unformatted_code) {\n",
       "                             nbb_cells[i].set_text(nbb_formatted_code);\n",
       "                        }\n",
       "                        break;\n",
       "                    }\n",
       "                }\n",
       "            }, 500);\n",
       "            "
      ],
      "text/plain": [
       "<IPython.core.display.Javascript object>"
      ]
     },
     "metadata": {},
     "output_type": "display_data"
    }
   ],
   "source": [
    "grades_df.rename(columns=columns_crosswalk, inplace=True)"
   ]
  },
  {
   "cell_type": "code",
   "execution_count": 10,
   "id": "b1d6c60d-9d53-4cd6-ae46-f1270f577ef8",
   "metadata": {},
   "outputs": [
    {
     "data": {
      "application/javascript": [
       "\n",
       "            setTimeout(function() {\n",
       "                var nbb_cell_id = 10;\n",
       "                var nbb_unformatted_code = \"groups_high_df.rename(columns=columns_crosswalk, inplace=True)\";\n",
       "                var nbb_formatted_code = \"groups_high_df.rename(columns=columns_crosswalk, inplace=True)\";\n",
       "                var nbb_cells = Jupyter.notebook.get_cells();\n",
       "                for (var i = 0; i < nbb_cells.length; ++i) {\n",
       "                    if (nbb_cells[i].input_prompt_number == nbb_cell_id) {\n",
       "                        if (nbb_cells[i].get_text() == nbb_unformatted_code) {\n",
       "                             nbb_cells[i].set_text(nbb_formatted_code);\n",
       "                        }\n",
       "                        break;\n",
       "                    }\n",
       "                }\n",
       "            }, 500);\n",
       "            "
      ],
      "text/plain": [
       "<IPython.core.display.Javascript object>"
      ]
     },
     "metadata": {},
     "output_type": "display_data"
    }
   ],
   "source": [
    "groups_high_df.rename(columns=columns_crosswalk, inplace=True)"
   ]
  },
  {
   "cell_type": "code",
   "execution_count": 11,
   "id": "4c86bf38-87a6-4d0e-8570-24c8b7c43648",
   "metadata": {},
   "outputs": [
    {
     "data": {
      "application/javascript": [
       "\n",
       "            setTimeout(function() {\n",
       "                var nbb_cell_id = 11;\n",
       "                var nbb_unformatted_code = \"groups_middle_df.rename(columns=columns_crosswalk, inplace=True)\";\n",
       "                var nbb_formatted_code = \"groups_middle_df.rename(columns=columns_crosswalk, inplace=True)\";\n",
       "                var nbb_cells = Jupyter.notebook.get_cells();\n",
       "                for (var i = 0; i < nbb_cells.length; ++i) {\n",
       "                    if (nbb_cells[i].input_prompt_number == nbb_cell_id) {\n",
       "                        if (nbb_cells[i].get_text() == nbb_unformatted_code) {\n",
       "                             nbb_cells[i].set_text(nbb_formatted_code);\n",
       "                        }\n",
       "                        break;\n",
       "                    }\n",
       "                }\n",
       "            }, 500);\n",
       "            "
      ],
      "text/plain": [
       "<IPython.core.display.Javascript object>"
      ]
     },
     "metadata": {},
     "output_type": "display_data"
    }
   ],
   "source": [
    "groups_middle_df.rename(columns=columns_crosswalk, inplace=True)"
   ]
  },
  {
   "cell_type": "markdown",
   "id": "332ece06-e8de-440d-925f-8bc5427abb19",
   "metadata": {},
   "source": [
    "Annotate with semester identifer"
   ]
  },
  {
   "cell_type": "code",
   "execution_count": 12,
   "id": "fa240a17-1b95-4210-ad53-4e6aca43d14b",
   "metadata": {},
   "outputs": [
    {
     "data": {
      "application/javascript": [
       "\n",
       "            setTimeout(function() {\n",
       "                var nbb_cell_id = 12;\n",
       "                var nbb_unformatted_code = \"def parse_semester_id(x):\\n    \\\"\\\"\\\"\\n    Create a unique identifer for the semester described by each row.\\n    \\\"\\\"\\\"\\n    # Split the raw string\\n    parts = x.split()\\n    # Reformat it as a string we can count on\\n    return f\\\"{parts[-1]}-{parts[0]}\\\"\";\n",
       "                var nbb_formatted_code = \"def parse_semester_id(x):\\n    \\\"\\\"\\\"\\n    Create a unique identifer for the semester described by each row.\\n    \\\"\\\"\\\"\\n    # Split the raw string\\n    parts = x.split()\\n    # Reformat it as a string we can count on\\n    return f\\\"{parts[-1]}-{parts[0]}\\\"\";\n",
       "                var nbb_cells = Jupyter.notebook.get_cells();\n",
       "                for (var i = 0; i < nbb_cells.length; ++i) {\n",
       "                    if (nbb_cells[i].input_prompt_number == nbb_cell_id) {\n",
       "                        if (nbb_cells[i].get_text() == nbb_unformatted_code) {\n",
       "                             nbb_cells[i].set_text(nbb_formatted_code);\n",
       "                        }\n",
       "                        break;\n",
       "                    }\n",
       "                }\n",
       "            }, 500);\n",
       "            "
      ],
      "text/plain": [
       "<IPython.core.display.Javascript object>"
      ]
     },
     "metadata": {},
     "output_type": "display_data"
    }
   ],
   "source": [
    "def parse_semester_id(x):\n",
    "    \"\"\"\n",
    "    Create a unique identifer for the semester described by each row.\n",
    "    \"\"\"\n",
    "    # Split the raw string\n",
    "    parts = x.split()\n",
    "    # Reformat it as a string we can count on\n",
    "    return f\"{parts[-1]}-{parts[0]}\""
   ]
  },
  {
   "cell_type": "code",
   "execution_count": 13,
   "id": "c405b10e-8b10-4c14-8b15-a1ea5771c74c",
   "metadata": {},
   "outputs": [
    {
     "data": {
      "application/javascript": [
       "\n",
       "            setTimeout(function() {\n",
       "                var nbb_cell_id = 13;\n",
       "                var nbb_unformatted_code = \"grades_df[\\\"semester_id\\\"] = grades_df[\\\"semester_name\\\"].apply(parse_semester_id)\";\n",
       "                var nbb_formatted_code = \"grades_df[\\\"semester_id\\\"] = grades_df[\\\"semester_name\\\"].apply(parse_semester_id)\";\n",
       "                var nbb_cells = Jupyter.notebook.get_cells();\n",
       "                for (var i = 0; i < nbb_cells.length; ++i) {\n",
       "                    if (nbb_cells[i].input_prompt_number == nbb_cell_id) {\n",
       "                        if (nbb_cells[i].get_text() == nbb_unformatted_code) {\n",
       "                             nbb_cells[i].set_text(nbb_formatted_code);\n",
       "                        }\n",
       "                        break;\n",
       "                    }\n",
       "                }\n",
       "            }, 500);\n",
       "            "
      ],
      "text/plain": [
       "<IPython.core.display.Javascript object>"
      ]
     },
     "metadata": {},
     "output_type": "display_data"
    }
   ],
   "source": [
    "grades_df[\"semester_id\"] = grades_df[\"semester_name\"].apply(parse_semester_id)"
   ]
  },
  {
   "cell_type": "code",
   "execution_count": 14,
   "id": "d8777fc5-1c1d-4056-9160-3b631ae6c7c6",
   "metadata": {},
   "outputs": [
    {
     "data": {
      "application/javascript": [
       "\n",
       "            setTimeout(function() {\n",
       "                var nbb_cell_id = 14;\n",
       "                var nbb_unformatted_code = \"groups_high_df[\\\"semester_id\\\"] = groups_high_df[\\\"semester_name\\\"].apply(parse_semester_id)\";\n",
       "                var nbb_formatted_code = \"groups_high_df[\\\"semester_id\\\"] = groups_high_df[\\\"semester_name\\\"].apply(parse_semester_id)\";\n",
       "                var nbb_cells = Jupyter.notebook.get_cells();\n",
       "                for (var i = 0; i < nbb_cells.length; ++i) {\n",
       "                    if (nbb_cells[i].input_prompt_number == nbb_cell_id) {\n",
       "                        if (nbb_cells[i].get_text() == nbb_unformatted_code) {\n",
       "                             nbb_cells[i].set_text(nbb_formatted_code);\n",
       "                        }\n",
       "                        break;\n",
       "                    }\n",
       "                }\n",
       "            }, 500);\n",
       "            "
      ],
      "text/plain": [
       "<IPython.core.display.Javascript object>"
      ]
     },
     "metadata": {},
     "output_type": "display_data"
    }
   ],
   "source": [
    "groups_high_df[\"semester_id\"] = groups_high_df[\"semester_name\"].apply(parse_semester_id)"
   ]
  },
  {
   "cell_type": "code",
   "execution_count": 15,
   "id": "1a82d274-a4e7-40b1-aa1c-b842e725dac2",
   "metadata": {},
   "outputs": [
    {
     "data": {
      "application/javascript": [
       "\n",
       "            setTimeout(function() {\n",
       "                var nbb_cell_id = 15;\n",
       "                var nbb_unformatted_code = \"groups_middle_df[\\\"semester_id\\\"] = groups_middle_df[\\\"semester_name\\\"].apply(parse_semester_id)\";\n",
       "                var nbb_formatted_code = \"groups_middle_df[\\\"semester_id\\\"] = groups_middle_df[\\\"semester_name\\\"].apply(\\n    parse_semester_id\\n)\";\n",
       "                var nbb_cells = Jupyter.notebook.get_cells();\n",
       "                for (var i = 0; i < nbb_cells.length; ++i) {\n",
       "                    if (nbb_cells[i].input_prompt_number == nbb_cell_id) {\n",
       "                        if (nbb_cells[i].get_text() == nbb_unformatted_code) {\n",
       "                             nbb_cells[i].set_text(nbb_formatted_code);\n",
       "                        }\n",
       "                        break;\n",
       "                    }\n",
       "                }\n",
       "            }, 500);\n",
       "            "
      ],
      "text/plain": [
       "<IPython.core.display.Javascript object>"
      ]
     },
     "metadata": {},
     "output_type": "display_data"
    }
   ],
   "source": [
    "groups_middle_df[\"semester_id\"] = groups_middle_df[\"semester_name\"].apply(parse_semester_id)"
   ]
  },
  {
   "cell_type": "markdown",
   "id": "f3af780d-7291-4ab7-9381-372b1bc9a404",
   "metadata": {},
   "source": [
    "Clean up data values"
   ]
  },
  {
   "cell_type": "code",
   "execution_count": 16,
   "id": "b8620b18-f0a6-49cd-b86e-38525091e962",
   "metadata": {},
   "outputs": [
    {
     "data": {
      "application/javascript": [
       "\n",
       "            setTimeout(function() {\n",
       "                var nbb_cell_id = 16;\n",
       "                var nbb_unformatted_code = \"def safestr(val):\\n    \\\"\\\"\\\"\\n    Cleans up the provided value and returns it.\\n    \\n    If it's a string, it cuts out a bunch of cruft found in the raw data.\\n    \\n    If it's not a string, it doensn't do anything.\\n    \\\"\\\"\\\"\\n    return (\\n     str(val).replace(\\\",\\\", \\\"\\\")\\n        .replace(\\\"%\\\", \\\"\\\")\\n        .replace(\\\"\\u2010\\\", \\\"\\\")\\n        .replace(\\\" \\\", \\\"\\\")\\n        .strip()\\n        .lower()\\n    )\";\n",
       "                var nbb_formatted_code = \"def safestr(val):\\n    \\\"\\\"\\\"\\n    Cleans up the provided value and returns it.\\n\\n    If it's a string, it cuts out a bunch of cruft found in the raw data.\\n\\n    If it's not a string, it doensn't do anything.\\n    \\\"\\\"\\\"\\n    return (\\n        str(val)\\n        .replace(\\\",\\\", \\\"\\\")\\n        .replace(\\\"%\\\", \\\"\\\")\\n        .replace(\\\"\\u2010\\\", \\\"\\\")\\n        .replace(\\\" \\\", \\\"\\\")\\n        .strip()\\n        .lower()\\n    )\";\n",
       "                var nbb_cells = Jupyter.notebook.get_cells();\n",
       "                for (var i = 0; i < nbb_cells.length; ++i) {\n",
       "                    if (nbb_cells[i].input_prompt_number == nbb_cell_id) {\n",
       "                        if (nbb_cells[i].get_text() == nbb_unformatted_code) {\n",
       "                             nbb_cells[i].set_text(nbb_formatted_code);\n",
       "                        }\n",
       "                        break;\n",
       "                    }\n",
       "                }\n",
       "            }, 500);\n",
       "            "
      ],
      "text/plain": [
       "<IPython.core.display.Javascript object>"
      ]
     },
     "metadata": {},
     "output_type": "display_data"
    }
   ],
   "source": [
    "def safestr(val):\n",
    "    \"\"\"\n",
    "    Cleans up the provided value and returns it.\n",
    "    \n",
    "    If it's a string, it cuts out a bunch of cruft found in the raw data.\n",
    "    \n",
    "    If it's not a string, it doensn't do anything.\n",
    "    \"\"\"\n",
    "    return (\n",
    "     str(val).replace(\",\", \"\")\n",
    "        .replace(\"%\", \"\")\n",
    "        .replace(\"‐\", \"\")\n",
    "        .replace(\" \", \"\")\n",
    "        .strip()\n",
    "        .lower()\n",
    "    )"
   ]
  },
  {
   "cell_type": "code",
   "execution_count": 17,
   "id": "e1d767e3-f977-4d92-8a4e-1ac07ebcb871",
   "metadata": {},
   "outputs": [
    {
     "data": {
      "application/javascript": [
       "\n",
       "            setTimeout(function() {\n",
       "                var nbb_cell_id = 17;\n",
       "                var nbb_unformatted_code = \"def clean_df(df, str_columns=[\\\"grades\\\", \\\"semester_name\\\", \\\"semester_id\\\", \\\"type\\\", \\\"group_name\\\"]):\\n    \\\"\\\"\\\"\\n    Cleans the provided dataframe.\\n    \\\"\\\"\\\"\\n    # Tidy all the strings\\n    df = df.applymap(safestr)\\n    # Convert all the numbers\\n    num_columns = [c for c in df.columns if c not in str_columns]\\n    df[num_columns] = df[num_columns].apply(pd.to_numeric, errors=\\\"coerce\\\")\\n    # Pass it back\\n    return df\";\n",
       "                var nbb_formatted_code = \"def clean_df(\\n    df, str_columns=[\\\"grades\\\", \\\"semester_name\\\", \\\"semester_id\\\", \\\"type\\\", \\\"group_name\\\"]\\n):\\n    \\\"\\\"\\\"\\n    Cleans the provided dataframe.\\n    \\\"\\\"\\\"\\n    # Tidy all the strings\\n    df = df.applymap(safestr)\\n    # Convert all the numbers\\n    num_columns = [c for c in df.columns if c not in str_columns]\\n    df[num_columns] = df[num_columns].apply(pd.to_numeric, errors=\\\"coerce\\\")\\n    # Pass it back\\n    return df\";\n",
       "                var nbb_cells = Jupyter.notebook.get_cells();\n",
       "                for (var i = 0; i < nbb_cells.length; ++i) {\n",
       "                    if (nbb_cells[i].input_prompt_number == nbb_cell_id) {\n",
       "                        if (nbb_cells[i].get_text() == nbb_unformatted_code) {\n",
       "                             nbb_cells[i].set_text(nbb_formatted_code);\n",
       "                        }\n",
       "                        break;\n",
       "                    }\n",
       "                }\n",
       "            }, 500);\n",
       "            "
      ],
      "text/plain": [
       "<IPython.core.display.Javascript object>"
      ]
     },
     "metadata": {},
     "output_type": "display_data"
    }
   ],
   "source": [
    "def clean_df(df, str_columns=[\"grades\", \"semester_name\", \"semester_id\", \"type\", \"group_name\"]):\n",
    "    \"\"\"\n",
    "    Cleans the provided dataframe.\n",
    "    \"\"\"\n",
    "    # Tidy all the strings\n",
    "    df = df.applymap(safestr)\n",
    "    # Convert all the numbers\n",
    "    num_columns = [c for c in df.columns if c not in str_columns]\n",
    "    df[num_columns] = df[num_columns].apply(pd.to_numeric, errors=\"coerce\")\n",
    "    # Pass it back\n",
    "    return df"
   ]
  },
  {
   "cell_type": "code",
   "execution_count": 18,
   "id": "89ba4b40-3366-4176-840d-a4662829b2a2",
   "metadata": {},
   "outputs": [
    {
     "data": {
      "application/javascript": [
       "\n",
       "            setTimeout(function() {\n",
       "                var nbb_cell_id = 18;\n",
       "                var nbb_unformatted_code = \"grades_df = clean_df(grades_df)\";\n",
       "                var nbb_formatted_code = \"grades_df = clean_df(grades_df)\";\n",
       "                var nbb_cells = Jupyter.notebook.get_cells();\n",
       "                for (var i = 0; i < nbb_cells.length; ++i) {\n",
       "                    if (nbb_cells[i].input_prompt_number == nbb_cell_id) {\n",
       "                        if (nbb_cells[i].get_text() == nbb_unformatted_code) {\n",
       "                             nbb_cells[i].set_text(nbb_formatted_code);\n",
       "                        }\n",
       "                        break;\n",
       "                    }\n",
       "                }\n",
       "            }, 500);\n",
       "            "
      ],
      "text/plain": [
       "<IPython.core.display.Javascript object>"
      ]
     },
     "metadata": {},
     "output_type": "display_data"
    }
   ],
   "source": [
    "grades_df = clean_df(grades_df)"
   ]
  },
  {
   "cell_type": "code",
   "execution_count": 19,
   "id": "d67ada21-73f4-4a4a-9b72-28e7defb4e3f",
   "metadata": {},
   "outputs": [
    {
     "data": {
      "application/javascript": [
       "\n",
       "            setTimeout(function() {\n",
       "                var nbb_cell_id = 19;\n",
       "                var nbb_unformatted_code = \"groups_high_df = clean_df(groups_high_df)\";\n",
       "                var nbb_formatted_code = \"groups_high_df = clean_df(groups_high_df)\";\n",
       "                var nbb_cells = Jupyter.notebook.get_cells();\n",
       "                for (var i = 0; i < nbb_cells.length; ++i) {\n",
       "                    if (nbb_cells[i].input_prompt_number == nbb_cell_id) {\n",
       "                        if (nbb_cells[i].get_text() == nbb_unformatted_code) {\n",
       "                             nbb_cells[i].set_text(nbb_formatted_code);\n",
       "                        }\n",
       "                        break;\n",
       "                    }\n",
       "                }\n",
       "            }, 500);\n",
       "            "
      ],
      "text/plain": [
       "<IPython.core.display.Javascript object>"
      ]
     },
     "metadata": {},
     "output_type": "display_data"
    }
   ],
   "source": [
    "groups_high_df = clean_df(groups_high_df)"
   ]
  },
  {
   "cell_type": "code",
   "execution_count": 20,
   "id": "4a7da34d-4a4b-4619-83eb-0e77928e14a3",
   "metadata": {},
   "outputs": [
    {
     "data": {
      "application/javascript": [
       "\n",
       "            setTimeout(function() {\n",
       "                var nbb_cell_id = 20;\n",
       "                var nbb_unformatted_code = \"groups_middle_df = clean_df(groups_middle_df)\";\n",
       "                var nbb_formatted_code = \"groups_middle_df = clean_df(groups_middle_df)\";\n",
       "                var nbb_cells = Jupyter.notebook.get_cells();\n",
       "                for (var i = 0; i < nbb_cells.length; ++i) {\n",
       "                    if (nbb_cells[i].input_prompt_number == nbb_cell_id) {\n",
       "                        if (nbb_cells[i].get_text() == nbb_unformatted_code) {\n",
       "                             nbb_cells[i].set_text(nbb_formatted_code);\n",
       "                        }\n",
       "                        break;\n",
       "                    }\n",
       "                }\n",
       "            }, 500);\n",
       "            "
      ],
      "text/plain": [
       "<IPython.core.display.Javascript object>"
      ]
     },
     "metadata": {},
     "output_type": "display_data"
    }
   ],
   "source": [
    "groups_middle_df = clean_df(groups_middle_df)"
   ]
  },
  {
   "cell_type": "markdown",
   "id": "f308390f-ad30-4319-83bc-f32386319b68",
   "metadata": {
    "tags": []
   },
   "source": [
    "## Filter\n",
    "\n",
    "We only want to analyze the fall semester. _Explain why here_"
   ]
  },
  {
   "cell_type": "code",
   "execution_count": 21,
   "id": "9f83ffbf-37b3-46b5-93e6-09765643e03f",
   "metadata": {},
   "outputs": [
    {
     "data": {
      "application/javascript": [
       "\n",
       "            setTimeout(function() {\n",
       "                var nbb_cell_id = 21;\n",
       "                var nbb_unformatted_code = \"def filter_to_fall(df):\\n    \\\"\\\"\\\"\\n    Filter down the provided dataframe to only the fall semester.\\n    \\\"\\\"\\\"\\n    return df[df.semester_id.str.contains(\\\"fall\\\")].sort_values(\\\"semester_id\\\")\";\n",
       "                var nbb_formatted_code = \"def filter_to_fall(df):\\n    \\\"\\\"\\\"\\n    Filter down the provided dataframe to only the fall semester.\\n    \\\"\\\"\\\"\\n    return df[df.semester_id.str.contains(\\\"fall\\\")].sort_values(\\\"semester_id\\\")\";\n",
       "                var nbb_cells = Jupyter.notebook.get_cells();\n",
       "                for (var i = 0; i < nbb_cells.length; ++i) {\n",
       "                    if (nbb_cells[i].input_prompt_number == nbb_cell_id) {\n",
       "                        if (nbb_cells[i].get_text() == nbb_unformatted_code) {\n",
       "                             nbb_cells[i].set_text(nbb_formatted_code);\n",
       "                        }\n",
       "                        break;\n",
       "                    }\n",
       "                }\n",
       "            }, 500);\n",
       "            "
      ],
      "text/plain": [
       "<IPython.core.display.Javascript object>"
      ]
     },
     "metadata": {},
     "output_type": "display_data"
    }
   ],
   "source": [
    "def filter_to_fall(df):\n",
    "    \"\"\"\n",
    "    Filter down the provided dataframe to only the fall semester.\n",
    "    \"\"\"\n",
    "    return df[df.semester_id.str.contains(\"fall\")].sort_values(\"semester_id\")"
   ]
  },
  {
   "cell_type": "code",
   "execution_count": 22,
   "id": "968fef8c-3c77-4fcb-9d11-85e4829d1191",
   "metadata": {},
   "outputs": [
    {
     "data": {
      "application/javascript": [
       "\n",
       "            setTimeout(function() {\n",
       "                var nbb_cell_id = 22;\n",
       "                var nbb_unformatted_code = \"fall_grades_df = filter_to_fall(grades_df)\";\n",
       "                var nbb_formatted_code = \"fall_grades_df = filter_to_fall(grades_df)\";\n",
       "                var nbb_cells = Jupyter.notebook.get_cells();\n",
       "                for (var i = 0; i < nbb_cells.length; ++i) {\n",
       "                    if (nbb_cells[i].input_prompt_number == nbb_cell_id) {\n",
       "                        if (nbb_cells[i].get_text() == nbb_unformatted_code) {\n",
       "                             nbb_cells[i].set_text(nbb_formatted_code);\n",
       "                        }\n",
       "                        break;\n",
       "                    }\n",
       "                }\n",
       "            }, 500);\n",
       "            "
      ],
      "text/plain": [
       "<IPython.core.display.Javascript object>"
      ]
     },
     "metadata": {},
     "output_type": "display_data"
    }
   ],
   "source": [
    "fall_grades_df = filter_to_fall(grades_df)"
   ]
  },
  {
   "cell_type": "code",
   "execution_count": 23,
   "id": "649de748-b9e3-40b9-9d9f-c05bbc4162b7",
   "metadata": {},
   "outputs": [
    {
     "data": {
      "application/javascript": [
       "\n",
       "            setTimeout(function() {\n",
       "                var nbb_cell_id = 23;\n",
       "                var nbb_unformatted_code = \"fall_groups_high_df = filter_to_fall(groups_high_df)\";\n",
       "                var nbb_formatted_code = \"fall_groups_high_df = filter_to_fall(groups_high_df)\";\n",
       "                var nbb_cells = Jupyter.notebook.get_cells();\n",
       "                for (var i = 0; i < nbb_cells.length; ++i) {\n",
       "                    if (nbb_cells[i].input_prompt_number == nbb_cell_id) {\n",
       "                        if (nbb_cells[i].get_text() == nbb_unformatted_code) {\n",
       "                             nbb_cells[i].set_text(nbb_formatted_code);\n",
       "                        }\n",
       "                        break;\n",
       "                    }\n",
       "                }\n",
       "            }, 500);\n",
       "            "
      ],
      "text/plain": [
       "<IPython.core.display.Javascript object>"
      ]
     },
     "metadata": {},
     "output_type": "display_data"
    }
   ],
   "source": [
    "fall_groups_high_df = filter_to_fall(groups_high_df)"
   ]
  },
  {
   "cell_type": "code",
   "execution_count": 24,
   "id": "b47f6e58-7e53-4450-8291-178f4c560fa7",
   "metadata": {},
   "outputs": [
    {
     "data": {
      "application/javascript": [
       "\n",
       "            setTimeout(function() {\n",
       "                var nbb_cell_id = 24;\n",
       "                var nbb_unformatted_code = \"fall_groups_middle_df = filter_to_fall(groups_middle_df)\";\n",
       "                var nbb_formatted_code = \"fall_groups_middle_df = filter_to_fall(groups_middle_df)\";\n",
       "                var nbb_cells = Jupyter.notebook.get_cells();\n",
       "                for (var i = 0; i < nbb_cells.length; ++i) {\n",
       "                    if (nbb_cells[i].input_prompt_number == nbb_cell_id) {\n",
       "                        if (nbb_cells[i].get_text() == nbb_unformatted_code) {\n",
       "                             nbb_cells[i].set_text(nbb_formatted_code);\n",
       "                        }\n",
       "                        break;\n",
       "                    }\n",
       "                }\n",
       "            }, 500);\n",
       "            "
      ],
      "text/plain": [
       "<IPython.core.display.Javascript object>"
      ]
     },
     "metadata": {},
     "output_type": "display_data"
    }
   ],
   "source": [
    "fall_groups_middle_df = filter_to_fall(groups_middle_df)"
   ]
  },
  {
   "cell_type": "markdown",
   "id": "433b25c5-3133-432f-9c8a-366f61b0ca5d",
   "metadata": {
    "tags": []
   },
   "source": [
    "## Aggregate\n",
    "\n",
    "Add up the totals for each semester."
   ]
  },
  {
   "cell_type": "code",
   "execution_count": 25,
   "id": "868aef71-27be-4a26-9099-f6885b527818",
   "metadata": {},
   "outputs": [
    {
     "data": {
      "application/javascript": [
       "\n",
       "            setTimeout(function() {\n",
       "                var nbb_cell_id = 25;\n",
       "                var nbb_unformatted_code = \"agg_columns = [\\\"semester_id\\\", \\\"a_count\\\", \\\"b_count\\\", \\\"c_count\\\", \\\"d_count\\\", \\\"f_count\\\"]\";\n",
       "                var nbb_formatted_code = \"agg_columns = [\\\"semester_id\\\", \\\"a_count\\\", \\\"b_count\\\", \\\"c_count\\\", \\\"d_count\\\", \\\"f_count\\\"]\";\n",
       "                var nbb_cells = Jupyter.notebook.get_cells();\n",
       "                for (var i = 0; i < nbb_cells.length; ++i) {\n",
       "                    if (nbb_cells[i].input_prompt_number == nbb_cell_id) {\n",
       "                        if (nbb_cells[i].get_text() == nbb_unformatted_code) {\n",
       "                             nbb_cells[i].set_text(nbb_formatted_code);\n",
       "                        }\n",
       "                        break;\n",
       "                    }\n",
       "                }\n",
       "            }, 500);\n",
       "            "
      ],
      "text/plain": [
       "<IPython.core.display.Javascript object>"
      ]
     },
     "metadata": {},
     "output_type": "display_data"
    }
   ],
   "source": [
    "agg_columns = [\"semester_id\", \"a_count\", \"b_count\", \"c_count\", \"d_count\", \"f_count\"]"
   ]
  },
  {
   "cell_type": "code",
   "execution_count": 26,
   "id": "3b2b38da-a0bf-45c2-8167-c46b1f4c7579",
   "metadata": {},
   "outputs": [
    {
     "data": {
      "application/javascript": [
       "\n",
       "            setTimeout(function() {\n",
       "                var nbb_cell_id = 26;\n",
       "                var nbb_unformatted_code = \"semester_counts = fall_grades_df[agg_columns].groupby(\\\"semester_id\\\").sum()\";\n",
       "                var nbb_formatted_code = \"semester_counts = fall_grades_df[agg_columns].groupby(\\\"semester_id\\\").sum()\";\n",
       "                var nbb_cells = Jupyter.notebook.get_cells();\n",
       "                for (var i = 0; i < nbb_cells.length; ++i) {\n",
       "                    if (nbb_cells[i].input_prompt_number == nbb_cell_id) {\n",
       "                        if (nbb_cells[i].get_text() == nbb_unformatted_code) {\n",
       "                             nbb_cells[i].set_text(nbb_formatted_code);\n",
       "                        }\n",
       "                        break;\n",
       "                    }\n",
       "                }\n",
       "            }, 500);\n",
       "            "
      ],
      "text/plain": [
       "<IPython.core.display.Javascript object>"
      ]
     },
     "metadata": {},
     "output_type": "display_data"
    }
   ],
   "source": [
    "semester_counts = fall_grades_df[agg_columns].groupby(\"semester_id\").sum()"
   ]
  },
  {
   "cell_type": "code",
   "execution_count": 27,
   "id": "fa2bf976-2a5b-4d76-b457-406ffa8ce47c",
   "metadata": {},
   "outputs": [
    {
     "data": {
      "text/html": [
       "<div>\n",
       "<style scoped>\n",
       "    .dataframe tbody tr th:only-of-type {\n",
       "        vertical-align: middle;\n",
       "    }\n",
       "\n",
       "    .dataframe tbody tr th {\n",
       "        vertical-align: top;\n",
       "    }\n",
       "\n",
       "    .dataframe thead th {\n",
       "        text-align: right;\n",
       "    }\n",
       "</style>\n",
       "<table border=\"1\" class=\"dataframe\">\n",
       "  <thead>\n",
       "    <tr style=\"text-align: right;\">\n",
       "      <th></th>\n",
       "      <th>a_count</th>\n",
       "      <th>b_count</th>\n",
       "      <th>c_count</th>\n",
       "      <th>d_count</th>\n",
       "      <th>f_count</th>\n",
       "    </tr>\n",
       "    <tr>\n",
       "      <th>semester_id</th>\n",
       "      <th></th>\n",
       "      <th></th>\n",
       "      <th></th>\n",
       "      <th></th>\n",
       "      <th></th>\n",
       "    </tr>\n",
       "  </thead>\n",
       "  <tbody>\n",
       "    <tr>\n",
       "      <th>2018-2019-fall</th>\n",
       "      <td>523006</td>\n",
       "      <td>383747</td>\n",
       "      <td>319368</td>\n",
       "      <td>157246</td>\n",
       "      <td>156838.0</td>\n",
       "    </tr>\n",
       "    <tr>\n",
       "      <th>2019-2020-fall</th>\n",
       "      <td>527677</td>\n",
       "      <td>380665</td>\n",
       "      <td>313048</td>\n",
       "      <td>153262</td>\n",
       "      <td>146598.0</td>\n",
       "    </tr>\n",
       "    <tr>\n",
       "      <th>2020-2021-fall</th>\n",
       "      <td>517985</td>\n",
       "      <td>270268</td>\n",
       "      <td>257781</td>\n",
       "      <td>236095</td>\n",
       "      <td>154518.0</td>\n",
       "    </tr>\n",
       "  </tbody>\n",
       "</table>\n",
       "</div>"
      ],
      "text/plain": [
       "                a_count  b_count  c_count  d_count   f_count\n",
       "semester_id                                                 \n",
       "2018-2019-fall   523006   383747   319368   157246  156838.0\n",
       "2019-2020-fall   527677   380665   313048   153262  146598.0\n",
       "2020-2021-fall   517985   270268   257781   236095  154518.0"
      ]
     },
     "execution_count": 27,
     "metadata": {},
     "output_type": "execute_result"
    },
    {
     "data": {
      "application/javascript": [
       "\n",
       "            setTimeout(function() {\n",
       "                var nbb_cell_id = 27;\n",
       "                var nbb_unformatted_code = \"semester_counts\";\n",
       "                var nbb_formatted_code = \"semester_counts\";\n",
       "                var nbb_cells = Jupyter.notebook.get_cells();\n",
       "                for (var i = 0; i < nbb_cells.length; ++i) {\n",
       "                    if (nbb_cells[i].input_prompt_number == nbb_cell_id) {\n",
       "                        if (nbb_cells[i].get_text() == nbb_unformatted_code) {\n",
       "                             nbb_cells[i].set_text(nbb_formatted_code);\n",
       "                        }\n",
       "                        break;\n",
       "                    }\n",
       "                }\n",
       "            }, 500);\n",
       "            "
      ],
      "text/plain": [
       "<IPython.core.display.Javascript object>"
      ]
     },
     "metadata": {},
     "output_type": "display_data"
    }
   ],
   "source": [
    "semester_counts"
   ]
  },
  {
   "cell_type": "markdown",
   "id": "4e444c0c-db9d-4c55-bbb2-578f90a09e00",
   "metadata": {},
   "source": [
    "Add up group totals"
   ]
  },
  {
   "cell_type": "code",
   "execution_count": 28,
   "id": "78354014-bccc-4a13-a57c-f91f2edee27f",
   "metadata": {},
   "outputs": [
    {
     "data": {
      "application/javascript": [
       "\n",
       "            setTimeout(function() {\n",
       "                var nbb_cell_id = 28;\n",
       "                var nbb_unformatted_code = \"concat_columns = [\\\"semester_id\\\", \\\"type\\\", \\\"group_name\\\", \\\"a_count\\\", \\\"b_count\\\", \\\"c_count\\\", \\\"d_count\\\", \\\"f_count\\\"]\";\n",
       "                var nbb_formatted_code = \"concat_columns = [\\n    \\\"semester_id\\\",\\n    \\\"type\\\",\\n    \\\"group_name\\\",\\n    \\\"a_count\\\",\\n    \\\"b_count\\\",\\n    \\\"c_count\\\",\\n    \\\"d_count\\\",\\n    \\\"f_count\\\",\\n]\";\n",
       "                var nbb_cells = Jupyter.notebook.get_cells();\n",
       "                for (var i = 0; i < nbb_cells.length; ++i) {\n",
       "                    if (nbb_cells[i].input_prompt_number == nbb_cell_id) {\n",
       "                        if (nbb_cells[i].get_text() == nbb_unformatted_code) {\n",
       "                             nbb_cells[i].set_text(nbb_formatted_code);\n",
       "                        }\n",
       "                        break;\n",
       "                    }\n",
       "                }\n",
       "            }, 500);\n",
       "            "
      ],
      "text/plain": [
       "<IPython.core.display.Javascript object>"
      ]
     },
     "metadata": {},
     "output_type": "display_data"
    }
   ],
   "source": [
    "concat_columns = [\"semester_id\", \"type\", \"group_name\", \"a_count\", \"b_count\", \"c_count\", \"d_count\", \"f_count\"]"
   ]
  },
  {
   "cell_type": "code",
   "execution_count": 29,
   "id": "26105a3c-08a2-4cef-a94f-e9066e15afb0",
   "metadata": {},
   "outputs": [
    {
     "data": {
      "application/javascript": [
       "\n",
       "            setTimeout(function() {\n",
       "                var nbb_cell_id = 29;\n",
       "                var nbb_unformatted_code = \"fall_groups_concat_df = pd.concat([fall_groups_high_df, fall_groups_middle_df])[concat_columns]\";\n",
       "                var nbb_formatted_code = \"fall_groups_concat_df = pd.concat([fall_groups_high_df, fall_groups_middle_df])[\\n    concat_columns\\n]\";\n",
       "                var nbb_cells = Jupyter.notebook.get_cells();\n",
       "                for (var i = 0; i < nbb_cells.length; ++i) {\n",
       "                    if (nbb_cells[i].input_prompt_number == nbb_cell_id) {\n",
       "                        if (nbb_cells[i].get_text() == nbb_unformatted_code) {\n",
       "                             nbb_cells[i].set_text(nbb_formatted_code);\n",
       "                        }\n",
       "                        break;\n",
       "                    }\n",
       "                }\n",
       "            }, 500);\n",
       "            "
      ],
      "text/plain": [
       "<IPython.core.display.Javascript object>"
      ]
     },
     "metadata": {},
     "output_type": "display_data"
    }
   ],
   "source": [
    "fall_groups_concat_df = pd.concat([fall_groups_high_df, fall_groups_middle_df])[concat_columns]"
   ]
  },
  {
   "cell_type": "markdown",
   "id": "e61af8ea-cf76-44c3-9ba1-4ea06facb6d4",
   "metadata": {},
   "source": [
    "Recode Filipino as Asian"
   ]
  },
  {
   "cell_type": "code",
   "execution_count": 30,
   "id": "2fafebf0-8e31-4eac-bd77-f5b374657551",
   "metadata": {},
   "outputs": [
    {
     "data": {
      "application/javascript": [
       "\n",
       "            setTimeout(function() {\n",
       "                var nbb_cell_id = 30;\n",
       "                var nbb_unformatted_code = \"fall_groups_concat_df.group_name = fall_groups_concat_df.group_name.apply(lambda x: 'asian' if x == 'filipino' else x)\";\n",
       "                var nbb_formatted_code = \"fall_groups_concat_df.group_name = fall_groups_concat_df.group_name.apply(\\n    lambda x: \\\"asian\\\" if x == \\\"filipino\\\" else x\\n)\";\n",
       "                var nbb_cells = Jupyter.notebook.get_cells();\n",
       "                for (var i = 0; i < nbb_cells.length; ++i) {\n",
       "                    if (nbb_cells[i].input_prompt_number == nbb_cell_id) {\n",
       "                        if (nbb_cells[i].get_text() == nbb_unformatted_code) {\n",
       "                             nbb_cells[i].set_text(nbb_formatted_code);\n",
       "                        }\n",
       "                        break;\n",
       "                    }\n",
       "                }\n",
       "            }, 500);\n",
       "            "
      ],
      "text/plain": [
       "<IPython.core.display.Javascript object>"
      ]
     },
     "metadata": {},
     "output_type": "display_data"
    }
   ],
   "source": [
    "fall_groups_concat_df.group_name = fall_groups_concat_df.group_name.apply(lambda x: 'asian' if x == 'filipino' else x)"
   ]
  },
  {
   "cell_type": "code",
   "execution_count": 31,
   "id": "2c718cfc-4e06-483c-afb4-ca588b5e5913",
   "metadata": {},
   "outputs": [
    {
     "data": {
      "application/javascript": [
       "\n",
       "            setTimeout(function() {\n",
       "                var nbb_cell_id = 31;\n",
       "                var nbb_unformatted_code = \"group_counts = fall_groups_concat_df.groupby([\\\"type\\\", \\\"group_name\\\", \\\"semester_id\\\"]).sum()\";\n",
       "                var nbb_formatted_code = \"group_counts = fall_groups_concat_df.groupby(\\n    [\\\"type\\\", \\\"group_name\\\", \\\"semester_id\\\"]\\n).sum()\";\n",
       "                var nbb_cells = Jupyter.notebook.get_cells();\n",
       "                for (var i = 0; i < nbb_cells.length; ++i) {\n",
       "                    if (nbb_cells[i].input_prompt_number == nbb_cell_id) {\n",
       "                        if (nbb_cells[i].get_text() == nbb_unformatted_code) {\n",
       "                             nbb_cells[i].set_text(nbb_formatted_code);\n",
       "                        }\n",
       "                        break;\n",
       "                    }\n",
       "                }\n",
       "            }, 500);\n",
       "            "
      ],
      "text/plain": [
       "<IPython.core.display.Javascript object>"
      ]
     },
     "metadata": {},
     "output_type": "display_data"
    }
   ],
   "source": [
    "group_counts = fall_groups_concat_df.groupby([\"type\", \"group_name\", \"semester_id\"]).sum()"
   ]
  },
  {
   "cell_type": "code",
   "execution_count": 32,
   "id": "c16dc84b-674c-4642-bbd3-54add7d8d179",
   "metadata": {},
   "outputs": [
    {
     "data": {
      "text/html": [
       "<div>\n",
       "<style scoped>\n",
       "    .dataframe tbody tr th:only-of-type {\n",
       "        vertical-align: middle;\n",
       "    }\n",
       "\n",
       "    .dataframe tbody tr th {\n",
       "        vertical-align: top;\n",
       "    }\n",
       "\n",
       "    .dataframe thead th {\n",
       "        text-align: right;\n",
       "    }\n",
       "</style>\n",
       "<table border=\"1\" class=\"dataframe\">\n",
       "  <thead>\n",
       "    <tr style=\"text-align: right;\">\n",
       "      <th></th>\n",
       "      <th></th>\n",
       "      <th></th>\n",
       "      <th>a_count</th>\n",
       "      <th>b_count</th>\n",
       "      <th>c_count</th>\n",
       "      <th>d_count</th>\n",
       "      <th>f_count</th>\n",
       "    </tr>\n",
       "    <tr>\n",
       "      <th>type</th>\n",
       "      <th>group_name</th>\n",
       "      <th>semester_id</th>\n",
       "      <th></th>\n",
       "      <th></th>\n",
       "      <th></th>\n",
       "      <th></th>\n",
       "      <th></th>\n",
       "    </tr>\n",
       "  </thead>\n",
       "  <tbody>\n",
       "    <tr>\n",
       "      <th rowspan=\"5\" valign=\"top\">ethnicity</th>\n",
       "      <th rowspan=\"3\" valign=\"top\">americanindian/alaskanative</th>\n",
       "      <th>2018-2019-fall</th>\n",
       "      <td>913</td>\n",
       "      <td>744</td>\n",
       "      <td>574</td>\n",
       "      <td>301</td>\n",
       "      <td>284.0</td>\n",
       "    </tr>\n",
       "    <tr>\n",
       "      <th>2019-2020-fall</th>\n",
       "      <td>903</td>\n",
       "      <td>678</td>\n",
       "      <td>516</td>\n",
       "      <td>244</td>\n",
       "      <td>274.0</td>\n",
       "    </tr>\n",
       "    <tr>\n",
       "      <th>2020-2021-fall</th>\n",
       "      <td>663</td>\n",
       "      <td>392</td>\n",
       "      <td>358</td>\n",
       "      <td>319</td>\n",
       "      <td>198.0</td>\n",
       "    </tr>\n",
       "    <tr>\n",
       "      <th rowspan=\"2\" valign=\"top\">asian</th>\n",
       "      <th>2018-2019-fall</th>\n",
       "      <td>53527</td>\n",
       "      <td>22027</td>\n",
       "      <td>11002</td>\n",
       "      <td>4002</td>\n",
       "      <td>2880.0</td>\n",
       "    </tr>\n",
       "    <tr>\n",
       "      <th>2019-2020-fall</th>\n",
       "      <td>52766</td>\n",
       "      <td>20988</td>\n",
       "      <td>10430</td>\n",
       "      <td>3673</td>\n",
       "      <td>2438.0</td>\n",
       "    </tr>\n",
       "  </tbody>\n",
       "</table>\n",
       "</div>"
      ],
      "text/plain": [
       "                                                      a_count  b_count  \\\n",
       "type      group_name                  semester_id                        \n",
       "ethnicity americanindian/alaskanative 2018-2019-fall      913      744   \n",
       "                                      2019-2020-fall      903      678   \n",
       "                                      2020-2021-fall      663      392   \n",
       "          asian                       2018-2019-fall    53527    22027   \n",
       "                                      2019-2020-fall    52766    20988   \n",
       "\n",
       "                                                      c_count  d_count  \\\n",
       "type      group_name                  semester_id                        \n",
       "ethnicity americanindian/alaskanative 2018-2019-fall      574      301   \n",
       "                                      2019-2020-fall      516      244   \n",
       "                                      2020-2021-fall      358      319   \n",
       "          asian                       2018-2019-fall    11002     4002   \n",
       "                                      2019-2020-fall    10430     3673   \n",
       "\n",
       "                                                      f_count  \n",
       "type      group_name                  semester_id              \n",
       "ethnicity americanindian/alaskanative 2018-2019-fall    284.0  \n",
       "                                      2019-2020-fall    274.0  \n",
       "                                      2020-2021-fall    198.0  \n",
       "          asian                       2018-2019-fall   2880.0  \n",
       "                                      2019-2020-fall   2438.0  "
      ]
     },
     "execution_count": 32,
     "metadata": {},
     "output_type": "execute_result"
    },
    {
     "data": {
      "application/javascript": [
       "\n",
       "            setTimeout(function() {\n",
       "                var nbb_cell_id = 32;\n",
       "                var nbb_unformatted_code = \"group_counts.head()\";\n",
       "                var nbb_formatted_code = \"group_counts.head()\";\n",
       "                var nbb_cells = Jupyter.notebook.get_cells();\n",
       "                for (var i = 0; i < nbb_cells.length; ++i) {\n",
       "                    if (nbb_cells[i].input_prompt_number == nbb_cell_id) {\n",
       "                        if (nbb_cells[i].get_text() == nbb_unformatted_code) {\n",
       "                             nbb_cells[i].set_text(nbb_formatted_code);\n",
       "                        }\n",
       "                        break;\n",
       "                    }\n",
       "                }\n",
       "            }, 500);\n",
       "            "
      ],
      "text/plain": [
       "<IPython.core.display.Javascript object>"
      ]
     },
     "metadata": {},
     "output_type": "display_data"
    }
   ],
   "source": [
    "group_counts.head()"
   ]
  },
  {
   "cell_type": "markdown",
   "id": "b73880a2-3d8d-4d83-8205-34407beeb025",
   "metadata": {},
   "source": [
    "Calculate percentages"
   ]
  },
  {
   "cell_type": "code",
   "execution_count": 33,
   "id": "55d9b381-a9f3-4660-8d10-ea6461975bf9",
   "metadata": {},
   "outputs": [
    {
     "data": {
      "application/javascript": [
       "\n",
       "            setTimeout(function() {\n",
       "                var nbb_cell_id = 33;\n",
       "                var nbb_unformatted_code = \"def calculate_percentages(df):\\n    \\\"\\\"\\\"\\n    Calculate percentages for the provided dataframe. Then return it.\\n    \\\"\\\"\\\"\\n    df = df.div(df.sum(axis=1), axis=0)\\n    df.columns = df.columns.str.replace(\\\"_count\\\", \\\"_percent\\\")\\n    return df\";\n",
       "                var nbb_formatted_code = \"def calculate_percentages(df):\\n    \\\"\\\"\\\"\\n    Calculate percentages for the provided dataframe. Then return it.\\n    \\\"\\\"\\\"\\n    df = df.div(df.sum(axis=1), axis=0)\\n    df.columns = df.columns.str.replace(\\\"_count\\\", \\\"_percent\\\")\\n    return df\";\n",
       "                var nbb_cells = Jupyter.notebook.get_cells();\n",
       "                for (var i = 0; i < nbb_cells.length; ++i) {\n",
       "                    if (nbb_cells[i].input_prompt_number == nbb_cell_id) {\n",
       "                        if (nbb_cells[i].get_text() == nbb_unformatted_code) {\n",
       "                             nbb_cells[i].set_text(nbb_formatted_code);\n",
       "                        }\n",
       "                        break;\n",
       "                    }\n",
       "                }\n",
       "            }, 500);\n",
       "            "
      ],
      "text/plain": [
       "<IPython.core.display.Javascript object>"
      ]
     },
     "metadata": {},
     "output_type": "display_data"
    }
   ],
   "source": [
    "def calculate_percentages(df):\n",
    "    \"\"\"\n",
    "    Calculate percentages for the provided dataframe. Then return it.\n",
    "    \"\"\"\n",
    "    df = df.div(df.sum(axis=1), axis=0)\n",
    "    df.columns = df.columns.str.replace(\"_count\", \"_percent\")\n",
    "    return df"
   ]
  },
  {
   "cell_type": "code",
   "execution_count": 34,
   "id": "2729de57-9d29-4a35-bc31-080a0e26f5c9",
   "metadata": {},
   "outputs": [
    {
     "data": {
      "application/javascript": [
       "\n",
       "            setTimeout(function() {\n",
       "                var nbb_cell_id = 34;\n",
       "                var nbb_unformatted_code = \"semester_percentages = calculate_percentages(semester_counts)\";\n",
       "                var nbb_formatted_code = \"semester_percentages = calculate_percentages(semester_counts)\";\n",
       "                var nbb_cells = Jupyter.notebook.get_cells();\n",
       "                for (var i = 0; i < nbb_cells.length; ++i) {\n",
       "                    if (nbb_cells[i].input_prompt_number == nbb_cell_id) {\n",
       "                        if (nbb_cells[i].get_text() == nbb_unformatted_code) {\n",
       "                             nbb_cells[i].set_text(nbb_formatted_code);\n",
       "                        }\n",
       "                        break;\n",
       "                    }\n",
       "                }\n",
       "            }, 500);\n",
       "            "
      ],
      "text/plain": [
       "<IPython.core.display.Javascript object>"
      ]
     },
     "metadata": {},
     "output_type": "display_data"
    }
   ],
   "source": [
    "semester_percentages = calculate_percentages(semester_counts)"
   ]
  },
  {
   "cell_type": "code",
   "execution_count": 35,
   "id": "9836a9d5-878d-4d6b-83fd-e56a43fe07f4",
   "metadata": {},
   "outputs": [
    {
     "data": {
      "text/html": [
       "<div>\n",
       "<style scoped>\n",
       "    .dataframe tbody tr th:only-of-type {\n",
       "        vertical-align: middle;\n",
       "    }\n",
       "\n",
       "    .dataframe tbody tr th {\n",
       "        vertical-align: top;\n",
       "    }\n",
       "\n",
       "    .dataframe thead th {\n",
       "        text-align: right;\n",
       "    }\n",
       "</style>\n",
       "<table border=\"1\" class=\"dataframe\">\n",
       "  <thead>\n",
       "    <tr style=\"text-align: right;\">\n",
       "      <th></th>\n",
       "      <th>a_percent</th>\n",
       "      <th>b_percent</th>\n",
       "      <th>c_percent</th>\n",
       "      <th>d_percent</th>\n",
       "      <th>f_percent</th>\n",
       "    </tr>\n",
       "    <tr>\n",
       "      <th>semester_id</th>\n",
       "      <th></th>\n",
       "      <th></th>\n",
       "      <th></th>\n",
       "      <th></th>\n",
       "      <th></th>\n",
       "    </tr>\n",
       "  </thead>\n",
       "  <tbody>\n",
       "    <tr>\n",
       "      <th>2018-2019-fall</th>\n",
       "      <td>0.339569</td>\n",
       "      <td>0.249153</td>\n",
       "      <td>0.207354</td>\n",
       "      <td>0.102094</td>\n",
       "      <td>0.101829</td>\n",
       "    </tr>\n",
       "    <tr>\n",
       "      <th>2019-2020-fall</th>\n",
       "      <td>0.346871</td>\n",
       "      <td>0.250232</td>\n",
       "      <td>0.205783</td>\n",
       "      <td>0.100747</td>\n",
       "      <td>0.096367</td>\n",
       "    </tr>\n",
       "    <tr>\n",
       "      <th>2020-2021-fall</th>\n",
       "      <td>0.360551</td>\n",
       "      <td>0.188124</td>\n",
       "      <td>0.179432</td>\n",
       "      <td>0.164338</td>\n",
       "      <td>0.107555</td>\n",
       "    </tr>\n",
       "  </tbody>\n",
       "</table>\n",
       "</div>"
      ],
      "text/plain": [
       "                a_percent  b_percent  c_percent  d_percent  f_percent\n",
       "semester_id                                                          \n",
       "2018-2019-fall   0.339569   0.249153   0.207354   0.102094   0.101829\n",
       "2019-2020-fall   0.346871   0.250232   0.205783   0.100747   0.096367\n",
       "2020-2021-fall   0.360551   0.188124   0.179432   0.164338   0.107555"
      ]
     },
     "execution_count": 35,
     "metadata": {},
     "output_type": "execute_result"
    },
    {
     "data": {
      "application/javascript": [
       "\n",
       "            setTimeout(function() {\n",
       "                var nbb_cell_id = 35;\n",
       "                var nbb_unformatted_code = \"semester_percentages\";\n",
       "                var nbb_formatted_code = \"semester_percentages\";\n",
       "                var nbb_cells = Jupyter.notebook.get_cells();\n",
       "                for (var i = 0; i < nbb_cells.length; ++i) {\n",
       "                    if (nbb_cells[i].input_prompt_number == nbb_cell_id) {\n",
       "                        if (nbb_cells[i].get_text() == nbb_unformatted_code) {\n",
       "                             nbb_cells[i].set_text(nbb_formatted_code);\n",
       "                        }\n",
       "                        break;\n",
       "                    }\n",
       "                }\n",
       "            }, 500);\n",
       "            "
      ],
      "text/plain": [
       "<IPython.core.display.Javascript object>"
      ]
     },
     "metadata": {},
     "output_type": "display_data"
    }
   ],
   "source": [
    "semester_percentages"
   ]
  },
  {
   "cell_type": "code",
   "execution_count": 36,
   "id": "42b33740-b26b-4171-b5e8-aa7c90b36a81",
   "metadata": {},
   "outputs": [
    {
     "data": {
      "application/javascript": [
       "\n",
       "            setTimeout(function() {\n",
       "                var nbb_cell_id = 36;\n",
       "                var nbb_unformatted_code = \"group_percentages = calculate_percentages(group_counts)\";\n",
       "                var nbb_formatted_code = \"group_percentages = calculate_percentages(group_counts)\";\n",
       "                var nbb_cells = Jupyter.notebook.get_cells();\n",
       "                for (var i = 0; i < nbb_cells.length; ++i) {\n",
       "                    if (nbb_cells[i].input_prompt_number == nbb_cell_id) {\n",
       "                        if (nbb_cells[i].get_text() == nbb_unformatted_code) {\n",
       "                             nbb_cells[i].set_text(nbb_formatted_code);\n",
       "                        }\n",
       "                        break;\n",
       "                    }\n",
       "                }\n",
       "            }, 500);\n",
       "            "
      ],
      "text/plain": [
       "<IPython.core.display.Javascript object>"
      ]
     },
     "metadata": {},
     "output_type": "display_data"
    }
   ],
   "source": [
    "group_percentages = calculate_percentages(group_counts)"
   ]
  },
  {
   "cell_type": "code",
   "execution_count": 37,
   "id": "809415e6-6c0c-43f5-a040-81383e615607",
   "metadata": {},
   "outputs": [
    {
     "data": {
      "text/html": [
       "<div>\n",
       "<style scoped>\n",
       "    .dataframe tbody tr th:only-of-type {\n",
       "        vertical-align: middle;\n",
       "    }\n",
       "\n",
       "    .dataframe tbody tr th {\n",
       "        vertical-align: top;\n",
       "    }\n",
       "\n",
       "    .dataframe thead th {\n",
       "        text-align: right;\n",
       "    }\n",
       "</style>\n",
       "<table border=\"1\" class=\"dataframe\">\n",
       "  <thead>\n",
       "    <tr style=\"text-align: right;\">\n",
       "      <th></th>\n",
       "      <th></th>\n",
       "      <th></th>\n",
       "      <th>a_percent</th>\n",
       "      <th>b_percent</th>\n",
       "      <th>c_percent</th>\n",
       "      <th>d_percent</th>\n",
       "      <th>f_percent</th>\n",
       "    </tr>\n",
       "    <tr>\n",
       "      <th>type</th>\n",
       "      <th>group_name</th>\n",
       "      <th>semester_id</th>\n",
       "      <th></th>\n",
       "      <th></th>\n",
       "      <th></th>\n",
       "      <th></th>\n",
       "      <th></th>\n",
       "    </tr>\n",
       "  </thead>\n",
       "  <tbody>\n",
       "    <tr>\n",
       "      <th rowspan=\"5\" valign=\"top\">ethnicity</th>\n",
       "      <th rowspan=\"3\" valign=\"top\">americanindian/alaskanative</th>\n",
       "      <th>2018-2019-fall</th>\n",
       "      <td>0.324219</td>\n",
       "      <td>0.264205</td>\n",
       "      <td>0.203835</td>\n",
       "      <td>0.106889</td>\n",
       "      <td>0.100852</td>\n",
       "    </tr>\n",
       "    <tr>\n",
       "      <th>2019-2020-fall</th>\n",
       "      <td>0.345315</td>\n",
       "      <td>0.259273</td>\n",
       "      <td>0.197323</td>\n",
       "      <td>0.093308</td>\n",
       "      <td>0.104780</td>\n",
       "    </tr>\n",
       "    <tr>\n",
       "      <th>2020-2021-fall</th>\n",
       "      <td>0.343523</td>\n",
       "      <td>0.203109</td>\n",
       "      <td>0.185492</td>\n",
       "      <td>0.165285</td>\n",
       "      <td>0.102591</td>\n",
       "    </tr>\n",
       "    <tr>\n",
       "      <th rowspan=\"2\" valign=\"top\">asian</th>\n",
       "      <th>2018-2019-fall</th>\n",
       "      <td>0.572861</td>\n",
       "      <td>0.235739</td>\n",
       "      <td>0.117747</td>\n",
       "      <td>0.042831</td>\n",
       "      <td>0.030823</td>\n",
       "    </tr>\n",
       "    <tr>\n",
       "      <th>2019-2020-fall</th>\n",
       "      <td>0.584373</td>\n",
       "      <td>0.232438</td>\n",
       "      <td>0.115510</td>\n",
       "      <td>0.040678</td>\n",
       "      <td>0.027000</td>\n",
       "    </tr>\n",
       "  </tbody>\n",
       "</table>\n",
       "</div>"
      ],
      "text/plain": [
       "                                                      a_percent  b_percent  \\\n",
       "type      group_name                  semester_id                            \n",
       "ethnicity americanindian/alaskanative 2018-2019-fall   0.324219   0.264205   \n",
       "                                      2019-2020-fall   0.345315   0.259273   \n",
       "                                      2020-2021-fall   0.343523   0.203109   \n",
       "          asian                       2018-2019-fall   0.572861   0.235739   \n",
       "                                      2019-2020-fall   0.584373   0.232438   \n",
       "\n",
       "                                                      c_percent  d_percent  \\\n",
       "type      group_name                  semester_id                            \n",
       "ethnicity americanindian/alaskanative 2018-2019-fall   0.203835   0.106889   \n",
       "                                      2019-2020-fall   0.197323   0.093308   \n",
       "                                      2020-2021-fall   0.185492   0.165285   \n",
       "          asian                       2018-2019-fall   0.117747   0.042831   \n",
       "                                      2019-2020-fall   0.115510   0.040678   \n",
       "\n",
       "                                                      f_percent  \n",
       "type      group_name                  semester_id                \n",
       "ethnicity americanindian/alaskanative 2018-2019-fall   0.100852  \n",
       "                                      2019-2020-fall   0.104780  \n",
       "                                      2020-2021-fall   0.102591  \n",
       "          asian                       2018-2019-fall   0.030823  \n",
       "                                      2019-2020-fall   0.027000  "
      ]
     },
     "execution_count": 37,
     "metadata": {},
     "output_type": "execute_result"
    },
    {
     "data": {
      "application/javascript": [
       "\n",
       "            setTimeout(function() {\n",
       "                var nbb_cell_id = 37;\n",
       "                var nbb_unformatted_code = \"group_percentages.head()\";\n",
       "                var nbb_formatted_code = \"group_percentages.head()\";\n",
       "                var nbb_cells = Jupyter.notebook.get_cells();\n",
       "                for (var i = 0; i < nbb_cells.length; ++i) {\n",
       "                    if (nbb_cells[i].input_prompt_number == nbb_cell_id) {\n",
       "                        if (nbb_cells[i].get_text() == nbb_unformatted_code) {\n",
       "                             nbb_cells[i].set_text(nbb_formatted_code);\n",
       "                        }\n",
       "                        break;\n",
       "                    }\n",
       "                }\n",
       "            }, 500);\n",
       "            "
      ],
      "text/plain": [
       "<IPython.core.display.Javascript object>"
      ]
     },
     "metadata": {},
     "output_type": "display_data"
    }
   ],
   "source": [
    "group_percentages.head()"
   ]
  },
  {
   "cell_type": "markdown",
   "id": "69d92dc8-80c1-4e33-8775-368d970c78c2",
   "metadata": {},
   "source": [
    "## Visualize"
   ]
  },
  {
   "cell_type": "code",
   "execution_count": 38,
   "id": "cc5ee36a-59fd-45ac-af07-5912ad5d6bcc",
   "metadata": {},
   "outputs": [
    {
     "data": {
      "application/javascript": [
       "\n",
       "            setTimeout(function() {\n",
       "                var nbb_cell_id = 38;\n",
       "                var nbb_unformatted_code = \"semester_chart_df = semester_percentages.reset_index().melt(id_vars=[\\\"semester_id\\\"], value_vars=semester_percentages.columns)\";\n",
       "                var nbb_formatted_code = \"semester_chart_df = semester_percentages.reset_index().melt(\\n    id_vars=[\\\"semester_id\\\"], value_vars=semester_percentages.columns\\n)\";\n",
       "                var nbb_cells = Jupyter.notebook.get_cells();\n",
       "                for (var i = 0; i < nbb_cells.length; ++i) {\n",
       "                    if (nbb_cells[i].input_prompt_number == nbb_cell_id) {\n",
       "                        if (nbb_cells[i].get_text() == nbb_unformatted_code) {\n",
       "                             nbb_cells[i].set_text(nbb_formatted_code);\n",
       "                        }\n",
       "                        break;\n",
       "                    }\n",
       "                }\n",
       "            }, 500);\n",
       "            "
      ],
      "text/plain": [
       "<IPython.core.display.Javascript object>"
      ]
     },
     "metadata": {},
     "output_type": "display_data"
    }
   ],
   "source": [
    "semester_chart_df = semester_percentages.reset_index().melt(id_vars=[\"semester_id\"], value_vars=semester_percentages.columns)"
   ]
  },
  {
   "cell_type": "code",
   "execution_count": 39,
   "id": "024af432-3fde-49bb-998a-2f1f071121c8",
   "metadata": {},
   "outputs": [
    {
     "data": {
      "text/html": [
       "\n",
       "<div id=\"altair-viz-2bbefb4454d14216978a2c8296fa7efd\"></div>\n",
       "<script type=\"text/javascript\">\n",
       "  (function(spec, embedOpt){\n",
       "    let outputDiv = document.currentScript.previousElementSibling;\n",
       "    if (outputDiv.id !== \"altair-viz-2bbefb4454d14216978a2c8296fa7efd\") {\n",
       "      outputDiv = document.getElementById(\"altair-viz-2bbefb4454d14216978a2c8296fa7efd\");\n",
       "    }\n",
       "    const paths = {\n",
       "      \"vega\": \"https://cdn.jsdelivr.net/npm//vega@5?noext\",\n",
       "      \"vega-lib\": \"https://cdn.jsdelivr.net/npm//vega-lib?noext\",\n",
       "      \"vega-lite\": \"https://cdn.jsdelivr.net/npm//vega-lite@4.8.1?noext\",\n",
       "      \"vega-embed\": \"https://cdn.jsdelivr.net/npm//vega-embed@6?noext\",\n",
       "    };\n",
       "\n",
       "    function loadScript(lib) {\n",
       "      return new Promise(function(resolve, reject) {\n",
       "        var s = document.createElement('script');\n",
       "        s.src = paths[lib];\n",
       "        s.async = true;\n",
       "        s.onload = () => resolve(paths[lib]);\n",
       "        s.onerror = () => reject(`Error loading script: ${paths[lib]}`);\n",
       "        document.getElementsByTagName(\"head\")[0].appendChild(s);\n",
       "      });\n",
       "    }\n",
       "\n",
       "    function showError(err) {\n",
       "      outputDiv.innerHTML = `<div class=\"error\" style=\"color:red;\">${err}</div>`;\n",
       "      throw err;\n",
       "    }\n",
       "\n",
       "    function displayChart(vegaEmbed) {\n",
       "      vegaEmbed(outputDiv, spec, embedOpt)\n",
       "        .catch(err => showError(`Javascript Error: ${err.message}<br>This usually means there's a typo in your chart specification. See the javascript console for the full traceback.`));\n",
       "    }\n",
       "\n",
       "    if(typeof define === \"function\" && define.amd) {\n",
       "      requirejs.config({paths});\n",
       "      require([\"vega-embed\"], displayChart, err => showError(`Error loading script: ${err.message}`));\n",
       "    } else if (typeof vegaEmbed === \"function\") {\n",
       "      displayChart(vegaEmbed);\n",
       "    } else {\n",
       "      loadScript(\"vega\")\n",
       "        .then(() => loadScript(\"vega-lite\"))\n",
       "        .then(() => loadScript(\"vega-embed\"))\n",
       "        .catch(showError)\n",
       "        .then(() => displayChart(vegaEmbed));\n",
       "    }\n",
       "  })({\"config\": {\"view\": {\"width\": 800, \"height\": 450}, \"background\": \"#ffffff\", \"title\": {\"anchor\": \"start\", \"font\": \"BentonGothic-Bold, sans\", \"fontColor\": \"#000000\", \"fontSize\": 22, \"fontWeight\": \"normal\"}, \"arc\": {\"fill\": \"#82c6df\"}, \"area\": {\"fill\": \"#82c6df\"}, \"line\": {\"stroke\": \"#82c6df\", \"strokeWidth\": 3}, \"path\": {\"stroke\": \"#82c6df\"}, \"rect\": {\"fill\": \"#82c6df\"}, \"shape\": {\"stroke\": \"#82c6df\"}, \"bar\": {\"fill\": \"#82c6df\"}, \"point\": {\"stroke\": \"#82c6df\"}, \"symbol\": {\"fill\": \"#82c6df\", \"size\": 30}, \"axis\": {\"titleFont\": \"BentonGothic-Bold, sans\", \"titleFontSize\": 14, \"titleFontWeight\": \"normal\", \"labelFont\": \"BentonGothic, sans\", \"labelFontSize\": 12, \"labelFontWeight\": \"normal\"}, \"axisX\": {\"labelAngle\": 0, \"labelPadding\": 4, \"tickSize\": 3}, \"axisY\": {\"labelBaseline\": \"middle\", \"maxExtent\": 45, \"minExtent\": 45, \"tickSize\": 2, \"titleAlign\": \"left\", \"titleAngle\": 0, \"titleX\": -45, \"titleY\": -11}, \"legend\": {\"titleFont\": \"BentonGothic-Bold, sans\", \"titleFontSize\": 14, \"titleFontWeight\": \"normal\", \"symbolType\": \"square\", \"labelFont\": \"BentonGothic, sans\", \"labelFontSize\": 13}, \"range\": {\"category\": [\"#3580b1\", \"#ec8431\", \"#ab7fb4\", \"#c89d29\", \"#adc839\", \"#829eb1\"], \"diverging\": [\"#e68a4f\", \"#f4bb6a\", \"#f9e39c\", \"#dadfe2\", \"#a6b7c6\", \"#849eae\"], \"heatmap\": [\"#fbf2c7\", \"#f9e39c\", \"#f8d36e\", \"#f4bb6a\", \"#e68a4f\", \"#d15a40\", \"#ab4232\"], \"ordinal\": [\"#fbf2c7\", \"#f9e39c\", \"#f8d36e\", \"#f4bb6a\", \"#e68a4f\", \"#d15a40\", \"#ab4232\"], \"ramp\": [\"#fbf2c7\", \"#f9e39c\", \"#f8d36e\", \"#f4bb6a\", \"#e68a4f\", \"#d15a40\", \"#ab4232\"]}}, \"data\": {\"name\": \"data-a62761465b331e62abbecec86a64ac4f\"}, \"mark\": \"bar\", \"encoding\": {\"color\": {\"type\": \"nominal\", \"field\": \"variable\", \"title\": \"Grade\"}, \"x\": {\"type\": \"nominal\", \"field\": \"semester_id\", \"title\": \"Semester\"}, \"y\": {\"type\": \"quantitative\", \"axis\": {\"format\": \"%\"}, \"field\": \"value\", \"title\": \"Percentage\"}}, \"title\": \"Fall semester grades\", \"$schema\": \"https://vega.github.io/schema/vega-lite/v4.8.1.json\", \"datasets\": {\"data-a62761465b331e62abbecec86a64ac4f\": [{\"semester_id\": \"2018-2019-fall\", \"variable\": \"a_percent\", \"value\": 0.33956908333630914}, {\"semester_id\": \"2019-2020-fall\", \"variable\": \"a_percent\", \"value\": 0.34687066557107643}, {\"semester_id\": \"2020-2021-fall\", \"variable\": \"a_percent\", \"value\": 0.3605513393338795}, {\"semester_id\": \"2018-2019-fall\", \"variable\": \"b_percent\", \"value\": 0.24915319713934184}, {\"semester_id\": \"2019-2020-fall\", \"variable\": \"b_percent\", \"value\": 0.2502317173377157}, {\"semester_id\": \"2020-2021-fall\", \"variable\": \"b_percent\", \"value\": 0.18812415297564397}, {\"semester_id\": \"2018-2019-fall\", \"variable\": \"c_percent\", \"value\": 0.2073542158349051}, {\"semester_id\": \"2019-2020-fall\", \"variable\": \"c_percent\", \"value\": 0.20578340180772392}, {\"semester_id\": \"2020-2021-fall\", \"variable\": \"c_percent\", \"value\": 0.17943238666144154}, {\"semester_id\": \"2018-2019-fall\", \"variable\": \"d_percent\", \"value\": 0.10209420174587149}, {\"semester_id\": \"2019-2020-fall\", \"variable\": \"d_percent\", \"value\": 0.10074741166803615}, {\"semester_id\": \"2020-2021-fall\", \"variable\": \"d_percent\", \"value\": 0.16433751645324146}, {\"semester_id\": \"2018-2019-fall\", \"variable\": \"f_percent\", \"value\": 0.10182930194357245}, {\"semester_id\": \"2019-2020-fall\", \"variable\": \"f_percent\", \"value\": 0.09636680361544782}, {\"semester_id\": \"2020-2021-fall\", \"variable\": \"f_percent\", \"value\": 0.1075546045757935}]}}, {\"mode\": \"vega-lite\"});\n",
       "</script>"
      ],
      "text/plain": [
       "alt.Chart(...)"
      ]
     },
     "execution_count": 39,
     "metadata": {},
     "output_type": "execute_result"
    },
    {
     "data": {
      "application/javascript": [
       "\n",
       "            setTimeout(function() {\n",
       "                var nbb_cell_id = 39;\n",
       "                var nbb_unformatted_code = \"alt.Chart(semester_chart_df, title='Fall semester grades').mark_bar().encode(\\n    x=alt.X('semester_id:N', title=\\\"Semester\\\"),\\n    y=alt.Y('value:Q', title=\\\"Percentage\\\", axis=alt.Axis(format='%')),\\n    color=alt.Color('variable:N', title=\\\"Grade\\\"),  \\n)\";\n",
       "                var nbb_formatted_code = \"alt.Chart(semester_chart_df, title=\\\"Fall semester grades\\\").mark_bar().encode(\\n    x=alt.X(\\\"semester_id:N\\\", title=\\\"Semester\\\"),\\n    y=alt.Y(\\\"value:Q\\\", title=\\\"Percentage\\\", axis=alt.Axis(format=\\\"%\\\")),\\n    color=alt.Color(\\\"variable:N\\\", title=\\\"Grade\\\"),\\n)\";\n",
       "                var nbb_cells = Jupyter.notebook.get_cells();\n",
       "                for (var i = 0; i < nbb_cells.length; ++i) {\n",
       "                    if (nbb_cells[i].input_prompt_number == nbb_cell_id) {\n",
       "                        if (nbb_cells[i].get_text() == nbb_unformatted_code) {\n",
       "                             nbb_cells[i].set_text(nbb_formatted_code);\n",
       "                        }\n",
       "                        break;\n",
       "                    }\n",
       "                }\n",
       "            }, 500);\n",
       "            "
      ],
      "text/plain": [
       "<IPython.core.display.Javascript object>"
      ]
     },
     "metadata": {},
     "output_type": "display_data"
    }
   ],
   "source": [
    "alt.Chart(semester_chart_df, title='Fall semester grades').mark_bar().encode(\n",
    "    x=alt.X('semester_id:N', title=\"Semester\"),\n",
    "    y=alt.Y('value:Q', title=\"Percentage\", axis=alt.Axis(format='%')),\n",
    "    color=alt.Color('variable:N', title=\"Grade\"),  \n",
    ")"
   ]
  },
  {
   "cell_type": "code",
   "execution_count": 40,
   "id": "e0b384b2-7eac-4793-9e8e-a2640a1d1da2",
   "metadata": {},
   "outputs": [
    {
     "data": {
      "application/javascript": [
       "\n",
       "            setTimeout(function() {\n",
       "                var nbb_cell_id = 40;\n",
       "                var nbb_unformatted_code = \"group_percentages['c_or_higher_percent'] = group_percentages[['a_percent', 'b_percent', 'c_percent']].sum(axis=1)\";\n",
       "                var nbb_formatted_code = \"group_percentages[\\\"c_or_higher_percent\\\"] = group_percentages[\\n    [\\\"a_percent\\\", \\\"b_percent\\\", \\\"c_percent\\\"]\\n].sum(axis=1)\";\n",
       "                var nbb_cells = Jupyter.notebook.get_cells();\n",
       "                for (var i = 0; i < nbb_cells.length; ++i) {\n",
       "                    if (nbb_cells[i].input_prompt_number == nbb_cell_id) {\n",
       "                        if (nbb_cells[i].get_text() == nbb_unformatted_code) {\n",
       "                             nbb_cells[i].set_text(nbb_formatted_code);\n",
       "                        }\n",
       "                        break;\n",
       "                    }\n",
       "                }\n",
       "            }, 500);\n",
       "            "
      ],
      "text/plain": [
       "<IPython.core.display.Javascript object>"
      ]
     },
     "metadata": {},
     "output_type": "display_data"
    }
   ],
   "source": [
    "group_percentages['c_or_higher_percent'] = group_percentages[['a_percent', 'b_percent', 'c_percent']].sum(axis=1)"
   ]
  },
  {
   "cell_type": "code",
   "execution_count": 41,
   "id": "39f0a07b-bfff-499c-bb08-b48ee6cab35f",
   "metadata": {},
   "outputs": [
    {
     "data": {
      "application/javascript": [
       "\n",
       "            setTimeout(function() {\n",
       "                var nbb_cell_id = 41;\n",
       "                var nbb_unformatted_code = \"group_chart_df = group_percentages.reset_index()[[\\n    'semester_id',\\n    'type',\\n    'group_name',\\n    'c_or_higher_percent'\\n]]\";\n",
       "                var nbb_formatted_code = \"group_chart_df = group_percentages.reset_index()[\\n    [\\\"semester_id\\\", \\\"type\\\", \\\"group_name\\\", \\\"c_or_higher_percent\\\"]\\n]\";\n",
       "                var nbb_cells = Jupyter.notebook.get_cells();\n",
       "                for (var i = 0; i < nbb_cells.length; ++i) {\n",
       "                    if (nbb_cells[i].input_prompt_number == nbb_cell_id) {\n",
       "                        if (nbb_cells[i].get_text() == nbb_unformatted_code) {\n",
       "                             nbb_cells[i].set_text(nbb_formatted_code);\n",
       "                        }\n",
       "                        break;\n",
       "                    }\n",
       "                }\n",
       "            }, 500);\n",
       "            "
      ],
      "text/plain": [
       "<IPython.core.display.Javascript object>"
      ]
     },
     "metadata": {},
     "output_type": "display_data"
    }
   ],
   "source": [
    "group_chart_df = group_percentages.reset_index()[[\n",
    "    'semester_id',\n",
    "    'type',\n",
    "    'group_name',\n",
    "    'c_or_higher_percent'\n",
    "]]"
   ]
  },
  {
   "cell_type": "code",
   "execution_count": 42,
   "id": "a98855fe-247a-4eb0-ad0e-b7746b552706",
   "metadata": {},
   "outputs": [
    {
     "data": {
      "application/javascript": [
       "\n",
       "            setTimeout(function() {\n",
       "                var nbb_cell_id = 42;\n",
       "                var nbb_unformatted_code = \"group_chart_df = group_chart_df[\\n    (group_chart_df.semester_id.isin(['2019-2020-fall', '2020-2021-fall']))\\n    &  (group_chart_df.type == 'ethnicity')\\n]\";\n",
       "                var nbb_formatted_code = \"group_chart_df = group_chart_df[\\n    (group_chart_df.semester_id.isin([\\\"2019-2020-fall\\\", \\\"2020-2021-fall\\\"]))\\n    & (group_chart_df.type == \\\"ethnicity\\\")\\n]\";\n",
       "                var nbb_cells = Jupyter.notebook.get_cells();\n",
       "                for (var i = 0; i < nbb_cells.length; ++i) {\n",
       "                    if (nbb_cells[i].input_prompt_number == nbb_cell_id) {\n",
       "                        if (nbb_cells[i].get_text() == nbb_unformatted_code) {\n",
       "                             nbb_cells[i].set_text(nbb_formatted_code);\n",
       "                        }\n",
       "                        break;\n",
       "                    }\n",
       "                }\n",
       "            }, 500);\n",
       "            "
      ],
      "text/plain": [
       "<IPython.core.display.Javascript object>"
      ]
     },
     "metadata": {},
     "output_type": "display_data"
    }
   ],
   "source": [
    "group_chart_df = group_chart_df[\n",
    "    (group_chart_df.semester_id.isin(['2019-2020-fall', '2020-2021-fall']))\n",
    "    &  (group_chart_df.type == 'ethnicity')\n",
    "]"
   ]
  },
  {
   "cell_type": "code",
   "execution_count": 43,
   "id": "504e94c3-b1ad-47fa-88c6-8bb24ba9d737",
   "metadata": {},
   "outputs": [
    {
     "data": {
      "text/html": [
       "\n",
       "<div id=\"altair-viz-5301c362909c4792a2e22673920c8ed9\"></div>\n",
       "<script type=\"text/javascript\">\n",
       "  (function(spec, embedOpt){\n",
       "    let outputDiv = document.currentScript.previousElementSibling;\n",
       "    if (outputDiv.id !== \"altair-viz-5301c362909c4792a2e22673920c8ed9\") {\n",
       "      outputDiv = document.getElementById(\"altair-viz-5301c362909c4792a2e22673920c8ed9\");\n",
       "    }\n",
       "    const paths = {\n",
       "      \"vega\": \"https://cdn.jsdelivr.net/npm//vega@5?noext\",\n",
       "      \"vega-lib\": \"https://cdn.jsdelivr.net/npm//vega-lib?noext\",\n",
       "      \"vega-lite\": \"https://cdn.jsdelivr.net/npm//vega-lite@4.8.1?noext\",\n",
       "      \"vega-embed\": \"https://cdn.jsdelivr.net/npm//vega-embed@6?noext\",\n",
       "    };\n",
       "\n",
       "    function loadScript(lib) {\n",
       "      return new Promise(function(resolve, reject) {\n",
       "        var s = document.createElement('script');\n",
       "        s.src = paths[lib];\n",
       "        s.async = true;\n",
       "        s.onload = () => resolve(paths[lib]);\n",
       "        s.onerror = () => reject(`Error loading script: ${paths[lib]}`);\n",
       "        document.getElementsByTagName(\"head\")[0].appendChild(s);\n",
       "      });\n",
       "    }\n",
       "\n",
       "    function showError(err) {\n",
       "      outputDiv.innerHTML = `<div class=\"error\" style=\"color:red;\">${err}</div>`;\n",
       "      throw err;\n",
       "    }\n",
       "\n",
       "    function displayChart(vegaEmbed) {\n",
       "      vegaEmbed(outputDiv, spec, embedOpt)\n",
       "        .catch(err => showError(`Javascript Error: ${err.message}<br>This usually means there's a typo in your chart specification. See the javascript console for the full traceback.`));\n",
       "    }\n",
       "\n",
       "    if(typeof define === \"function\" && define.amd) {\n",
       "      requirejs.config({paths});\n",
       "      require([\"vega-embed\"], displayChart, err => showError(`Error loading script: ${err.message}`));\n",
       "    } else if (typeof vegaEmbed === \"function\") {\n",
       "      displayChart(vegaEmbed);\n",
       "    } else {\n",
       "      loadScript(\"vega\")\n",
       "        .then(() => loadScript(\"vega-lite\"))\n",
       "        .then(() => loadScript(\"vega-embed\"))\n",
       "        .catch(showError)\n",
       "        .then(() => displayChart(vegaEmbed));\n",
       "    }\n",
       "  })({\"config\": {\"view\": {\"width\": 800, \"height\": 450, \"stroke\": \"transparent\"}, \"background\": \"#ffffff\", \"title\": {\"anchor\": \"start\", \"font\": \"BentonGothic-Bold, sans\", \"fontColor\": \"#000000\", \"fontSize\": 22, \"fontWeight\": \"normal\"}, \"arc\": {\"fill\": \"#82c6df\"}, \"area\": {\"fill\": \"#82c6df\"}, \"line\": {\"stroke\": \"#82c6df\", \"strokeWidth\": 3}, \"path\": {\"stroke\": \"#82c6df\"}, \"rect\": {\"fill\": \"#82c6df\"}, \"shape\": {\"stroke\": \"#82c6df\"}, \"bar\": {\"fill\": \"#82c6df\"}, \"point\": {\"stroke\": \"#82c6df\"}, \"symbol\": {\"fill\": \"#82c6df\", \"size\": 30}, \"axis\": {\"titleFont\": \"BentonGothic-Bold, sans\", \"titleFontSize\": 14, \"titleFontWeight\": \"normal\", \"labelFont\": \"BentonGothic, sans\", \"labelFontSize\": 12, \"labelFontWeight\": \"normal\"}, \"axisX\": {\"labelAngle\": 0, \"labelPadding\": 4, \"tickSize\": 3}, \"axisY\": {\"labelBaseline\": \"middle\", \"maxExtent\": 45, \"minExtent\": 45, \"tickSize\": 2, \"titleAlign\": \"left\", \"titleAngle\": 0, \"titleX\": -45, \"titleY\": -11}, \"legend\": {\"titleFont\": \"BentonGothic-Bold, sans\", \"titleFontSize\": 14, \"titleFontWeight\": \"normal\", \"symbolType\": \"square\", \"labelFont\": \"BentonGothic, sans\", \"labelFontSize\": 13}, \"range\": {\"category\": [\"#3580b1\", \"#ec8431\", \"#ab7fb4\", \"#c89d29\", \"#adc839\", \"#829eb1\"], \"diverging\": [\"#e68a4f\", \"#f4bb6a\", \"#f9e39c\", \"#dadfe2\", \"#a6b7c6\", \"#849eae\"], \"heatmap\": [\"#fbf2c7\", \"#f9e39c\", \"#f8d36e\", \"#f4bb6a\", \"#e68a4f\", \"#d15a40\", \"#ab4232\"], \"ordinal\": [\"#fbf2c7\", \"#f9e39c\", \"#f8d36e\", \"#f4bb6a\", \"#e68a4f\", \"#d15a40\", \"#ab4232\"], \"ramp\": [\"#fbf2c7\", \"#f9e39c\", \"#f8d36e\", \"#f4bb6a\", \"#e68a4f\", \"#d15a40\", \"#ab4232\"]}}, \"data\": {\"name\": \"data-a616193db0460720cd107bef56c45896\"}, \"mark\": \"point\", \"encoding\": {\"color\": {\"type\": \"nominal\", \"field\": \"semester_id\", \"legend\": {\"title\": \"Year\"}}, \"x\": {\"type\": \"quantitative\", \"axis\": {\"format\": \"%\", \"grid\": false}, \"field\": \"c_or_higher_percent\", \"scale\": {\"zero\": false}, \"title\": \"C or higher\"}, \"y\": {\"type\": \"nominal\", \"axis\": {\"grid\": true}, \"field\": \"group_name\", \"sort\": \"-x\", \"title\": \"\"}}, \"height\": {\"step\": 20}, \"title\": \"Change by group\", \"transform\": [{\"filter\": \"(datum.type === 'ethnicity')\"}], \"$schema\": \"https://vega.github.io/schema/vega-lite/v4.8.1.json\", \"datasets\": {\"data-a616193db0460720cd107bef56c45896\": [{\"semester_id\": \"2019-2020-fall\", \"type\": \"ethnicity\", \"group_name\": \"americanindian/alaskanative\", \"c_or_higher_percent\": 0.8019120458891014}, {\"semester_id\": \"2020-2021-fall\", \"type\": \"ethnicity\", \"group_name\": \"americanindian/alaskanative\", \"c_or_higher_percent\": 0.7321243523316061}, {\"semester_id\": \"2019-2020-fall\", \"type\": \"ethnicity\", \"group_name\": \"asian\", \"c_or_higher_percent\": 0.9323218339885929}, {\"semester_id\": \"2020-2021-fall\", \"type\": \"ethnicity\", \"group_name\": \"asian\", \"c_or_higher_percent\": 0.8996616047881116}, {\"semester_id\": \"2019-2020-fall\", \"type\": \"ethnicity\", \"group_name\": \"black\", \"c_or_higher_percent\": 0.7597592166791536}, {\"semester_id\": \"2020-2021-fall\", \"type\": \"ethnicity\", \"group_name\": \"black\", \"c_or_higher_percent\": 0.717058845258764}, {\"semester_id\": \"2019-2020-fall\", \"type\": \"ethnicity\", \"group_name\": \"hispanic\", \"c_or_higher_percent\": 0.7858032960933041}, {\"semester_id\": \"2020-2021-fall\", \"type\": \"ethnicity\", \"group_name\": \"hispanic\", \"c_or_higher_percent\": 0.6992362206973045}, {\"semester_id\": \"2019-2020-fall\", \"type\": \"ethnicity\", \"group_name\": \"other\", \"c_or_higher_percent\": 0.8888036442100216}, {\"semester_id\": \"2020-2021-fall\", \"type\": \"ethnicity\", \"group_name\": \"other\", \"c_or_higher_percent\": 0.8347402724881229}, {\"semester_id\": \"2019-2020-fall\", \"type\": \"ethnicity\", \"group_name\": \"pacificislander\", \"c_or_higher_percent\": 0.8350324374420759}, {\"semester_id\": \"2020-2021-fall\", \"type\": \"ethnicity\", \"group_name\": \"pacificislander\", \"c_or_higher_percent\": 0.6996610169491526}, {\"semester_id\": \"2019-2020-fall\", \"type\": \"ethnicity\", \"group_name\": \"twoormore\", \"c_or_higher_percent\": 0.8351487222454964}, {\"semester_id\": \"2020-2021-fall\", \"type\": \"ethnicity\", \"group_name\": \"twoormore\", \"c_or_higher_percent\": 0.7756474103585657}, {\"semester_id\": \"2019-2020-fall\", \"type\": \"ethnicity\", \"group_name\": \"white\", \"c_or_higher_percent\": 0.8875411089866156}, {\"semester_id\": \"2020-2021-fall\", \"type\": \"ethnicity\", \"group_name\": \"white\", \"c_or_higher_percent\": 0.8496032652803933}]}}, {\"mode\": \"vega-lite\"});\n",
       "</script>"
      ],
      "text/plain": [
       "alt.Chart(...)"
      ]
     },
     "execution_count": 43,
     "metadata": {},
     "output_type": "execute_result"
    },
    {
     "data": {
      "application/javascript": [
       "\n",
       "            setTimeout(function() {\n",
       "                var nbb_cell_id = 43;\n",
       "                var nbb_unformatted_code = \"alt.Chart(group_chart_df, title=\\\"Change by group\\\").transform_filter(\\n    alt.datum.type == 'ethnicity'\\n).mark_point().encode(\\n    alt.X(\\n        'c_or_higher_percent:Q',\\n        title=\\\"C or higher\\\",\\n        scale=alt.Scale(zero=False),\\n        axis=alt.Axis(grid=False, format='%')\\n    ),\\n    alt.Y(\\n        'group_name:N',\\n        title=\\\"\\\",\\n        sort='-x',\\n        axis=alt.Axis(grid=True)\\n    ),\\n    color=alt.Color('semester_id:N', legend=alt.Legend(title=\\\"Year\\\")),\\n).properties(\\n    height=alt.Step(20)\\n).configure_view(stroke=\\\"transparent\\\")\";\n",
       "                var nbb_formatted_code = \"alt.Chart(group_chart_df, title=\\\"Change by group\\\").transform_filter(\\n    alt.datum.type == \\\"ethnicity\\\"\\n).mark_point().encode(\\n    alt.X(\\n        \\\"c_or_higher_percent:Q\\\",\\n        title=\\\"C or higher\\\",\\n        scale=alt.Scale(zero=False),\\n        axis=alt.Axis(grid=False, format=\\\"%\\\"),\\n    ),\\n    alt.Y(\\\"group_name:N\\\", title=\\\"\\\", sort=\\\"-x\\\", axis=alt.Axis(grid=True)),\\n    color=alt.Color(\\\"semester_id:N\\\", legend=alt.Legend(title=\\\"Year\\\")),\\n).properties(\\n    height=alt.Step(20)\\n).configure_view(\\n    stroke=\\\"transparent\\\"\\n)\";\n",
       "                var nbb_cells = Jupyter.notebook.get_cells();\n",
       "                for (var i = 0; i < nbb_cells.length; ++i) {\n",
       "                    if (nbb_cells[i].input_prompt_number == nbb_cell_id) {\n",
       "                        if (nbb_cells[i].get_text() == nbb_unformatted_code) {\n",
       "                             nbb_cells[i].set_text(nbb_formatted_code);\n",
       "                        }\n",
       "                        break;\n",
       "                    }\n",
       "                }\n",
       "            }, 500);\n",
       "            "
      ],
      "text/plain": [
       "<IPython.core.display.Javascript object>"
      ]
     },
     "metadata": {},
     "output_type": "display_data"
    }
   ],
   "source": [
    "alt.Chart(group_chart_df, title=\"Change by group\").transform_filter(\n",
    "    alt.datum.type == 'ethnicity'\n",
    ").mark_point().encode(\n",
    "    alt.X(\n",
    "        'c_or_higher_percent:Q',\n",
    "        title=\"C or higher\",\n",
    "        scale=alt.Scale(zero=False),\n",
    "        axis=alt.Axis(grid=False, format='%')\n",
    "    ),\n",
    "    alt.Y(\n",
    "        'group_name:N',\n",
    "        title=\"\",\n",
    "        sort='-x',\n",
    "        axis=alt.Axis(grid=True)\n",
    "    ),\n",
    "    color=alt.Color('semester_id:N', legend=alt.Legend(title=\"Year\")),\n",
    ").properties(\n",
    "    height=alt.Step(20)\n",
    ").configure_view(stroke=\"transparent\")"
   ]
  },
  {
   "cell_type": "markdown",
   "id": "22c694ef-39dd-4dde-8945-8ef4510c64c0",
   "metadata": {},
   "source": [
    "## Export"
   ]
  },
  {
   "cell_type": "code",
   "execution_count": 44,
   "id": "bed5a6d4-0bc8-41de-bf0f-14ce91d166c9",
   "metadata": {},
   "outputs": [
    {
     "data": {
      "application/javascript": [
       "\n",
       "            setTimeout(function() {\n",
       "                var nbb_cell_id = 44;\n",
       "                var nbb_unformatted_code = \"semester_export = semester_counts.merge(semester_percentages, on=\\\"semester_id\\\")\";\n",
       "                var nbb_formatted_code = \"semester_export = semester_counts.merge(semester_percentages, on=\\\"semester_id\\\")\";\n",
       "                var nbb_cells = Jupyter.notebook.get_cells();\n",
       "                for (var i = 0; i < nbb_cells.length; ++i) {\n",
       "                    if (nbb_cells[i].input_prompt_number == nbb_cell_id) {\n",
       "                        if (nbb_cells[i].get_text() == nbb_unformatted_code) {\n",
       "                             nbb_cells[i].set_text(nbb_formatted_code);\n",
       "                        }\n",
       "                        break;\n",
       "                    }\n",
       "                }\n",
       "            }, 500);\n",
       "            "
      ],
      "text/plain": [
       "<IPython.core.display.Javascript object>"
      ]
     },
     "metadata": {},
     "output_type": "display_data"
    }
   ],
   "source": [
    "semester_export = semester_counts.merge(semester_percentages, on=\"semester_id\")"
   ]
  },
  {
   "cell_type": "code",
   "execution_count": 45,
   "id": "e7e89187-dd3d-4f56-948b-e941b7a934e1",
   "metadata": {},
   "outputs": [
    {
     "data": {
      "application/javascript": [
       "\n",
       "            setTimeout(function() {\n",
       "                var nbb_cell_id = 45;\n",
       "                var nbb_unformatted_code = \"semester_export.to_csv(\\\"output/combined.csv\\\")\";\n",
       "                var nbb_formatted_code = \"semester_export.to_csv(\\\"output/combined.csv\\\")\";\n",
       "                var nbb_cells = Jupyter.notebook.get_cells();\n",
       "                for (var i = 0; i < nbb_cells.length; ++i) {\n",
       "                    if (nbb_cells[i].input_prompt_number == nbb_cell_id) {\n",
       "                        if (nbb_cells[i].get_text() == nbb_unformatted_code) {\n",
       "                             nbb_cells[i].set_text(nbb_formatted_code);\n",
       "                        }\n",
       "                        break;\n",
       "                    }\n",
       "                }\n",
       "            }, 500);\n",
       "            "
      ],
      "text/plain": [
       "<IPython.core.display.Javascript object>"
      ]
     },
     "metadata": {},
     "output_type": "display_data"
    }
   ],
   "source": [
    "semester_export.to_csv(\"output/combined.csv\")"
   ]
  },
  {
   "cell_type": "code",
   "execution_count": 46,
   "id": "4be95b7b-3930-47d0-afed-d00674b3cc8d",
   "metadata": {},
   "outputs": [
    {
     "data": {
      "application/javascript": [
       "\n",
       "            setTimeout(function() {\n",
       "                var nbb_cell_id = 46;\n",
       "                var nbb_unformatted_code = \"group_chart_df.to_csv(\\\"output/combined-detail.csv\\\", index=False)\";\n",
       "                var nbb_formatted_code = \"group_chart_df.to_csv(\\\"output/combined-detail.csv\\\", index=False)\";\n",
       "                var nbb_cells = Jupyter.notebook.get_cells();\n",
       "                for (var i = 0; i < nbb_cells.length; ++i) {\n",
       "                    if (nbb_cells[i].input_prompt_number == nbb_cell_id) {\n",
       "                        if (nbb_cells[i].get_text() == nbb_unformatted_code) {\n",
       "                             nbb_cells[i].set_text(nbb_formatted_code);\n",
       "                        }\n",
       "                        break;\n",
       "                    }\n",
       "                }\n",
       "            }, 500);\n",
       "            "
      ],
      "text/plain": [
       "<IPython.core.display.Javascript object>"
      ]
     },
     "metadata": {},
     "output_type": "display_data"
    }
   ],
   "source": [
    "group_chart_df.to_csv(\"output/combined-detail.csv\", index=False)"
   ]
  }
 ],
 "metadata": {
  "kernelspec": {
   "display_name": "Python 3 (ipykernel)",
   "language": "python",
   "name": "python3"
  },
  "language_info": {
   "codemirror_mode": {
    "name": "ipython",
    "version": 3
   },
   "file_extension": ".py",
   "mimetype": "text/x-python",
   "name": "python",
   "nbconvert_exporter": "python",
   "pygments_lexer": "ipython3",
   "version": "3.8.8"
  }
 },
 "nbformat": 4,
 "nbformat_minor": 5
}
