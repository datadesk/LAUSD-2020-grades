{
 "cells": [
  {
   "cell_type": "markdown",
   "id": "2ae489dc-07b2-46db-87fd-10553d212a1d",
   "metadata": {},
   "source": [
    "## Dibels benchmark analysis for elementary school students  \n",
    "\n",
    "The Dibels 8 assessment test helps teachers understand how well their students are acquiring literacy skills. Analysis found that in pre-pandemic about 56% of all test takers met grade level reading expectations. This fell by seven percentage points to 49% in 2020-2021. Among them Latino and Pacific Islander students suffered the most, dropping about eight percentage points. "
   ]
  },
  {
   "cell_type": "code",
   "execution_count": 1,
   "id": "c21708e0-b121-4b4e-b2be-0412957bdef8",
   "metadata": {},
   "outputs": [],
   "source": [
    "import pandas as pd\n",
    "import altair as alt"
   ]
  },
  {
   "cell_type": "code",
   "execution_count": 2,
   "id": "2e02c37a-ef72-4260-abd2-92384bf18352",
   "metadata": {},
   "outputs": [],
   "source": [
    "dibels_raw = pd.read_csv(\"input/dibels.csv\", thousands=',')"
   ]
  },
  {
   "cell_type": "code",
   "execution_count": 3,
   "id": "c1b7adda-fcd8-4799-81d4-1c4492bb83ff",
   "metadata": {},
   "outputs": [],
   "source": [
    "dibels_raw.columns = [ c.replace(\"\\r\",\"\") for c in dibels_raw.columns]"
   ]
  },
  {
   "cell_type": "markdown",
   "id": "1113e0aa-9780-4b72-866c-5e57b8725aa9",
   "metadata": {},
   "source": [
    "Trim to middle of year 2019-2020 and 2020-2021"
   ]
  },
  {
   "cell_type": "code",
   "execution_count": 4,
   "id": "629cfdcf-a8dc-4ad0-9dbf-19621477e5e4",
   "metadata": {},
   "outputs": [],
   "source": [
    "dibels_combined= dibels_raw[(dibels_raw.SchoolYear != \"2018-19\")&(dibels_raw.DIBELSTestAdministration == '2 MOY')].copy()"
   ]
  },
  {
   "cell_type": "markdown",
   "id": "6a2737ad-ebb6-4558-9899-60e9d6352772",
   "metadata": {},
   "source": [
    "Combine above and met benchmark, and combine all below benchmark"
   ]
  },
  {
   "cell_type": "code",
   "execution_count": 5,
   "id": "295ac3d9-79b3-42fe-b4c7-40290a0556e0",
   "metadata": {},
   "outputs": [],
   "source": [
    "dibels_combined[\"met_or_above\"] =dibels_combined[['ABOVEBENCHMARK', 'BENCHMARK']].sum(axis=1)"
   ]
  },
  {
   "cell_type": "code",
   "execution_count": 6,
   "id": "d8f019cb-4138-4b1e-8a10-d72f8401017a",
   "metadata": {},
   "outputs": [],
   "source": [
    "dibels_combined[\"below_benchmark\"] =dibels_combined[['BELOWBENCHMARK', 'WELLBELOWBENCHMARK']].sum(axis=1)"
   ]
  },
  {
   "cell_type": "markdown",
   "id": "9d47f5a2-a8a2-4619-8088-6ade03136f2d",
   "metadata": {},
   "source": [
    "Calculate percentage"
   ]
  },
  {
   "cell_type": "code",
   "execution_count": 7,
   "id": "ff3df2e4-711b-4883-afcc-13f82f7e511f",
   "metadata": {},
   "outputs": [],
   "source": [
    "dibels_combined[\"met_or_above_pct\"] = dibels_combined[\"met_or_above\"]/dibels_combined['Total Tested']*100"
   ]
  },
  {
   "cell_type": "code",
   "execution_count": 8,
   "id": "398e255d-5df9-499c-874b-e8648e941880",
   "metadata": {},
   "outputs": [],
   "source": [
    "dibels_combined[\"below_benchmark_pct\"] =dibels_combined[\"below_benchmark\"]/dibels_combined['Total Tested']*100"
   ]
  },
  {
   "cell_type": "code",
   "execution_count": 9,
   "id": "0b8f3c8e-244b-4c65-8f15-94c0ce76459f",
   "metadata": {},
   "outputs": [],
   "source": [
    "dibels_combined[\"met_or_above_change\"] = dibels_combined.sort_values(\"SchoolYear\").groupby([\"Student Group\"])[\"met_or_above_pct\"].diff()"
   ]
  },
  {
   "cell_type": "code",
   "execution_count": 10,
   "id": "747b66bd-acdf-4c01-983a-e61bc2a6613a",
   "metadata": {},
   "outputs": [],
   "source": [
    "dibels_combined[\"below_benchmark_change\"] = dibels_combined.sort_values(\"SchoolYear\").groupby([\"Student Group\"])[\"below_benchmark_pct\"].diff()"
   ]
  },
  {
   "cell_type": "code",
   "execution_count": 11,
   "id": "5898af0b-93da-48f2-b0d1-388d55f01731",
   "metadata": {},
   "outputs": [
    {
     "data": {
      "text/plain": [
       "2019-20    18\n",
       "2020-21    18\n",
       "Name: SchoolYear, dtype: int64"
      ]
     },
     "execution_count": 11,
     "metadata": {},
     "output_type": "execute_result"
    }
   ],
   "source": [
    "dibels_combined.SchoolYear.value_counts()"
   ]
  },
  {
   "cell_type": "markdown",
   "id": "f8b95b99-0d75-42ca-bf5e-8456860c41d4",
   "metadata": {},
   "source": [
    "Pivot for chart"
   ]
  },
  {
   "cell_type": "code",
   "execution_count": 12,
   "id": "8ee78e5f-afab-4a2c-ba69-4f30ce1bae08",
   "metadata": {},
   "outputs": [],
   "source": [
    "dibels_chart = dibels_combined[[\"SchoolYear\",\"Student Group\",\"met_or_above_pct\"]].pivot(index='SchoolYear', columns='Student Group').reset_index().droplevel(0, axis=1)"
   ]
  },
  {
   "cell_type": "code",
   "execution_count": 13,
   "id": "0c1c4ac1-f45a-4450-aaf3-3faf8c895030",
   "metadata": {},
   "outputs": [
    {
     "data": {
      "text/plain": [
       "Index(['', 'African American', 'All', 'American Indian /Alaska Native',\n",
       "       'Asian', 'English Learner', 'Filipino', 'Grade 1', 'Grade 2', 'Grade 3',\n",
       "       'Grade 4', 'Grade 5', 'Grade K', 'Grade TK', 'Hispanic',\n",
       "       'Other (Ethnicity)', 'Pacific Islander', 'Two or More (Ethnicity)',\n",
       "       'White'],\n",
       "      dtype='object', name='Student Group')"
      ]
     },
     "execution_count": 13,
     "metadata": {},
     "output_type": "execute_result"
    }
   ],
   "source": [
    "dibels_chart.columns"
   ]
  },
  {
   "cell_type": "code",
   "execution_count": 14,
   "id": "d849c0ba-9b67-4c3a-88ea-137487a97246",
   "metadata": {},
   "outputs": [
    {
     "data": {
      "text/html": [
       "<div>\n",
       "<style scoped>\n",
       "    .dataframe tbody tr th:only-of-type {\n",
       "        vertical-align: middle;\n",
       "    }\n",
       "\n",
       "    .dataframe tbody tr th {\n",
       "        vertical-align: top;\n",
       "    }\n",
       "\n",
       "    .dataframe thead th {\n",
       "        text-align: right;\n",
       "    }\n",
       "</style>\n",
       "<table border=\"1\" class=\"dataframe\">\n",
       "  <thead>\n",
       "    <tr style=\"text-align: right;\">\n",
       "      <th>Student Group</th>\n",
       "      <th></th>\n",
       "      <th>African American</th>\n",
       "      <th>All</th>\n",
       "      <th>American Indian /Alaska Native</th>\n",
       "      <th>Asian</th>\n",
       "      <th>English Learner</th>\n",
       "      <th>Filipino</th>\n",
       "      <th>Grade 1</th>\n",
       "      <th>Grade 2</th>\n",
       "      <th>Grade 3</th>\n",
       "      <th>Grade 4</th>\n",
       "      <th>Grade 5</th>\n",
       "      <th>Grade K</th>\n",
       "      <th>Grade TK</th>\n",
       "      <th>Hispanic</th>\n",
       "      <th>Other (Ethnicity)</th>\n",
       "      <th>Pacific Islander</th>\n",
       "      <th>Two or More (Ethnicity)</th>\n",
       "      <th>White</th>\n",
       "    </tr>\n",
       "  </thead>\n",
       "  <tbody>\n",
       "    <tr>\n",
       "      <th>0</th>\n",
       "      <td>2019-20</td>\n",
       "      <td>48.297117</td>\n",
       "      <td>55.491021</td>\n",
       "      <td>53.939394</td>\n",
       "      <td>78.243021</td>\n",
       "      <td>31.587858</td>\n",
       "      <td>79.344859</td>\n",
       "      <td>62.844200</td>\n",
       "      <td>64.640022</td>\n",
       "      <td>57.802040</td>\n",
       "      <td>44.420487</td>\n",
       "      <td>52.419085</td>\n",
       "      <td>54.853748</td>\n",
       "      <td>25.028902</td>\n",
       "      <td>51.385985</td>\n",
       "      <td>49.790210</td>\n",
       "      <td>62.264151</td>\n",
       "      <td>72.931580</td>\n",
       "      <td>72.459255</td>\n",
       "    </tr>\n",
       "    <tr>\n",
       "      <th>1</th>\n",
       "      <td>2020-21</td>\n",
       "      <td>42.486646</td>\n",
       "      <td>48.827828</td>\n",
       "      <td>46.979866</td>\n",
       "      <td>78.684323</td>\n",
       "      <td>26.089621</td>\n",
       "      <td>76.760351</td>\n",
       "      <td>45.838748</td>\n",
       "      <td>53.626691</td>\n",
       "      <td>53.205859</td>\n",
       "      <td>56.130128</td>\n",
       "      <td>50.105232</td>\n",
       "      <td>36.427994</td>\n",
       "      <td>15.633546</td>\n",
       "      <td>43.306432</td>\n",
       "      <td>44.029851</td>\n",
       "      <td>53.910615</td>\n",
       "      <td>70.427692</td>\n",
       "      <td>70.233166</td>\n",
       "    </tr>\n",
       "  </tbody>\n",
       "</table>\n",
       "</div>"
      ],
      "text/plain": [
       "Student Group           African American        All  \\\n",
       "0              2019-20         48.297117  55.491021   \n",
       "1              2020-21         42.486646  48.827828   \n",
       "\n",
       "Student Group  American Indian /Alaska Native      Asian  English Learner  \\\n",
       "0                                   53.939394  78.243021        31.587858   \n",
       "1                                   46.979866  78.684323        26.089621   \n",
       "\n",
       "Student Group   Filipino    Grade 1    Grade 2    Grade 3    Grade 4  \\\n",
       "0              79.344859  62.844200  64.640022  57.802040  44.420487   \n",
       "1              76.760351  45.838748  53.626691  53.205859  56.130128   \n",
       "\n",
       "Student Group    Grade 5    Grade K   Grade TK   Hispanic  Other (Ethnicity)  \\\n",
       "0              52.419085  54.853748  25.028902  51.385985          49.790210   \n",
       "1              50.105232  36.427994  15.633546  43.306432          44.029851   \n",
       "\n",
       "Student Group  Pacific Islander  Two or More (Ethnicity)      White  \n",
       "0                     62.264151                72.931580  72.459255  \n",
       "1                     53.910615                70.427692  70.233166  "
      ]
     },
     "execution_count": 14,
     "metadata": {},
     "output_type": "execute_result"
    }
   ],
   "source": [
    "dibels_chart"
   ]
  },
  {
   "cell_type": "code",
   "execution_count": 15,
   "id": "8a978c33-9ccb-45ac-8fbc-f57b88979b1e",
   "metadata": {},
   "outputs": [],
   "source": [
    "dibels_chart_trim = dibels_chart[['','African American','English Learner', 'Hispanic',\n",
    "       'White', 'Asian']]"
   ]
  },
  {
   "cell_type": "code",
   "execution_count": 16,
   "id": "5113e67e-6bec-40ab-8930-aadbed348310",
   "metadata": {},
   "outputs": [],
   "source": [
    "dibels_chart_trim.to_csv(\"output/dibels_chart.csv\",index=False)"
   ]
  },
  {
   "cell_type": "code",
   "execution_count": 17,
   "id": "e66dbd20-b84d-4337-aeca-bd704c226ce7",
   "metadata": {},
   "outputs": [
    {
     "data": {
      "text/html": [
       "<div>\n",
       "<style scoped>\n",
       "    .dataframe tbody tr th:only-of-type {\n",
       "        vertical-align: middle;\n",
       "    }\n",
       "\n",
       "    .dataframe tbody tr th {\n",
       "        vertical-align: top;\n",
       "    }\n",
       "\n",
       "    .dataframe thead th {\n",
       "        text-align: right;\n",
       "    }\n",
       "</style>\n",
       "<table border=\"1\" class=\"dataframe\">\n",
       "  <thead>\n",
       "    <tr style=\"text-align: right;\">\n",
       "      <th>Student Group</th>\n",
       "      <th></th>\n",
       "      <th>African American</th>\n",
       "      <th>English Learner</th>\n",
       "      <th>Hispanic</th>\n",
       "      <th>White</th>\n",
       "      <th>Asian</th>\n",
       "    </tr>\n",
       "  </thead>\n",
       "  <tbody>\n",
       "    <tr>\n",
       "      <th>0</th>\n",
       "      <td>2019-20</td>\n",
       "      <td>48.297117</td>\n",
       "      <td>31.587858</td>\n",
       "      <td>51.385985</td>\n",
       "      <td>72.459255</td>\n",
       "      <td>78.243021</td>\n",
       "    </tr>\n",
       "    <tr>\n",
       "      <th>1</th>\n",
       "      <td>2020-21</td>\n",
       "      <td>42.486646</td>\n",
       "      <td>26.089621</td>\n",
       "      <td>43.306432</td>\n",
       "      <td>70.233166</td>\n",
       "      <td>78.684323</td>\n",
       "    </tr>\n",
       "  </tbody>\n",
       "</table>\n",
       "</div>"
      ],
      "text/plain": [
       "Student Group           African American  English Learner   Hispanic  \\\n",
       "0              2019-20         48.297117        31.587858  51.385985   \n",
       "1              2020-21         42.486646        26.089621  43.306432   \n",
       "\n",
       "Student Group      White      Asian  \n",
       "0              72.459255  78.243021  \n",
       "1              70.233166  78.684323  "
      ]
     },
     "execution_count": 17,
     "metadata": {},
     "output_type": "execute_result"
    }
   ],
   "source": [
    "dibels_chart_trim"
   ]
  },
  {
   "cell_type": "code",
   "execution_count": 18,
   "id": "df8c41bd-e2f7-4d68-b165-1f95e8c58e12",
   "metadata": {},
   "outputs": [
    {
     "data": {
      "text/html": [
       "\n",
       "<div id=\"altair-viz-7bcf2c83979441ecb49310c8d905d413\"></div>\n",
       "<script type=\"text/javascript\">\n",
       "  (function(spec, embedOpt){\n",
       "    let outputDiv = document.currentScript.previousElementSibling;\n",
       "    if (outputDiv.id !== \"altair-viz-7bcf2c83979441ecb49310c8d905d413\") {\n",
       "      outputDiv = document.getElementById(\"altair-viz-7bcf2c83979441ecb49310c8d905d413\");\n",
       "    }\n",
       "    const paths = {\n",
       "      \"vega\": \"https://cdn.jsdelivr.net/npm//vega@5?noext\",\n",
       "      \"vega-lib\": \"https://cdn.jsdelivr.net/npm//vega-lib?noext\",\n",
       "      \"vega-lite\": \"https://cdn.jsdelivr.net/npm//vega-lite@4.8.1?noext\",\n",
       "      \"vega-embed\": \"https://cdn.jsdelivr.net/npm//vega-embed@6?noext\",\n",
       "    };\n",
       "\n",
       "    function loadScript(lib) {\n",
       "      return new Promise(function(resolve, reject) {\n",
       "        var s = document.createElement('script');\n",
       "        s.src = paths[lib];\n",
       "        s.async = true;\n",
       "        s.onload = () => resolve(paths[lib]);\n",
       "        s.onerror = () => reject(`Error loading script: ${paths[lib]}`);\n",
       "        document.getElementsByTagName(\"head\")[0].appendChild(s);\n",
       "      });\n",
       "    }\n",
       "\n",
       "    function showError(err) {\n",
       "      outputDiv.innerHTML = `<div class=\"error\" style=\"color:red;\">${err}</div>`;\n",
       "      throw err;\n",
       "    }\n",
       "\n",
       "    function displayChart(vegaEmbed) {\n",
       "      vegaEmbed(outputDiv, spec, embedOpt)\n",
       "        .catch(err => showError(`Javascript Error: ${err.message}<br>This usually means there's a typo in your chart specification. See the javascript console for the full traceback.`));\n",
       "    }\n",
       "\n",
       "    if(typeof define === \"function\" && define.amd) {\n",
       "      requirejs.config({paths});\n",
       "      require([\"vega-embed\"], displayChart, err => showError(`Error loading script: ${err.message}`));\n",
       "    } else if (typeof vegaEmbed === \"function\") {\n",
       "      displayChart(vegaEmbed);\n",
       "    } else {\n",
       "      loadScript(\"vega\")\n",
       "        .then(() => loadScript(\"vega-lite\"))\n",
       "        .then(() => loadScript(\"vega-embed\"))\n",
       "        .catch(showError)\n",
       "        .then(() => displayChart(vegaEmbed));\n",
       "    }\n",
       "  })({\"config\": {\"view\": {\"continuousWidth\": 400, \"continuousHeight\": 300, \"stroke\": \"transparent\"}}, \"data\": {\"name\": \"data-9d0fc8f52ab6cfa173c8e04962bd76da\"}, \"mark\": \"point\", \"encoding\": {\"color\": {\"type\": \"nominal\", \"field\": \"SchoolYear\", \"legend\": {\"title\": \"Year\"}}, \"x\": {\"type\": \"quantitative\", \"axis\": {\"grid\": false}, \"field\": \"met_or_above_pct\", \"scale\": {\"zero\": false}, \"title\": \"Met or above %\"}, \"y\": {\"type\": \"nominal\", \"axis\": {\"grid\": true}, \"field\": \"Student Group\", \"sort\": \"x\", \"title\": \"\"}}, \"height\": {\"step\": 20}, \"title\": \"2019/ 2020 comparison\", \"$schema\": \"https://vega.github.io/schema/vega-lite/v4.8.1.json\", \"datasets\": {\"data-9d0fc8f52ab6cfa173c8e04962bd76da\": [{\"SchoolYear\": \"2019-20\", \"DIBELSTestAdministration\": \"2 MOY\", \"Student Group\": \"All\", \"ABOVEBENCHMARK\": 58327, \"BENCHMARK\": 62341, \"BELOWBENCHMARK\": 37760, \"WELLBELOWBENCHMARK\": 59027, \"Total Tested\": 217455, \"% ABOVEBENCHMARK\": \"27%\", \"%BENCHMARK\": \"29%\", \"% BELOWBENCHMARK\": \"17%\", \"% WELLBELOWBENCHMARK\": \"27%\", \"met_or_above\": 120668, \"below_benchmark\": 96787, \"met_or_above_pct\": 55.49102113080867, \"below_benchmark_pct\": 44.50897886919133, \"met_or_above_change\": null, \"below_benchmark_change\": null}, {\"SchoolYear\": \"2020-21\", \"DIBELSTestAdministration\": \"2 MOY\", \"Student Group\": \"All\", \"ABOVEBENCHMARK\": 46511, \"BENCHMARK\": 53713, \"BELOWBENCHMARK\": 29033, \"WELLBELOWBENCHMARK\": 76003, \"Total Tested\": 205260, \"% ABOVEBENCHMARK\": \"23%\", \"%BENCHMARK\": \"26%\", \"% BELOWBENCHMARK\": \"14%\", \"% WELLBELOWBENCHMARK\": \"37%\", \"met_or_above\": 100224, \"below_benchmark\": 105036, \"met_or_above_pct\": 48.82782812043262, \"below_benchmark_pct\": 51.17217187956737, \"met_or_above_change\": -6.663193010376048, \"below_benchmark_change\": 6.663193010376041}, {\"SchoolYear\": \"2019-20\", \"DIBELSTestAdministration\": \"2 MOY\", \"Student Group\": \"African American\", \"ABOVEBENCHMARK\": 3540, \"BENCHMARK\": 4217, \"BELOWBENCHMARK\": 2944, \"WELLBELOWBENCHMARK\": 5360, \"Total Tested\": 16061, \"% ABOVEBENCHMARK\": \"22%\", \"%BENCHMARK\": \"26%\", \"% BELOWBENCHMARK\": \"18%\", \"% WELLBELOWBENCHMARK\": \"33%\", \"met_or_above\": 7757, \"below_benchmark\": 8304, \"met_or_above_pct\": 48.297117240520514, \"below_benchmark_pct\": 51.702882759479486, \"met_or_above_change\": null, \"below_benchmark_change\": null}, {\"SchoolYear\": \"2020-21\", \"DIBELSTestAdministration\": \"2 MOY\", \"Student Group\": \"African American\", \"ABOVEBENCHMARK\": 2588, \"BENCHMARK\": 3457, \"BELOWBENCHMARK\": 2039, \"WELLBELOWBENCHMARK\": 6144, \"Total Tested\": 14228, \"% ABOVEBENCHMARK\": \"18%\", \"%BENCHMARK\": \"24%\", \"% BELOWBENCHMARK\": \"14%\", \"% WELLBELOWBENCHMARK\": \"43%\", \"met_or_above\": 6045, \"below_benchmark\": 8183, \"met_or_above_pct\": 42.48664605004217, \"below_benchmark_pct\": 57.51335394995783, \"met_or_above_change\": -5.810471190478346, \"below_benchmark_change\": 5.810471190478346}, {\"SchoolYear\": \"2019-20\", \"DIBELSTestAdministration\": \"2 MOY\", \"Student Group\": \"American Indian /Alaska Native\", \"ABOVEBENCHMARK\": 46, \"BENCHMARK\": 43, \"BELOWBENCHMARK\": 31, \"WELLBELOWBENCHMARK\": 45, \"Total Tested\": 165, \"% ABOVEBENCHMARK\": \"28%\", \"%BENCHMARK\": \"26%\", \"% BELOWBENCHMARK\": \"19%\", \"% WELLBELOWBENCHMARK\": \"27%\", \"met_or_above\": 89, \"below_benchmark\": 76, \"met_or_above_pct\": 53.939393939393945, \"below_benchmark_pct\": 46.06060606060606, \"met_or_above_change\": null, \"below_benchmark_change\": null}, {\"SchoolYear\": \"2020-21\", \"DIBELSTestAdministration\": \"2 MOY\", \"Student Group\": \"American Indian /Alaska Native\", \"ABOVEBENCHMARK\": 26, \"BENCHMARK\": 44, \"BELOWBENCHMARK\": 28, \"WELLBELOWBENCHMARK\": 51, \"Total Tested\": 149, \"% ABOVEBENCHMARK\": \"17%\", \"%BENCHMARK\": \"30%\", \"% BELOWBENCHMARK\": \"19%\", \"% WELLBELOWBENCHMARK\": \"34%\", \"met_or_above\": 70, \"below_benchmark\": 79, \"met_or_above_pct\": 46.97986577181208, \"below_benchmark_pct\": 53.02013422818792, \"met_or_above_change\": -6.959528167581865, \"below_benchmark_change\": 6.959528167581858}, {\"SchoolYear\": \"2019-20\", \"DIBELSTestAdministration\": \"2 MOY\", \"Student Group\": \"Asian\", \"ABOVEBENCHMARK\": 3704, \"BENCHMARK\": 2014, \"BELOWBENCHMARK\": 754, \"WELLBELOWBENCHMARK\": 836, \"Total Tested\": 7308, \"% ABOVEBENCHMARK\": \"51%\", \"%BENCHMARK\": \"28%\", \"% BELOWBENCHMARK\": \"10%\", \"% WELLBELOWBENCHMARK\": \"11%\", \"met_or_above\": 5718, \"below_benchmark\": 1590, \"met_or_above_pct\": 78.24302134646962, \"below_benchmark_pct\": 21.75697865353038, \"met_or_above_change\": null, \"below_benchmark_change\": null}, {\"SchoolYear\": \"2020-21\", \"DIBELSTestAdministration\": \"2 MOY\", \"Student Group\": \"Asian\", \"ABOVEBENCHMARK\": 3651, \"BENCHMARK\": 1875, \"BELOWBENCHMARK\": 629, \"WELLBELOWBENCHMARK\": 868, \"Total Tested\": 7023, \"% ABOVEBENCHMARK\": \"52%\", \"%BENCHMARK\": \"27%\", \"% BELOWBENCHMARK\": \"9%\", \"% WELLBELOWBENCHMARK\": \"12%\", \"met_or_above\": 5526, \"below_benchmark\": 1497, \"met_or_above_pct\": 78.684322938915, \"below_benchmark_pct\": 21.315677061085005, \"met_or_above_change\": 0.44130159244538447, \"below_benchmark_change\": -0.4413015924453738}, {\"SchoolYear\": \"2019-20\", \"DIBELSTestAdministration\": \"2 MOY\", \"Student Group\": \"Filipino\", \"ABOVEBENCHMARK\": 1510, \"BENCHMARK\": 1106, \"BELOWBENCHMARK\": 341, \"WELLBELOWBENCHMARK\": 340, \"Total Tested\": 3297, \"% ABOVEBENCHMARK\": \"46%\", \"%BENCHMARK\": \"34%\", \"% BELOWBENCHMARK\": \"10%\", \"% WELLBELOWBENCHMARK\": \"10%\", \"met_or_above\": 2616, \"below_benchmark\": 681, \"met_or_above_pct\": 79.34485896269335, \"below_benchmark_pct\": 20.65514103730664, \"met_or_above_change\": null, \"below_benchmark_change\": null}, {\"SchoolYear\": \"2020-21\", \"DIBELSTestAdministration\": \"2 MOY\", \"Student Group\": \"Filipino\", \"ABOVEBENCHMARK\": 1521, \"BENCHMARK\": 1019, \"BELOWBENCHMARK\": 368, \"WELLBELOWBENCHMARK\": 401, \"Total Tested\": 3309, \"% ABOVEBENCHMARK\": \"46%\", \"%BENCHMARK\": \"31%\", \"% BELOWBENCHMARK\": \"11%\", \"% WELLBELOWBENCHMARK\": \"12%\", \"met_or_above\": 2540, \"below_benchmark\": 769, \"met_or_above_pct\": 76.76035055908129, \"below_benchmark_pct\": 23.239649440918704, \"met_or_above_change\": -2.5845084036120625, \"below_benchmark_change\": 2.5845084036120625}, {\"SchoolYear\": \"2019-20\", \"DIBELSTestAdministration\": \"2 MOY\", \"Student Group\": \"Hispanic\", \"ABOVEBENCHMARK\": 36191, \"BENCHMARK\": 45412, \"BELOWBENCHMARK\": 29497, \"WELLBELOWBENCHMARK\": 47704, \"Total Tested\": 158804, \"% ABOVEBENCHMARK\": \"23%\", \"%BENCHMARK\": \"29%\", \"% BELOWBENCHMARK\": \"19%\", \"% WELLBELOWBENCHMARK\": \"30%\", \"met_or_above\": 81603, \"below_benchmark\": 77201, \"met_or_above_pct\": 51.38598523966651, \"below_benchmark_pct\": 48.61401476033349, \"met_or_above_change\": null, \"below_benchmark_change\": null}, {\"SchoolYear\": \"2020-21\", \"DIBELSTestAdministration\": \"2 MOY\", \"Student Group\": \"Hispanic\", \"ABOVEBENCHMARK\": 26404, \"BENCHMARK\": 38686, \"BELOWBENCHMARK\": 22299, \"WELLBELOWBENCHMARK\": 62912, \"Total Tested\": 150301, \"% ABOVEBENCHMARK\": \"18%\", \"%BENCHMARK\": \"26%\", \"% BELOWBENCHMARK\": \"15%\", \"% WELLBELOWBENCHMARK\": \"42%\", \"met_or_above\": 65090, \"below_benchmark\": 85211, \"met_or_above_pct\": 43.30643176026773, \"below_benchmark_pct\": 56.69356823973227, \"met_or_above_change\": -8.079553479398783, \"below_benchmark_change\": 8.079553479398783}, {\"SchoolYear\": \"2019-20\", \"DIBELSTestAdministration\": \"2 MOY\", \"Student Group\": \"Other (Ethnicity)\", \"ABOVEBENCHMARK\": 162, \"BENCHMARK\": 194, \"BELOWBENCHMARK\": 154, \"WELLBELOWBENCHMARK\": 205, \"Total Tested\": 715, \"% ABOVEBENCHMARK\": \"23%\", \"%BENCHMARK\": \"27%\", \"% BELOWBENCHMARK\": \"22%\", \"% WELLBELOWBENCHMARK\": \"29%\", \"met_or_above\": 356, \"below_benchmark\": 359, \"met_or_above_pct\": 49.790209790209786, \"below_benchmark_pct\": 50.20979020979021, \"met_or_above_change\": null, \"below_benchmark_change\": null}, {\"SchoolYear\": \"2020-21\", \"DIBELSTestAdministration\": \"2 MOY\", \"Student Group\": \"Other (Ethnicity)\", \"ABOVEBENCHMARK\": 195, \"BENCHMARK\": 218, \"BELOWBENCHMARK\": 159, \"WELLBELOWBENCHMARK\": 366, \"Total Tested\": 938, \"% ABOVEBENCHMARK\": \"21%\", \"%BENCHMARK\": \"23%\", \"% BELOWBENCHMARK\": \"17%\", \"% WELLBELOWBENCHMARK\": \"39%\", \"met_or_above\": 413, \"below_benchmark\": 525, \"met_or_above_pct\": 44.02985074626866, \"below_benchmark_pct\": 55.970149253731336, \"met_or_above_change\": -5.760359043941129, \"below_benchmark_change\": 5.760359043941129}, {\"SchoolYear\": \"2019-20\", \"DIBELSTestAdministration\": \"2 MOY\", \"Student Group\": \"Pacific Islander\", \"ABOVEBENCHMARK\": 114, \"BENCHMARK\": 117, \"BELOWBENCHMARK\": 66, \"WELLBELOWBENCHMARK\": 74, \"Total Tested\": 371, \"% ABOVEBENCHMARK\": \"31%\", \"%BENCHMARK\": \"32%\", \"% BELOWBENCHMARK\": \"18%\", \"% WELLBELOWBENCHMARK\": \"20%\", \"met_or_above\": 231, \"below_benchmark\": 140, \"met_or_above_pct\": 62.264150943396224, \"below_benchmark_pct\": 37.735849056603776, \"met_or_above_change\": null, \"below_benchmark_change\": null}, {\"SchoolYear\": \"2020-21\", \"DIBELSTestAdministration\": \"2 MOY\", \"Student Group\": \"Pacific Islander\", \"ABOVEBENCHMARK\": 94, \"BENCHMARK\": 99, \"BELOWBENCHMARK\": 59, \"WELLBELOWBENCHMARK\": 106, \"Total Tested\": 358, \"% ABOVEBENCHMARK\": \"26%\", \"%BENCHMARK\": \"28%\", \"% BELOWBENCHMARK\": \"16%\", \"% WELLBELOWBENCHMARK\": \"30%\", \"met_or_above\": 193, \"below_benchmark\": 165, \"met_or_above_pct\": 53.910614525139664, \"below_benchmark_pct\": 46.089385474860336, \"met_or_above_change\": -8.35353641825656, \"below_benchmark_change\": 8.35353641825656}, {\"SchoolYear\": \"2019-20\", \"DIBELSTestAdministration\": \"2 MOY\", \"Student Group\": \"Two or More (Ethnicity)\", \"ABOVEBENCHMARK\": 2608, \"BENCHMARK\": 1773, \"BELOWBENCHMARK\": 730, \"WELLBELOWBENCHMARK\": 896, \"Total Tested\": 6007, \"% ABOVEBENCHMARK\": \"43%\", \"%BENCHMARK\": \"30%\", \"% BELOWBENCHMARK\": \"12%\", \"% WELLBELOWBENCHMARK\": \"15%\", \"met_or_above\": 4381, \"below_benchmark\": 1626, \"met_or_above_pct\": 72.93157982353921, \"below_benchmark_pct\": 27.068420176460794, \"met_or_above_change\": null, \"below_benchmark_change\": null}, {\"SchoolYear\": \"2020-21\", \"DIBELSTestAdministration\": \"2 MOY\", \"Student Group\": \"Two or More (Ethnicity)\", \"ABOVEBENCHMARK\": 2589, \"BENCHMARK\": 1643, \"BELOWBENCHMARK\": 687, \"WELLBELOWBENCHMARK\": 1090, \"Total Tested\": 6009, \"% ABOVEBENCHMARK\": \"43%\", \"%BENCHMARK\": \"27%\", \"% BELOWBENCHMARK\": \"11%\", \"% WELLBELOWBENCHMARK\": \"18%\", \"met_or_above\": 4232, \"below_benchmark\": 1777, \"met_or_above_pct\": 70.42769179563987, \"below_benchmark_pct\": 29.572308204360127, \"met_or_above_change\": -2.503888027899336, \"below_benchmark_change\": 2.5038880278993325}, {\"SchoolYear\": \"2019-20\", \"DIBELSTestAdministration\": \"2 MOY\", \"Student Group\": \"White\", \"ABOVEBENCHMARK\": 10452, \"BENCHMARK\": 7465, \"BELOWBENCHMARK\": 3243, \"WELLBELOWBENCHMARK\": 3567, \"Total Tested\": 24727, \"% ABOVEBENCHMARK\": \"42%\", \"%BENCHMARK\": \"30%\", \"% BELOWBENCHMARK\": \"13%\", \"% WELLBELOWBENCHMARK\": \"14%\", \"met_or_above\": 17917, \"below_benchmark\": 6810, \"met_or_above_pct\": 72.45925506531322, \"below_benchmark_pct\": 27.540744934686778, \"met_or_above_change\": null, \"below_benchmark_change\": null}, {\"SchoolYear\": \"2020-21\", \"DIBELSTestAdministration\": \"2 MOY\", \"Student Group\": \"White\", \"ABOVEBENCHMARK\": 9443, \"BENCHMARK\": 6672, \"BELOWBENCHMARK\": 2765, \"WELLBELOWBENCHMARK\": 4065, \"Total Tested\": 22945, \"% ABOVEBENCHMARK\": \"41%\", \"%BENCHMARK\": \"29%\", \"% BELOWBENCHMARK\": \"12%\", \"% WELLBELOWBENCHMARK\": \"18%\", \"met_or_above\": 16115, \"below_benchmark\": 6830, \"met_or_above_pct\": 70.2331662671606, \"below_benchmark_pct\": 29.766833732839398, \"met_or_above_change\": -2.2260887981526167, \"below_benchmark_change\": 2.2260887981526203}, {\"SchoolYear\": \"2019-20\", \"DIBELSTestAdministration\": \"2 MOY\", \"Student Group\": \"English Learner\", \"ABOVEBENCHMARK\": 6949, \"BENCHMARK\": 11709, \"BELOWBENCHMARK\": 11358, \"WELLBELOWBENCHMARK\": 29051, \"Total Tested\": 59067, \"% ABOVEBENCHMARK\": \"12%\", \"%BENCHMARK\": \"20%\", \"% BELOWBENCHMARK\": \"19%\", \"% WELLBELOWBENCHMARK\": \"49%\", \"met_or_above\": 18658, \"below_benchmark\": 40409, \"met_or_above_pct\": 31.58785785633264, \"below_benchmark_pct\": 68.41214214366737, \"met_or_above_change\": null, \"below_benchmark_change\": null}, {\"SchoolYear\": \"2020-21\", \"DIBELSTestAdministration\": \"2 MOY\", \"Student Group\": \"English Learner\", \"ABOVEBENCHMARK\": 4620, \"BENCHMARK\": 10279, \"BELOWBENCHMARK\": 8080, \"WELLBELOWBENCHMARK\": 34128, \"Total Tested\": 57107, \"% ABOVEBENCHMARK\": \"8%\", \"%BENCHMARK\": \"18%\", \"% BELOWBENCHMARK\": \"14%\", \"% WELLBELOWBENCHMARK\": \"60%\", \"met_or_above\": 14899, \"below_benchmark\": 42208, \"met_or_above_pct\": 26.089621237326423, \"below_benchmark_pct\": 73.91037876267357, \"met_or_above_change\": -5.498236619006217, \"below_benchmark_change\": 5.498236619006207}, {\"SchoolYear\": \"2019-20\", \"DIBELSTestAdministration\": \"2 MOY\", \"Student Group\": \"Grade 1\", \"ABOVEBENCHMARK\": 17025, \"BENCHMARK\": 5866, \"BELOWBENCHMARK\": 4700, \"WELLBELOWBENCHMARK\": 8834, \"Total Tested\": 36425, \"% ABOVEBENCHMARK\": \"47%\", \"%BENCHMARK\": \"16%\", \"% BELOWBENCHMARK\": \"13%\", \"% WELLBELOWBENCHMARK\": \"24%\", \"met_or_above\": 22891, \"below_benchmark\": 13534, \"met_or_above_pct\": 62.844200411805076, \"below_benchmark_pct\": 37.155799588194924, \"met_or_above_change\": null, \"below_benchmark_change\": null}, {\"SchoolYear\": \"2020-21\", \"DIBELSTestAdministration\": \"2 MOY\", \"Student Group\": \"Grade 1\", \"ABOVEBENCHMARK\": 7668, \"BENCHMARK\": 7853, \"BELOWBENCHMARK\": 4115, \"WELLBELOWBENCHMARK\": 14224, \"Total Tested\": 33860, \"% ABOVEBENCHMARK\": \"23%\", \"%BENCHMARK\": \"23%\", \"% BELOWBENCHMARK\": \"12%\", \"% WELLBELOWBENCHMARK\": \"42%\", \"met_or_above\": 15521, \"below_benchmark\": 18339, \"met_or_above_pct\": 45.83874778499705, \"below_benchmark_pct\": 54.16125221500295, \"met_or_above_change\": -17.00545262680803, \"below_benchmark_change\": 17.00545262680803}, {\"SchoolYear\": \"2019-20\", \"DIBELSTestAdministration\": \"2 MOY\", \"Student Group\": \"Grade 2\", \"ABOVEBENCHMARK\": 5817, \"BENCHMARK\": 18200, \"BELOWBENCHMARK\": 3661, \"WELLBELOWBENCHMARK\": 9477, \"Total Tested\": 37155, \"% ABOVEBENCHMARK\": \"16%\", \"%BENCHMARK\": \"49%\", \"% BELOWBENCHMARK\": \"10%\", \"% WELLBELOWBENCHMARK\": \"26%\", \"met_or_above\": 24017, \"below_benchmark\": 13138, \"met_or_above_pct\": 64.64002153142242, \"below_benchmark_pct\": 35.35997846857758, \"met_or_above_change\": null, \"below_benchmark_change\": null}, {\"SchoolYear\": \"2020-21\", \"DIBELSTestAdministration\": \"2 MOY\", \"Student Group\": \"Grade 2\", \"ABOVEBENCHMARK\": 9056, \"BENCHMARK\": 9139, \"BELOWBENCHMARK\": 4476, \"WELLBELOWBENCHMARK\": 11258, \"Total Tested\": 33929, \"% ABOVEBENCHMARK\": \"27%\", \"%BENCHMARK\": \"27%\", \"% BELOWBENCHMARK\": \"13%\", \"% WELLBELOWBENCHMARK\": \"33%\", \"met_or_above\": 18195, \"below_benchmark\": 15734, \"met_or_above_pct\": 53.62669103127118, \"below_benchmark_pct\": 46.373308968728814, \"met_or_above_change\": -11.013330500151241, \"below_benchmark_change\": 11.013330500151234}, {\"SchoolYear\": \"2019-20\", \"DIBELSTestAdministration\": \"2 MOY\", \"Student Group\": \"Grade 3\", \"ABOVEBENCHMARK\": 6537, \"BENCHMARK\": 13581, \"BELOWBENCHMARK\": 4892, \"WELLBELOWBENCHMARK\": 9795, \"Total Tested\": 34805, \"% ABOVEBENCHMARK\": \"19%\", \"%BENCHMARK\": \"39%\", \"% BELOWBENCHMARK\": \"14%\", \"% WELLBELOWBENCHMARK\": \"28%\", \"met_or_above\": 20118, \"below_benchmark\": 14687, \"met_or_above_pct\": 57.80203993679069, \"below_benchmark_pct\": 42.19796006320931, \"met_or_above_change\": null, \"below_benchmark_change\": null}, {\"SchoolYear\": \"2020-21\", \"DIBELSTestAdministration\": \"2 MOY\", \"Student Group\": \"Grade 3\", \"ABOVEBENCHMARK\": 7878, \"BENCHMARK\": 9847, \"BELOWBENCHMARK\": 4500, \"WELLBELOWBENCHMARK\": 11089, \"Total Tested\": 33314, \"% ABOVEBENCHMARK\": \"24%\", \"%BENCHMARK\": \"30%\", \"% BELOWBENCHMARK\": \"14%\", \"% WELLBELOWBENCHMARK\": \"33%\", \"met_or_above\": 17725, \"below_benchmark\": 15589, \"met_or_above_pct\": 53.2058593984511, \"below_benchmark_pct\": 46.794140601548904, \"met_or_above_change\": -4.596180538339588, \"below_benchmark_change\": 4.5961805383395955}, {\"SchoolYear\": \"2019-20\", \"DIBELSTestAdministration\": \"2 MOY\", \"Student Group\": \"Grade 4\", \"ABOVEBENCHMARK\": 6943, \"BENCHMARK\": 8096, \"BELOWBENCHMARK\": 11391, \"WELLBELOWBENCHMARK\": 7426, \"Total Tested\": 33856, \"% ABOVEBENCHMARK\": \"21%\", \"%BENCHMARK\": \"24%\", \"% BELOWBENCHMARK\": \"34%\", \"% WELLBELOWBENCHMARK\": \"22%\", \"met_or_above\": 15039, \"below_benchmark\": 18817, \"met_or_above_pct\": 44.420486767485826, \"below_benchmark_pct\": 55.579513232514174, \"met_or_above_change\": null, \"below_benchmark_change\": null}, {\"SchoolYear\": \"2020-21\", \"DIBELSTestAdministration\": \"2 MOY\", \"Student Group\": \"Grade 4\", \"ABOVEBENCHMARK\": 8951, \"BENCHMARK\": 10218, \"BELOWBENCHMARK\": 5352, \"WELLBELOWBENCHMARK\": 9630, \"Total Tested\": 34151, \"% ABOVEBENCHMARK\": \"26%\", \"%BENCHMARK\": \"30%\", \"% BELOWBENCHMARK\": \"16%\", \"% WELLBELOWBENCHMARK\": \"28%\", \"met_or_above\": 19169, \"below_benchmark\": 14982, \"met_or_above_pct\": 56.13012796111387, \"below_benchmark_pct\": 43.86987203888612, \"met_or_above_change\": 11.709641193628045, \"below_benchmark_change\": -11.709641193628052}, {\"SchoolYear\": \"2019-20\", \"DIBELSTestAdministration\": \"2 MOY\", \"Student Group\": \"Grade 5\", \"ABOVEBENCHMARK\": 9629, \"BENCHMARK\": 7587, \"BELOWBENCHMARK\": 6983, \"WELLBELOWBENCHMARK\": 8644, \"Total Tested\": 32843, \"% ABOVEBENCHMARK\": \"29%\", \"%BENCHMARK\": \"23%\", \"% BELOWBENCHMARK\": \"21%\", \"% WELLBELOWBENCHMARK\": \"26%\", \"met_or_above\": 17216, \"below_benchmark\": 15627, \"met_or_above_pct\": 52.41908473647352, \"below_benchmark_pct\": 47.58091526352647, \"met_or_above_change\": null, \"below_benchmark_change\": null}, {\"SchoolYear\": \"2020-21\", \"DIBELSTestAdministration\": \"2 MOY\", \"Student Group\": \"Grade 5\", \"ABOVEBENCHMARK\": 6545, \"BENCHMARK\": 10120, \"BELOWBENCHMARK\": 5271, \"WELLBELOWBENCHMARK\": 11324, \"Total Tested\": 33260, \"% ABOVEBENCHMARK\": \"20%\", \"%BENCHMARK\": \"30%\", \"% BELOWBENCHMARK\": \"16%\", \"% WELLBELOWBENCHMARK\": \"34%\", \"met_or_above\": 16665, \"below_benchmark\": 16595, \"met_or_above_pct\": 50.105231509320504, \"below_benchmark_pct\": 49.894768490679496, \"met_or_above_change\": -2.313853227153018, \"below_benchmark_change\": 2.313853227153025}, {\"SchoolYear\": \"2019-20\", \"DIBELSTestAdministration\": \"2 MOY\", \"Student Group\": \"Grade K\", \"ABOVEBENCHMARK\": 11231, \"BENCHMARK\": 8066, \"BELOWBENCHMARK\": 4737, \"WELLBELOWBENCHMARK\": 11145, \"Total Tested\": 35179, \"% ABOVEBENCHMARK\": \"32%\", \"%BENCHMARK\": \"23%\", \"% BELOWBENCHMARK\": \"13%\", \"% WELLBELOWBENCHMARK\": \"32%\", \"met_or_above\": 19297, \"below_benchmark\": 15882, \"met_or_above_pct\": 54.853747974643966, \"below_benchmark_pct\": 45.146252025356034, \"met_or_above_change\": null, \"below_benchmark_change\": null}, {\"SchoolYear\": \"2020-21\", \"DIBELSTestAdministration\": \"2 MOY\", \"Student Group\": \"Grade K\", \"ABOVEBENCHMARK\": 5828, \"BENCHMARK\": 5441, \"BELOWBENCHMARK\": 4471, \"WELLBELOWBENCHMARK\": 15195, \"Total Tested\": 30935, \"% ABOVEBENCHMARK\": \"19%\", \"%BENCHMARK\": \"18%\", \"% BELOWBENCHMARK\": \"14%\", \"% WELLBELOWBENCHMARK\": \"49%\", \"met_or_above\": 11269, \"below_benchmark\": 19666, \"met_or_above_pct\": 36.42799418134799, \"below_benchmark_pct\": 63.57200581865201, \"met_or_above_change\": -18.425753793295975, \"below_benchmark_change\": 18.425753793295975}, {\"SchoolYear\": \"2019-20\", \"DIBELSTestAdministration\": \"2 MOY\", \"Student Group\": \"Grade TK\", \"ABOVEBENCHMARK\": 330, \"BENCHMARK\": 536, \"BELOWBENCHMARK\": 443, \"WELLBELOWBENCHMARK\": 2151, \"Total Tested\": 3460, \"% ABOVEBENCHMARK\": \"10%\", \"%BENCHMARK\": \"15%\", \"% BELOWBENCHMARK\": \"13%\", \"% WELLBELOWBENCHMARK\": \"62%\", \"met_or_above\": 866, \"below_benchmark\": 2594, \"met_or_above_pct\": 25.028901734104046, \"below_benchmark_pct\": 74.97109826589595, \"met_or_above_change\": null, \"below_benchmark_change\": null}, {\"SchoolYear\": \"2020-21\", \"DIBELSTestAdministration\": \"2 MOY\", \"Student Group\": \"Grade TK\", \"ABOVEBENCHMARK\": 139, \"BENCHMARK\": 204, \"BELOWBENCHMARK\": 240, \"WELLBELOWBENCHMARK\": 1611, \"Total Tested\": 2194, \"% ABOVEBENCHMARK\": \"6%\", \"%BENCHMARK\": \"9%\", \"% BELOWBENCHMARK\": \"11%\", \"% WELLBELOWBENCHMARK\": \"73%\", \"met_or_above\": 343, \"below_benchmark\": 1851, \"met_or_above_pct\": 15.633546034639927, \"below_benchmark_pct\": 84.36645396536008, \"met_or_above_change\": -9.395355699464119, \"below_benchmark_change\": 9.395355699464133}]}}, {\"mode\": \"vega-lite\"});\n",
       "</script>"
      ],
      "text/plain": [
       "alt.Chart(...)"
      ]
     },
     "execution_count": 18,
     "metadata": {},
     "output_type": "execute_result"
    }
   ],
   "source": [
    "alt.Chart(dibels_combined, title=\"2019/ 2020 comparison\").mark_point().encode(\n",
    "    alt.X(\n",
    "        'met_or_above_pct:Q',\n",
    "        title=\"Met or above %\",\n",
    "        scale=alt.Scale(zero=False),\n",
    "        axis=alt.Axis(grid=False)\n",
    "    ),\n",
    "    alt.Y(\n",
    "        'Student Group:N',\n",
    "        title=\"\",\n",
    "        sort='x',\n",
    "        axis=alt.Axis(grid=True)\n",
    "    ),\n",
    "    color=alt.Color('SchoolYear:N', legend=alt.Legend(title=\"Year\")),\n",
    ").properties(\n",
    "    height=alt.Step(20)\n",
    ").configure_view(stroke=\"transparent\")"
   ]
  }
 ],
 "metadata": {
  "kernelspec": {
   "display_name": "Python 3 (ipykernel)",
   "language": "python",
   "name": "python3"
  },
  "language_info": {
   "codemirror_mode": {
    "name": "ipython",
    "version": 3
   },
   "file_extension": ".py",
   "mimetype": "text/x-python",
   "name": "python",
   "nbconvert_exporter": "python",
   "pygments_lexer": "ipython3",
   "version": "3.9.6"
  }
 },
 "nbformat": 4,
 "nbformat_minor": 5
}
